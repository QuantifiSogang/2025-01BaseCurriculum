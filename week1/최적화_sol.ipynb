{
 "cells": [
  {
   "cell_type": "markdown",
   "metadata": {
    "school_cell_uuid": "306176975578406487be0801a4e3fef8"
   },
   "source": [
    "## 최적화 기초"
   ]
  },
  {
   "cell_type": "markdown",
   "metadata": {},
   "source": [
    "데이터 분석의 최종 단계는 주어진 함수값을 극대화/극소화하는 최적의 변수값을 알아내는 것이다. 이를 위해 가장 기본적인 유형의 최적화 문제와 이를 풀기위한 수치적인 방법을 공부한다."
   ]
  },
  {
   "cell_type": "markdown",
   "metadata": {
    "school_cell_uuid": "d86e7b6ab7584a89ae02b80868d1557c"
   },
   "source": [
    "### 최적화 문제"
   ]
  },
  {
   "cell_type": "markdown",
   "metadata": {
    "school_cell_uuid": "5d145dbe32c24e889f8452f3584d7878"
   },
   "source": [
    "최적화 문제는 함수 $f$의 값을 최대화 혹은 최소화하는 변수 $x$의 값 $x^{\\ast}$를 찾는 것이다. 수식으로는 다음처럼 쓴다.\n",
    "\n",
    "$$ \n",
    "\n",
    "x^{\\ast} = \\arg \\max_x f(x) \n",
    "\n",
    "$$\n",
    "\n",
    "또는\n",
    "\n",
    "$$ \n",
    "\n",
    "x^{\\ast} = \\arg \\min_x f(x) \n",
    "\n",
    "$$\n",
    "\n",
    "\n",
    "이 값 $x^{\\ast}$를 최적화 문제의 해(solution)라고 한다. 만약 최소화 문제를 풀 수 있다면 $f(x)$를 $-f(x)$로 바꾸어 위아래를 뒤집은 다음 최소화 문제를 풀면 $f(x)$의 최대화 문제를 푼 것과 같다. 따라서 보통은 최소화 문제만 고려한다.\n",
    "\n",
    "이때 최소화하려는 함수 $f(x)$를 **목적함수(objective function)**, **비용함수(cost function)**, **손실함수(loss function)** **오차함수(error function)** 등으로 부른다. 기호로는 각각 $J, C, L, E$로 표기하는 경우가 많다."
   ]
  },
  {
   "cell_type": "code",
   "execution_count": 1,
   "metadata": {},
   "outputs": [],
   "source": [
    "import pandas as pd\n",
    "import numpy as np\n",
    "import matplotlib.pyplot as plt\n",
    "\n",
    "plt.rcParams['font.family'] ='Malgun Gothic'\n",
    "plt.rcParams['axes.unicode_minus'] =False"
   ]
  },
  {
   "cell_type": "markdown",
   "metadata": {
    "school_cell_uuid": "da4039d2c9af4ff4a3a01e0846c69f7f"
   },
   "source": [
    "### 그리드 서치와 수치적 최적화"
   ]
  },
  {
   "cell_type": "markdown",
   "metadata": {
    "school_cell_uuid": "dccfa3f8b73d4b908384c00f82857bf0"
   },
   "source": [
    "목적함수의 값을 가장 작게 하는 $x$ 위치를 찾는 최적화 문제를 푸는 가장 간단한 방법은 가능한 $x$의 값을 여러개 넣어 보고 그중 가장 작은 값을 선택하는 **그리드 서치(grid search)** 방법이다. 함수 $f_1(x)$의 그래프를 그려 최저점을 찾은 방법도 그리드 서치 방법의 일종이다. \n",
    "그리드 서치는 가장 간단한 방법이지만 많은 $x$ 위치에 대해 목적함숫값을 계산해야 한다. 위에서 함수 $f_1(x)$의 최저점을 찾을 때는 사실 함수 계산을 100번 수행했다.\n",
    "\n",
    "예측 모형을 만들 때 목적함숫값, 즉 예측 오차를 구하려면 모든 트레이닝 데이터 집합에 대해 예측값과 타깃값의 차이를 구해야 하므로 계산량이 상당히 크다. 따라서 그리드 서치보다 목적함수 계산을 적게 할 수 있는 방법이 필요하다. \n",
    "\n",
    "반복적 시행 착오(trial and error)에 의해 최적화 필요조건을 만족하는 값 $x^{\\ast}$를 찾는 방법을 수치적 최적화(numerical optimization)라고 한다.  수치적 최적화 방법은 함수 위치가 최적점이 될 때까지 가능한 한 적은 횟수만큼 $x$ 위치를 옮기는 방법을 말한다.\n",
    "\n",
    "수치적 최적화 방법은 다음 두 가지 알고리즘을 요구한다.\n",
    "\n",
    "* 현재 위치 $x_k$가 최적점인지 판단하는 알고리즘\n",
    "* 어떤 위치 $x_k$를 시도한 뒤, 다음 번에 시도할 위치 $x_{k+1}$을 찾는 알고리즘\n"
   ]
  },
  {
   "cell_type": "markdown",
   "metadata": {
    "school_cell_uuid": "5d07d84c1cbe40b29ef43b3806fd6ae7"
   },
   "source": [
    "### 기울기 필요조건"
   ]
  },
  {
   "cell_type": "markdown",
   "metadata": {
    "school_cell_uuid": "a19bad7c6fef4715b984612ab745cad0"
   },
   "source": [
    "우선 현재 시도하고 있는 위치 $x$가 최소점인지 아닌지 알아내는 알고리즘을 생각해 보자. \n",
    "\n",
    "어떤 독립 변수 값 $x^{\\ast}$가 최소점이려면 일단 다음과 같이 값 $x^{\\ast}$에서 함수의 기울기(slope)와 도함수 $\\dfrac{df}{dx}$ 값이 0이라는 조건을 만족해야 한다. 이를 **기울기 필요조건**이라고 한다. \n",
    "\n",
    "단일 변수에 대한 함수인 경우, **미분값이 0이어야 한다.**\n",
    "\n",
    "$$ \n",
    "\\begin{align}\n",
    "\\dfrac{df(x)}{dx} = 0\n",
    "\\tag{5.1.4}\n",
    "\\end{align}\n",
    "$$\n",
    "\n",
    "\n",
    "다변수 함수인 경우 **모든 변수에 대한 편미분값이 0이어야 한다.**\n",
    "\n",
    "$$\n",
    "\\begin{align}\n",
    "\\dfrac{\\partial f(x_1, x_2, \\cdots , x_N)}{\\partial x_1} = 0\n",
    "\\tag{5.1.5}\n",
    "\\end{align}\n",
    "$$\n",
    "\n",
    "$$\n",
    "\\begin{align}\n",
    "\\dfrac{\\partial f(x_1, x_2, \\cdots , x_N)}{\\partial x_2} = 0\n",
    "\\tag{5.1.6}\n",
    "\\end{align}\n",
    "$$\n",
    "\n",
    "$$\n",
    "\\begin{align}\n",
    "\\vdots\n",
    "\\tag{5.1.7}\n",
    "\\end{align}\n",
    "$$\n",
    "\n",
    "$$\n",
    "\\begin{align}\n",
    "\\dfrac{\\partial f(x_1, x_2, \\cdots , x_N)}{\\partial x_N} = 0\n",
    "\\tag{5.1.8}\n",
    "\\end{align}\n",
    "$$\n",
    "\n",
    "즉\n",
    "\n",
    "$$ \n",
    "\\begin{align}\n",
    "\\nabla f = 0 \n",
    "\\tag{5.1.9}\n",
    "\\end{align}\n",
    "$$\n",
    "\n",
    "이때 그레디언트(gradient) 벡터 $\\nabla f$를 $g$라는 기호로 간단하게 나타내기도 한다.\n",
    "\n",
    "$$\n",
    "\\begin{align}\n",
    "g = 0\n",
    "\\tag{5.1.10}\n",
    "\\end{align}\n",
    "$$\n",
    "\n",
    "이 조건을 필요조건이라고 하는 이유는 기울기가 0이라고 반드시 최소점이 되지는 않지만, 모든 최소점은 기울기가 0이기 때문이다. 일반적인 수치적 최적화 알고리즘에서는 기울기 필요조건을 이용하여 최적점에 도달했는지 판단한다. \n",
    "\n",
    "기울기가 0이어도 최소점이 아니라 최고점일 수도 있다. 기울기가 0인 위치가 최소점임을 확인하려면 2차 도함수의 부호도 계산해야 한다. 기울기가 0이고 2차도함수가 양수면 최소점이다. 반대로 기울기가 0이고 2차 도함수가 음수면 최대점이 된다."
   ]
  },
  {
   "cell_type": "markdown",
   "metadata": {
    "school_cell_uuid": "c5a7468acd39442da5bc85a88067d205"
   },
   "source": [
    "### 최대경사법"
   ]
  },
  {
   "cell_type": "markdown",
   "metadata": {
    "school_cell_uuid": "1e74f47c5537492680ddd5e0e01f7b13"
   },
   "source": [
    "**최대경사법(Steepest Gradient Descent)방법**은 단순히 현재 위치 $x_k$에서의 기울기 값 $g(x_k)$ 만을 이용하여 다음번 위치 $x_{k+1}$를 결정하는 방법이다.\n",
    "\n",
    "$$ \n",
    "\\begin{align}\n",
    "x_{k+1} = x_{k} - \\mu \\nabla f(x_k) = x_{k} - \\mu g(x_k) \n",
    "\\tag{5.1.11}\n",
    "\\end{align}\n",
    "$$\n",
    "\n",
    "만약 현재 위치 $x_k$에서 기울기가 음수면 즉 곡면이 아래로 향하면 $g(x_k) < 0$이므로 앞으로 진행하고 현재 위치 $x_k$에서 기울기가 양수면  $g(x_k) > 0$이므로 뒤로 진행하게 되어 점점 낮은 위치로 옮겨간다. 이때 위치를 옮기는 거리를 결정하는 비례상수 $\\mu$를 **스텝 사이즈(step size)**라고 한다. \n",
    "\n",
    "$x_k$가 일단 최적 점에 도달했을 때는 $g(x_k) = 0$이 되므로 더 이상 위치를 옮기지 않는다. "
   ]
  },
  {
   "cell_type": "markdown",
   "metadata": {},
   "source": [
    "하지만 최대경사법을 사용하면 해를 잘 찾지 못하는 현상이 발생한다. 이를 해결하기 위해 2차 도함수, 즉 헤시안 행렬을 이용하는 방법이나 모멘텀 방법(momentum)이 있다. 모멘텀 방법은 진행 방향으로 계속 진행하도록 성분(모멘텀)을 추가하는 것이다. 일반적인 경우에는 2차 도함수를 이용하는 방법을 사용하고 2차 도함수를 계산하기 어려운 인공신경망 등에서는 모멘텀 방법을 선호한다. 모멘텀 방법(momentum)에 대해서는 지금은 다루지 않는다."
   ]
  },
  {
   "cell_type": "markdown",
   "metadata": {
    "school_cell_uuid": "d23b760ce7fb455fb3beaac63e6ffffd"
   },
   "source": [
    "### 2차 도함수를 사용한 뉴턴 방법"
   ]
  },
  {
   "cell_type": "markdown",
   "metadata": {
    "school_cell_uuid": "d23b760ce7fb455fb3beaac63e6ffffd"
   },
   "source": [
    "**뉴턴(Newton) 방법**은 목적함수가 2차 함수라는 가정하에 한 번에 최저점을 찾는다. 그레디언트 벡터에 헤시안 행렬의 역행렬을 곱해서 방향과 거리가 변형된 그레디언트 벡터를 사용한다\n",
    "\n",
    "\n",
    "$$ \n",
    "\\begin{align}\n",
    "{x}_{n+1} = {x}_n - [{H}f({x}_n)]^{-1} \\nabla f({x}_n) \n",
    "\\tag{5.1.12}\n",
    "\\end{align}\n",
    "$$\n",
    "\n",
    "스텝 사이즈가 필요없고 목적함수가 실제로 2차함수와 비슷한 모양이면 빨리 수렴할 수 있다는 장점이 있지만 1차 도함수(그레디언트 벡터)뿐 아니라 2차 도함수(헤시안 행렬)도 필요로 한다.\n",
    "\n",
    "예를 들어 다음 단변수 2차 함수\n",
    "\n",
    "$$\n",
    "\\begin{align}\n",
    "f(x) = a(x-x_0)^2 + c = ax^2 -2ax_0x + x_0^2+c\n",
    "\\tag{5.1.13}\n",
    "\\end{align}\n",
    "$$\n",
    "\n",
    "는 $x=x_0$에서 최솟값을 가진다.\n",
    "\n",
    "단변수함수 뉴턴 방법은 다음과 같다. 즉 최적의 스텝 사이즈가 $\\frac{1}{f''(x_n)}$이라는 것을 보여준다.\n",
    "\n",
    "$$\n",
    "\\begin{align}\n",
    "{x}_{n+1} = {x}_n - \\dfrac{f'(x_n)}{f''(x_n)}\n",
    "\\tag{5.1.14}\n",
    "\\end{align}\n",
    "$$\n",
    "\n",
    "2차 함수에 대해 도함수와 2차 도함수가\n",
    "\n",
    "$$\n",
    "\\begin{align}\n",
    "f'(x) = 2ax - 2ax_0\n",
    "\\tag{5.1.15}\n",
    "\\end{align}\n",
    "$$\n",
    "\n",
    "$$\n",
    "\\begin{align}\n",
    "f''(x) = 2a\n",
    "\\tag{5.1.16}\n",
    "\\end{align}\n",
    "$$\n",
    "\n",
    "이므로 뉴턴 방법에 적용하면\n",
    "\n",
    "$$\n",
    "\\begin{align}\n",
    "{x}_{n+1} = {x}_n - \\dfrac{2ax_n - 2ax_0}{2a} = x_n - (x_n - x_0) = x_0\n",
    "\\tag{5.1.17}\n",
    "\\end{align}\n",
    "$$\n",
    "\n",
    "이므로 어떤 점 $x_n$에서 시작해도 바로 최저점으로 이동한다."
   ]
  },
  {
   "cell_type": "markdown",
   "metadata": {},
   "source": [
    "### 준 뉴턴 방법"
   ]
  },
  {
   "cell_type": "markdown",
   "metadata": {},
   "source": [
    "뉴턴 방법은 목적함수가 2차 함수와 비슷한 모양을 가진 경우에 빠르게 수렴할 수 있다는 장점이 있지만 2차도함수인 헤시안 행렬 함수를 사람이 미리 구현해야 하고 함수의 모양에 따라서는 잘 수렴하지 않을 수도 있다. **준 뉴턴(Quasi-Newton) 방법**에서는 사람이 구한 헤시안 행렬 함수를 사용하는 대신 현재 시도하고 있는 $x_n$ 주변의 몇몇 점에서 함수의 값을 구하고 이를 이용하여 2차 도함수의 근사값 혹은 이에 상응하는 정보를 수치적으로 계산한다. 준 뉴턴 방법 중에서 BFGS(Broyden–Fletcher–Goldfarb–Shanno) 방법이 많이 사용된다.\n",
    "\n",
    "CG(conjugated gradient) 방법은 준 뉴턴 방법처럼 헤시안 행렬을 필요로 하지 않고 변형된 그레디언트 벡터를 바로 계산한다."
   ]
  },
  {
   "cell_type": "markdown",
   "metadata": {
    "school_cell_uuid": "e050a07a0f3146c4a51b364c49664472"
   },
   "source": [
    "### SciPy를 이용한 최적화"
   ]
  },
  {
   "cell_type": "markdown",
   "metadata": {
    "school_cell_uuid": "a6f7518e58ad4d9b867362b58948f219"
   },
   "source": [
    "사이파이(SciPy)의 optimize 서브 패키지는  최적화 명령 `minimize()`를 제공한다. 세부적인 알고리즘은 `method` 인수로 선택할 수 있다. 디폴트 알고리즘은 앞에서 설명한 BFGS algorithm이다. `minimize()` 명령은 최적화할 함수와 최적화를 시작할 초깃값을 인수로 받는다. 더 자세한 내용은 사이파이 문서를 참조한다.\n",
    "\n",
    "```\n",
    "result = minimize(func, x0, jac=jac, args=args)\n",
    "```\n",
    "\n",
    "* `func`: 목적함수\n",
    "* `x0`: 초깃값 벡터\n",
    "* `jac`: (옵션) 그레디언트 벡터를 출력하는 함수\n",
    "* `args`: (옵션) 최적화 대상이 아닌 다른 변수에 지정된 값을 전달하는 코드"
   ]
  },
  {
   "cell_type": "markdown",
   "metadata": {
    "school_cell_uuid": "0fb9fde836834faf8a878b6846669f85"
   },
   "source": [
    "`minimize()` 명령의 결과는 `OptimizeResult` 클래스 객체로 다음 속성을 가진다.\n",
    "\n",
    "* `x`: 최적화 해\n",
    "* `success`: 최적화에 성공하면 `True` 반환\n",
    "* `status`: 종료 상태. 최적화에 성공하면 0 반환\n",
    "* `message`: 메시지 문자열\n",
    "* `fun`: x 위치에서의 함수의 값\n",
    "* `jac`: x 위치에서의 자코비안(그레디언트) 벡터의 값 \n",
    "* `hess_inv`: x 위치에서의 헤시안 행렬의 역행렬의 값 \n",
    "* `nfev`: 목적함수 호출 횟수\n",
    "* `njev`: 자코비안 계산 횟수\n",
    "* `nhev`: 헤시안 계산 횟수\n",
    "* `nit`: x 이동 횟수"
   ]
  },
  {
   "cell_type": "markdown",
   "metadata": {},
   "source": [
    "#### 예제\n",
    "\n",
    "`minimize()` 명령으로 위에서 예로 들었던 1차원 함수를 최적화하면 다음과 같다."
   ]
  },
  {
   "cell_type": "code",
   "execution_count": 2,
   "metadata": {
    "school_cell_uuid": "54d21d55e1594d09987e4d5daee3950d"
   },
   "outputs": [
    {
     "name": "stdout",
     "output_type": "stream",
     "text": [
      "  message: Optimization terminated successfully.\n",
      "  success: True\n",
      "   status: 0\n",
      "      fun: 2.0\n",
      "        x: [ 2.000e+00]\n",
      "      nit: 2\n",
      "      jac: [ 0.000e+00]\n",
      " hess_inv: [[ 5.000e-01]]\n",
      "     nfev: 6\n",
      "     njev: 3\n"
     ]
    }
   ],
   "source": [
    "import scipy as sp\n",
    "\n",
    "# 목적함수 재정의\n",
    "def f1(x):\n",
    "    return (x - 2) ** 2 + 2\n",
    "\n",
    "x0 = 0  # 초깃값\n",
    "result = sp.optimize.minimize(f1, x0)\n",
    "print(result)"
   ]
  },
  {
   "cell_type": "markdown",
   "metadata": {
    "school_cell_uuid": "18d5f10b2d2245a29cdaa4088dbd1ff1"
   },
   "source": [
    "이 결과를 보면 최적해를 찾기 전에 x값의 위치는 2번밖에 바뀌지 않았지만 함수 호출 횟수는 9번이다. 그 이유는 그레디언트 계산에 필요한 1차 미분(그레디언트 벡터) 함수나 헤시안 함수가 주어지지 않았기 때문에 x값의 위치 근처에서 여러 번 함수를 계산하여 그레디언트 벡터의 근사값을 찾는 방법을 쓰기 때문이다. 이를 막고 계산량을 줄이려면 사람이 직접 그레디언트 벡터값을 반환하는 함수를 만들어 `jac` 인수로 넣어주면 된다."
   ]
  },
  {
   "cell_type": "code",
   "execution_count": 3,
   "metadata": {
    "school_cell_uuid": "6acb6b89511d40c08c198f3664325b1b"
   },
   "outputs": [
    {
     "name": "stdout",
     "output_type": "stream",
     "text": [
      "  message: Optimization terminated successfully.\n",
      "  success: True\n",
      "   status: 0\n",
      "      fun: 2.0\n",
      "        x: [ 2.000e+00]\n",
      "      nit: 2\n",
      "      jac: [ 0.000e+00]\n",
      " hess_inv: [[ 5.000e-01]]\n",
      "     nfev: 3\n",
      "     njev: 3\n"
     ]
    }
   ],
   "source": [
    "def f1p(x):\n",
    "    \"\"\"f1(x)의 도함수\"\"\"\n",
    "    return 2 * (x - 2)\n",
    "\n",
    "result = sp.optimize.minimize(f1, x0, jac=f1p)\n",
    "print(result)"
   ]
  },
  {
   "cell_type": "markdown",
   "metadata": {
    "school_cell_uuid": "dcb6ce8046b04ba0a54c8c25a36960dc"
   },
   "source": [
    "#### 예제\n",
    "\n",
    "다변수 함수를 최적화하는 경우에는 목적함수가 벡터 인수를 가져야 한다."
   ]
  },
  {
   "cell_type": "code",
   "execution_count": 4,
   "metadata": {
    "school_cell_uuid": "09f0f3d96c664a439fe14016920ee80b"
   },
   "outputs": [
    {
     "name": "stdout",
     "output_type": "stream",
     "text": [
      "  message: Optimization terminated successfully.\n",
      "  success: True\n",
      "   status: 0\n",
      "      fun: 2.005048318195731e-11\n",
      "        x: [ 1.000e+00  1.000e+00]\n",
      "      nit: 56\n",
      "      jac: [ 1.027e-06 -5.124e-07]\n",
      " hess_inv: [[ 4.999e-01  9.999e-01]\n",
      "            [ 9.999e-01  2.005e+00]]\n",
      "     nfev: 213\n",
      "     njev: 71\n"
     ]
    }
   ],
   "source": [
    "# 2차원 목적함수 재정의(벡터 입력을 받도록)\n",
    "def f2(x):\n",
    "    return (1 - x[0])**2 + 100.0 * (x[1] - x[0]**2)**2\n",
    "\n",
    "x0 = (-2, -2)\n",
    "result = sp.optimize.minimize(f2, x0)\n",
    "print(result)"
   ]
  },
  {
   "cell_type": "markdown",
   "metadata": {
    "school_cell_uuid": "6e96bb25ee45407fa06ed2e823a84096"
   },
   "source": [
    "하지만 항상 최적화에 성공하는 것은 아니다. 최적화에 성공하지 못하는 경우도 있기 때문에 성공 여부를 확인하고 최적화 결과를 이용해야 한다."
   ]
  },
  {
   "cell_type": "markdown",
   "metadata": {
    "school_cell_uuid": "d62ffacb00b74a22a64d6ec250ead22a"
   },
   "source": [
    "### 전역 최적화 문제"
   ]
  },
  {
   "cell_type": "markdown",
   "metadata": {
    "school_cell_uuid": "b883fb720bcc4b16a8033244d37b8a00"
   },
   "source": [
    "만약 최적화하려는 함수가 **복수의 국소 최저점(local minima)을 가지고 있는 경우에는 수치적 최적화 방법으로 전역 최저점(global minimum)에 도달한다는 보장이 없다**. 결과는 초기 추정값 및 알고리즘, 파라미터 등에 의존한다. "
   ]
  },
  {
   "cell_type": "code",
   "execution_count": 5,
   "metadata": {
    "school_cell_uuid": "37c42680b11f403ab1f3a7326b73d771"
   },
   "outputs": [
    {
     "data": {
      "image/png": "[encoded data removed]",
      "text/plain": [
       "<Figure size 640x480 with 1 Axes>"
      ]
     },
     "metadata": {},
     "output_type": "display_data"
    }
   ],
   "source": [
    "def f_global(x):\n",
    "    \"\"\"비선형 목적함수\"\"\"\n",
    "    return x**2 - 20 * np.cos(x)\n",
    "\n",
    "x = np.arange(-10, 10, 0.1)\n",
    "plt.plot(x, f_global(x))\n",
    "plt.scatter(0, f_global(0), s=200)\n",
    "plt.xlabel(\"x\")\n",
    "plt.ylabel(\"$f(x)$\")\n",
    "plt.title(\"전역 최적화 문제\")\n",
    "plt.show()"
   ]
  },
  {
   "cell_type": "markdown",
   "metadata": {},
   "source": [
    "다음은 초깃값이 좋지 않아서 전역 최저점으로 수렴하지 못하는 경우이다."
   ]
  },
  {
   "cell_type": "code",
   "execution_count": 6,
   "metadata": {
    "school_cell_uuid": "dd274fefde064d108bd1a6c07573a79c"
   },
   "outputs": [
    {
     "name": "stdout",
     "output_type": "stream",
     "text": [
      "  message: Optimization terminated successfully.\n",
      "  success: True\n",
      "   status: 0\n",
      "      fun: 15.791736781359312\n",
      "        x: [ 5.679e+00]\n",
      "      nit: 6\n",
      "      jac: [-2.384e-07]\n",
      " hess_inv: [[ 5.417e-02]]\n",
      "     nfev: 20\n",
      "     njev: 10\n"
     ]
    },
    {
     "data": {
      "text/plain": [
       "array([5.67920777])"
      ]
     },
     "execution_count": 6,
     "metadata": {},
     "output_type": "execute_result"
    }
   ],
   "source": [
    "result = sp.optimize.minimize(f_global, 4)\n",
    "print(result)\n",
    "x_sol = result['x']\n",
    "x_sol"
   ]
  },
  {
   "cell_type": "code",
   "execution_count": 7,
   "metadata": {
    "school_cell_uuid": "4ce03c2636fe4029b155281ac3694b28"
   },
   "outputs": [
    {
     "data": {
      "image/png": "[encoded data removed]",
      "text/plain": [
       "<Figure size 640x480 with 1 Axes>"
      ]
     },
     "metadata": {},
     "output_type": "display_data"
    }
   ],
   "source": [
    "plt.plot(x, f_global(x));\n",
    "plt.scatter(x_sol, f_global(x_sol), s=200)\n",
    "plt.title(\"전역 최적화에서 국소 최저점에 수렴하는 경우\")\n",
    "plt.ylabel(\"$f(x)$\")\n",
    "plt.xlabel(\"x\")\n",
    "plt.show()"
   ]
  },
  {
   "cell_type": "markdown",
   "metadata": {},
   "source": [
    "#### 사이파이를 사용하여 등식 제한조건이 있는 최적화 문제 계산하기"
   ]
  },
  {
   "cell_type": "markdown",
   "metadata": {},
   "source": [
    "사이파이의 optimize 서브패키지는 제한조건이 있는 최적화 문제를 푸는 `fmin_slsqp()` 명령을 제공한다.\n",
    "\n",
    "```\n",
    "fmin_slsqp(func_objective, x0, eqcons=[func_constraint1, func_constraint2])\n",
    "```\n",
    "\n",
    "`fmin_slsqp()` 명령은 목적함수와 초깃값, 그리고 제한조건 함수의 리스트를 인수로 받는다. 목적함수는 배열인 인수를 받도록 구현되어야 하고 제한조건 함수의 경우에는 항상 `eqcons` 인수를 명시해야 한다."
   ]
  },
  {
   "cell_type": "code",
   "execution_count": 8,
   "metadata": {},
   "outputs": [
    {
     "name": "stdout",
     "output_type": "stream",
     "text": [
      "Optimization terminated successfully    (Exit mode 0)\n",
      "            Current function value: 0.5000000000000002\n",
      "            Iterations: 2\n",
      "            Function evaluations: 6\n",
      "            Gradient evaluations: 2\n"
     ]
    },
    {
     "data": {
      "text/plain": [
       "array([0.5, 0.5])"
      ]
     },
     "execution_count": 8,
     "metadata": {},
     "output_type": "execute_result"
    }
   ],
   "source": [
    "def f1array(x):\n",
    "    return x[0] ** 2 + x[1] ** 2\n",
    "\n",
    "\n",
    "def eq_constraint(x):\n",
    "    return x[0] + x[1] - 1\n",
    "\n",
    "\n",
    "sp.optimize.fmin_slsqp(f1array, np.array([1, 1]), eqcons=[eq_constraint])"
   ]
  },
  {
   "cell_type": "markdown",
   "metadata": {},
   "source": [
    "#### 사이파이를 사용하여 부등식 제한조건이 있는 최적화 문제 계산하기"
   ]
  },
  {
   "cell_type": "markdown",
   "metadata": {},
   "source": [
    "`fmin_slsqp()` 명령은 이렇게 부등식 제한조건이 있는 경우에도 사용할 수 있다. 제한조건 인수의 이름이 `ieqcons`로 달라졌다.\n",
    " \n",
    "```\n",
    "fmin_slsqp(func_objective, x0, ieqcons=[func_constraint1, func_constraint2])\n",
    "```\n",
    "\n",
    "단 `ieqcons` 인수에 들어가는 부등호의 부호는 우리가 지금까지 사용한 방식과 달리 0 또는 양수이어야 한다. \n",
    "\n",
    "$$ \n",
    "\\begin{align}\n",
    "g \\geq 0\n",
    "\\tag{5.2.47}\n",
    "\\end{align}\n",
    "$$\n",
    "\n",
    "사실 `fmin_slsqp()` 명령은 등식 제한조건과 부등식 제한조건을 동시에 사용할 수 있다."
   ]
  },
  {
   "cell_type": "code",
   "execution_count": 9,
   "metadata": {},
   "outputs": [
    {
     "name": "stdout",
     "output_type": "stream",
     "text": [
      "Optimization terminated successfully    (Exit mode 0)\n",
      "            Current function value: 3.605551280732028\n",
      "            Iterations: 11\n",
      "            Function evaluations: 66\n",
      "            Gradient evaluations: 11\n"
     ]
    },
    {
     "data": {
      "text/plain": [
       "array([9.99999981e-01, 1.89941792e-08])"
      ]
     },
     "execution_count": 9,
     "metadata": {},
     "output_type": "execute_result"
    }
   ],
   "source": [
    "def f2(x):\n",
    "    return np.sqrt((x[0] - 4) ** 2 + (x[1] - 2) ** 2)\n",
    "\n",
    "# 제한 조건 상수\n",
    "k = 1\n",
    "def ieq_constraint(x):\n",
    "    return np.atleast_1d(k - np.sum(np.abs(x)))\n",
    "\n",
    "\n",
    "sp.optimize.fmin_slsqp(f2, np.array([0, 0]), ieqcons=[ieq_constraint])"
   ]
  },
  {
   "cell_type": "markdown",
   "metadata": {},
   "source": [
    "#### Exercise 01\n",
    "마코위츠 포트폴리오는 다음과 같이 주어진다.\n",
    "\n",
    "$$\\max_{W} \\; W^T\\mu - \\frac{A}{2}W^T\\Pi W $$\n",
    "\n",
    "선택 가능한 종목이 삼성전자, KB국민은행, 유한양행이 존재할 때 목적함수를 최적화하는 포트폴리오의 비중을 계산하라. 단, 논의의 편의를 위해 가중치의 합이 1이라는 제약조건과, 각 가중치가 0과 1 사이에 있어야 한다는 제약조건은 무시한다."
   ]
  },
  {
   "cell_type": "code",
   "execution_count": 10,
   "metadata": {},
   "outputs": [
    {
     "name": "stderr",
     "output_type": "stream",
     "text": [
      "C:\\Users\\kumb2\\AppData\\Local\\Temp\\ipykernel_33468\\1064095432.py:12: FutureWarning: 'Y' is deprecated and will be removed in a future version, please use 'YE' instead.\n",
      "  data=data.resample('Y').last()\n"
     ]
    }
   ],
   "source": [
    "import pandas_datareader as pdr\n",
    "tickers=['005930', '105560', '000100']\n",
    "start_date='2010-01-01'\n",
    "end_date='2024-12-31'\n",
    "data=pd.DataFrame()\n",
    "for ticker in tickers:\n",
    "    df=pdr.DataReader(ticker, 'naver', start_date, end_date)['Close'].astype(float)\n",
    "    data=pd.concat([data, df], axis=1)\n",
    "\n",
    "data.columns=tickers\n",
    "data.index=pd.to_datetime(data.index)\n",
    "data=data.resample('Y').last()"
   ]
  },
  {
   "cell_type": "code",
   "execution_count": 11,
   "metadata": {},
   "outputs": [],
   "source": [
    "data=np.log(data)-np.log(data.shift(1))\n",
    "data.dropna(inplace=True)\n",
    "\n",
    "ret_sam=np.mean(data['005930'])\n",
    "ret_kb=np.mean(data['105560'])\n",
    "ret_yu=np.mean(data['000100'])\n",
    "ret_vec=np.array([ret_sam, ret_kb, ret_yu])"
   ]
  },
  {
   "cell_type": "code",
   "execution_count": 12,
   "metadata": {},
   "outputs": [
    {
     "data": {
      "text/plain": [
       "array([0.07361947, 0.02309218, 0.11329968])"
      ]
     },
     "execution_count": 12,
     "metadata": {},
     "output_type": "execute_result"
    }
   ],
   "source": [
    "ret_vec"
   ]
  },
  {
   "cell_type": "code",
   "execution_count": 13,
   "metadata": {},
   "outputs": [
    {
     "data": {
      "text/html": [
       "<div>\n",
       "<style scoped>\n",
       "    .dataframe tbody tr th:only-of-type {\n",
       "        vertical-align: middle;\n",
       "    }\n",
       "\n",
       "    .dataframe tbody tr th {\n",
       "        vertical-align: top;\n",
       "    }\n",
       "\n",
       "    .dataframe thead th {\n",
       "        text-align: right;\n",
       "    }\n",
       "</style>\n",
       "<table border=\"1\" class=\"dataframe\">\n",
       "  <thead>\n",
       "    <tr style=\"text-align: right;\">\n",
       "      <th></th>\n",
       "      <th>005930</th>\n",
       "      <th>105560</th>\n",
       "      <th>000100</th>\n",
       "    </tr>\n",
       "  </thead>\n",
       "  <tbody>\n",
       "    <tr>\n",
       "      <th>005930</th>\n",
       "      <td>0.082728</td>\n",
       "      <td>0.010044</td>\n",
       "      <td>0.002324</td>\n",
       "    </tr>\n",
       "    <tr>\n",
       "      <th>105560</th>\n",
       "      <td>0.010044</td>\n",
       "      <td>0.067821</td>\n",
       "      <td>0.022649</td>\n",
       "    </tr>\n",
       "    <tr>\n",
       "      <th>000100</th>\n",
       "      <td>0.002324</td>\n",
       "      <td>0.022649</td>\n",
       "      <td>0.077918</td>\n",
       "    </tr>\n",
       "  </tbody>\n",
       "</table>\n",
       "</div>"
      ],
      "text/plain": [
       "          005930    105560    000100\n",
       "005930  0.082728  0.010044  0.002324\n",
       "105560  0.010044  0.067821  0.022649\n",
       "000100  0.002324  0.022649  0.077918"
      ]
     },
     "execution_count": 13,
     "metadata": {},
     "output_type": "execute_result"
    }
   ],
   "source": [
    "cov_mat=data.cov()\n",
    "cov_mat"
   ]
  },
  {
   "cell_type": "code",
   "execution_count": 14,
   "metadata": {},
   "outputs": [],
   "source": [
    "A=0.5\n",
    "\n",
    "def obj_function(weight, *args):\n",
    "    ret_vec, cov_mat, A = args\n",
    "    return - weight.T @ ret_vec + (A/2) * weight.T @ cov_mat @ weight\n",
    "\n",
    "def optimize(obj_function, ret_vec, cov_mat, A):\n",
    "    initial_guess = np.ones(3) / 3  # 초기값 설정 (균등 비율)\n",
    "\n",
    "    result=sp.optimize.minimize(obj_function, x0=initial_guess, args=(ret_vec, cov_mat, A), method='BFGS') \n",
    "    \n",
    "    return result"
   ]
  },
  {
   "cell_type": "code",
   "execution_count": 15,
   "metadata": {},
   "outputs": [
    {
     "data": {
      "text/plain": [
       "  message: Optimization terminated successfully.\n",
       "  success: True\n",
       "   status: 0\n",
       "      fun: -0.2297024969182019\n",
       "        x: [ 1.766e+00 -5.913e-01  3.027e+00]\n",
       "      nit: 14\n",
       "      jac: [-8.555e-06  9.315e-06 -7.447e-06]\n",
       " hess_inv: [[ 2.107e+01  1.749e+00 -3.971e+00]\n",
       "            [ 1.749e+00  2.337e+01 -2.775e+00]\n",
       "            [-3.971e+00 -2.775e+00  2.315e+01]]\n",
       "     nfev: 68\n",
       "     njev: 17"
      ]
     },
     "execution_count": 15,
     "metadata": {},
     "output_type": "execute_result"
    }
   ],
   "source": [
    "result=optimize(obj_function, ret_vec, cov_mat, A)\n",
    "result"
   ]
  },
  {
   "cell_type": "code",
   "execution_count": 16,
   "metadata": {},
   "outputs": [
    {
     "data": {
      "text/plain": [
       "array([ 1.76658266, -0.5916752 ,  3.02748603])"
      ]
     },
     "execution_count": 16,
     "metadata": {},
     "output_type": "execute_result"
    }
   ],
   "source": [
    "# 실제 수치적 예시와 비교\n",
    "np.linalg.inv(A*cov_mat)@ ret_vec"
   ]
  },
  {
   "cell_type": "code",
   "execution_count": 17,
   "metadata": {},
   "outputs": [],
   "source": [
    "# 제약조건을 추가한 마코위츠 포트폴리오 최적화 과정\n",
    "\n",
    "A=0.5\n",
    "\n",
    "def obj_function(weight, *args):\n",
    "    ret_vec, cov_mat, A = args\n",
    "    return - weight.T @ ret_vec + (A/2) * weight.T @ cov_mat @ weight\n",
    "\n",
    "def constraint(weight, *args):\n",
    "    \"\"\" 가중치 합이 1이 되도록 하는 제약 조건 \"\"\"\n",
    "    return np.sum(weight) - 1\n",
    "\n",
    "def optimize(obj_function, ret_vec, cov_mat, A):\n",
    "    initial_guess = np.ones(3) / 3  # 초기값 설정 (균등 비율)\n",
    "\n",
    "    bounds = [(0, 1) for _ in range(3)]  # 가중치 범위: 0~1\n",
    "    \n",
    "    result = sp.optimize.fmin_slsqp(obj_function, initial_guess, \n",
    "                         f_eqcons=constraint,  # 가중치 합 1 제약\n",
    "                         bounds=bounds, \n",
    "                         args=(ret_vec, cov_mat, A),  # 목적 함수에 추가 인수 전달\n",
    "                         disp=True)  # 최적화 과정 출력\n",
    "     \n",
    "    \n",
    "    return result"
   ]
  },
  {
   "cell_type": "code",
   "execution_count": 18,
   "metadata": {},
   "outputs": [
    {
     "name": "stdout",
     "output_type": "stream",
     "text": [
      "Optimization terminated successfully    (Exit mode 0)\n",
      "            Current function value: -0.0938202861532047\n",
      "            Iterations: 7\n",
      "            Function evaluations: 28\n",
      "            Gradient evaluations: 7\n"
     ]
    },
    {
     "data": {
      "text/plain": [
       "array([0.00000000e+00, 1.63064007e-16, 1.00000000e+00])"
      ]
     },
     "execution_count": 18,
     "metadata": {},
     "output_type": "execute_result"
    }
   ],
   "source": [
    "result=optimize(obj_function, ret_vec, cov_mat, A)\n",
    "result"
   ]
  },
  {
   "cell_type": "code",
   "execution_count": 19,
   "metadata": {},
   "outputs": [
    {
     "data": {
      "image/png": "[encoded data removed]",
      "text/plain": [
       "<Figure size 800x500 with 1 Axes>"
      ]
     },
     "metadata": {},
     "output_type": "display_data"
    }
   ],
   "source": [
    "# 실제 pypfopt 라이브러리를 이용한 결과와 비교\n",
    "import seaborn as sns\n",
    "from pypfopt import risk_models, expected_returns, EfficientFrontier\n",
    "\n",
    "ef = EfficientFrontier(ret_vec, cov_mat)\n",
    "weights = ef.max_quadratic_utility(risk_aversion=A)\n",
    "cleaned_weights = ef.clean_weights()\n",
    "\n",
    "fig, ax = plt.subplots(figsize = (8, 5))\n",
    "plt.bar(\n",
    "    cleaned_weights.keys(),\n",
    "    cleaned_weights.values()\n",
    ")\n",
    "for spine in ax.spines.values():\n",
    "    spine.set_visible(False)\n",
    "ax.grid(False)\n",
    "ax.yaxis.grid(True, ls = ':', alpha = 0.5) \n",
    "plt.title('Markowitz Optimization')\n",
    "plt.show()"
   ]
  },
  {
   "cell_type": "markdown",
   "metadata": {},
   "source": [
    "#### Exercise 02\n",
    "다음 데이터를 이용해 OLS를 scipy.optimize로 계산해보자.\n",
    "\n",
    "단, 독립변수는 `avexpr`, 종속변수는 `logpgp95`이다"
   ]
  },
  {
   "cell_type": "code",
   "execution_count": 20,
   "metadata": {},
   "outputs": [],
   "source": [
    "df1 = pd.read_stata('https://github.com/QuantEcon/lecture-python/blob/master/source/_static/lecture_specific/ols/maketable1.dta?raw=true')\n",
    "df1 = df1.dropna(subset=['logpgp95', 'avexpr'])\n",
    "\n",
    "df1['const'] = 1"
   ]
  },
  {
   "cell_type": "code",
   "execution_count": 21,
   "metadata": {},
   "outputs": [],
   "source": [
    "def obj_function(weight, *args):\n",
    "    X, y= args\n",
    "    err=0\n",
    "    for row in range(len(X)):\n",
    "        err+=(y[row]- weight @ X[row, :])**2\n",
    "    return err"
   ]
  },
  {
   "cell_type": "code",
   "execution_count": 22,
   "metadata": {},
   "outputs": [],
   "source": [
    "X=np.array(df1[['const', 'avexpr']])\n",
    "y=np.array(df1['logpgp95'])\n",
    "\n",
    "\n",
    "def optimize(obj_function, X, y):\n",
    "    initial_guess = np.ones(2) / 2  # 초기값 설정 (균등 비율)\n",
    "\n",
    "    result=sp.optimize.minimize(obj_function, x0=initial_guess, args=(X, y), method='BFGS') \n",
    "    \n",
    "    return result"
   ]
  },
  {
   "cell_type": "code",
   "execution_count": 23,
   "metadata": {},
   "outputs": [
    {
     "data": {
      "text/plain": [
       "  message: Optimization terminated successfully.\n",
       "  success: True\n",
       "   status: 0\n",
       "      fun: 56.180756988489804\n",
       "        x: [ 4.626e+00  5.319e-01]\n",
       "      nit: 5\n",
       "      jac: [ 0.000e+00  1.431e-06]\n",
       " hess_inv: [[ 8.764e-02 -1.154e-02]\n",
       "            [-1.154e-02  1.601e-03]]\n",
       "     nfev: 21\n",
       "     njev: 7"
      ]
     },
     "execution_count": 23,
     "metadata": {},
     "output_type": "execute_result"
    }
   ],
   "source": [
    "result=optimize(obj_function, X, y)\n",
    "result"
   ]
  },
  {
   "cell_type": "code",
   "execution_count": 24,
   "metadata": {},
   "outputs": [
    {
     "name": "stdout",
     "output_type": "stream",
     "text": [
      "β_0 = 4.626\n",
      "β_1 = 0.5319\n"
     ]
    }
   ],
   "source": [
    "# 실제 수치적 예시와 비교\n",
    "\n",
    "# Define the X and y variables (Use numpy)\n",
    "X=np.array(df1[['const', 'avexpr']])\n",
    "y=np.array(df1['logpgp95'])\n",
    "\n",
    "# Compute β_hat\n",
    "β_hat=np.dot( np.dot( np.linalg.inv( np.dot(np.transpose(X), X)), np.transpose(X)), y )\n",
    "\n",
    "# Print out the results from the 2 x 1 vector β_hat\n",
    "print(f'β_0 = {β_hat[0]:.4}')\n",
    "print(f'β_1 = {β_hat[1]:.4}')"
   ]
  },
  {
   "cell_type": "code",
   "execution_count": null,
   "metadata": {},
   "outputs": [],
   "source": []
  }
 ],
 "metadata": {
  "celltoolbar": "Edit Metadata",
  "kernelspec": {
   "display_name": "base",
   "language": "python",
   "name": "python3"
  },
  "language_info": {
   "codemirror_mode": {
    "name": "ipython",
    "version": 3
   },
   "file_extension": ".py",
   "mimetype": "text/x-python",
   "name": "python",
   "nbconvert_exporter": "python",
   "pygments_lexer": "ipython3",
   "version": "3.11.7"
  },
  "pycharm": {
   "stem_cell": {
    "cell_type": "raw",
    "metadata": {
     "collapsed": false
    },
    "source": []
   }
  },
  "toc": {
   "base_numbering": 1,
   "nav_menu": {},
   "number_sections": false,
   "sideBar": true,
   "skip_h1_title": false,
   "title_cell": "Table of Contents",
   "title_sidebar": "Contents",
   "toc_cell": false,
   "toc_position": {},
   "toc_section_display": true,
   "toc_window_display": false
  }
 },
 "nbformat": 4,
 "nbformat_minor": 4
}
