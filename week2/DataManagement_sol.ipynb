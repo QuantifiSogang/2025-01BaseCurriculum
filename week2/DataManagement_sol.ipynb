{
 "cells": [
  {
   "cell_type": "markdown",
   "id": "58dd67e780627bd2",
   "metadata": {},
   "source": [
    "## Introduction to DataBase System\n",
    "\n",
    "데이터베이스(Database)는 데이터를 체계적으로 저장하고 관리하는 시스템이다. 데이터를 구조화된 형태로 저장하여 효율적인 검색, 수정, 삭제가 가능하도록 돕는다. 데이터베이스는 크게 엑셀처럼 행과 열로 관리되는 관계형 데이터베이스(RDBMS)와 키와 밸류 형태로 관리되는 NoSQL 데이터베이스로 이뤄진다. \n",
    "\n",
    "그중 관계형 데이터베이스는 데이터를 테이블 형태로 저장하며, 각 테이블은 행(Row)과 열(Column)로 구성된다. 데이터베이스는 대량의 데이터를 안정적으로 관리하고, 여러 사용자와 애플리케이션이 동시에 데이터를 활용할 수 있게 한다. 관계형 데이터베이스는 특히 금융 데이터를 다루는 데 있어서 알맞은 형태로, 시계열 및 고객 데이터와 거래 기록들을 다루는 데 있어서 알맞게 사용가능하다. 최근에는 High Frequency 데이터 처리 및 market depth, order book 데이터 관리의 중요성이 대두되면서, NoSQL형 데이터도 증가하는 추세에 있다."
   ]
  },
  {
   "cell_type": "code",
   "execution_count": 5,
   "id": "initial_id",
   "metadata": {
    "ExecuteTime": {
     "end_time": "2025-02-15T09:15:24.424499Z",
     "start_time": "2025-02-15T09:15:23.623521Z"
    },
    "collapsed": true
   },
   "outputs": [],
   "source": [
    "import yfinance as yf\n",
    "import numpy as np\n",
    "import pandas as pd\n",
    "import matplotlib.pyplot as plt\n",
    "import sqlite3\n",
    "\n",
    "TICKERS = ['^SPX','^IXIC','^RUT','^DJI','^XAX']\n",
    "START_DATE = '1990-01-01'"
   ]
  },
  {
   "cell_type": "markdown",
   "id": "5c1c3e35de96a127",
   "metadata": {},
   "source": [
    "### 1. Structured Query Language\n",
    "\n",
    "`SQL(Structured Query Language)`은 관계형 데이터베이스를 관리하기 위한 표준 언어이다. 1970년대 IBM에서 SEQUEL이라는 이름으로 처음 개발되었으며, 이후 ANSI와 ISO에 의해 표준화되었다. SQL은 관계형 데이터베이스에서 데이터를 표 형식으로 다루며, 데이터 간의 관계를 정의하고 관리하는 데 적합하다. \n",
    "\n",
    "SQL은 데이터 정의, 조작, 제어라는 세 가지 주요 기능으로 나뉘는데, **데이터 정의** 는 테이블과 같은 데이터베이스 구조를 생성, 수정, 삭제하는 작업으로, 주로 데이터베이스 설계 초기 단계에서 사용된다. **데이터 조작** 은 삽입, 조회, 수정, 삭제와 같은 데이터를 직접 다루는 작업으로, 데이터베이스의 일상적인 사용에서 가장 많이 쓰인다. **데이터 제어** 는 사용자 권한을 관리하고 데이터베이스의 보안을 설정하는 데 초점이 맞춰져 있다. 이러한 기능은 데이터베이스의 설계부터 운영까지 모든 단계에서 필수적이다. 예를 들어, 새로운 테이블을 생성하고 데이터를 삽입한 뒤, 특정 사용자에게만 접근 권한을 부여하는 방식으로 활용될 수 있다. SQL의 각 기능은 효율적인 데이터 관리를 가능하게 하며, 데이터 무결성과 보안을 보장한다.\n",
    "\n",
    "SQL은 데이터를 정의(데이터의 구조를 정의하고 DB를 생성)하는 DDL(Data Definition Language), 데이터를 조작(수정, 삭제 등)하는 DML(Data Manipulation Language), 데이터를 제어(DB 접근권한 설정 등)하는 DCL(Data Control Language)로 구성되어 있다. 이 세 가지 기능은 데이터베이스의 구조 설계, 데이터 처리, 보안 관리의 모든 단계를 포함한다. \n",
    "\n",
    "현재 MySQL, PostgreSQL, SQLite와 같은 많은 데이터베이스 시스템이 SQL을 지원하며, 효율적이고 안정적인 데이터 관리를 가능하게 한다."
   ]
  },
  {
   "cell_type": "markdown",
   "id": "efb7c4efc6d38da",
   "metadata": {},
   "source": [
    "#### 1.1 DDL (Data Definition Language)\n",
    "\n",
    "테이블과 관련 열을 생성, 변경, 삭제하는 명령어를 데이터 정의어라고 한다. DDL은 데이터베이스의 구조를 정의하고 관리하는 데 사용된다. 테이블, 인덱스, 뷰 등의 데이터베이스 객체를 생성, 수정, 삭제하는 명령어를 포함한다. 대표적인 명령어로는 `CREATE`, `ALTER`, `DROP` 등이 있다. \n",
    "\n",
    "예를 들어, `CREATE TABLE` 명령어를 사용해 새로운 테이블을 정의할 수 있다. 또한, `ALTER TABLE`을 사용해 기존 테이블에 새로운 열을 추가하거나 수정할 수 있다. \n",
    "\n",
    "DDL은 데이터베이스의 설계 초기 단계에서 중요하며, 데이터의 논리적 구조(어떤 type의 데이터가 어디에 들어가고, 어디에 연결될지 등등을 정의해야 함)를 설정하는 역할을 한다. 데이터 타입과 제약 조건을 설정함으로써 데이터의 일관성과 무결성을 보장할 수 있다. 금융 데이터베이스에서는 주식 가격, 거래 기록, 경제 지표 등을 저장하는 테이블을 설계하는 데 자주 사용된다. 스키마(데이터의 구조와 구성을 정의하는 설계도를 의미) 설계와 데이터 정의는 데이터베이스 성능과 데이터 분석의 정확성에 큰 영향을 미친다."
   ]
  },
  {
   "cell_type": "markdown",
   "id": "41b2122395254346",
   "metadata": {},
   "source": [
    "**Create Table**\n",
    "\n",
    "가장 기초적인 작업은 테이블을 생성하는 것이다. 테이블은 하나의 엑셀 데이터를 생성하는 것과 같다고 보면 된다. 한 종목의 시계열 데이터는 대략 7개의 컬럼(날짜, 시가, 고가, 저가, 종가, 수정종가, 거래량)을 가진 table을 생성한다고 보면 편하다. DB데이터는 `sqlite3` 라이브러리의 `connect()` 함수를 통해 연결을 우선적으로 해 줘야 한다. `cursur()` method는 파이썬 내에서 SQL 명령문을 실행하도록 해 주는 역할을 한다."
   ]
  },
  {
   "cell_type": "code",
   "execution_count": 3,
   "id": "90d6eaeddd282d4b",
   "metadata": {
    "ExecuteTime": {
     "end_time": "2025-02-15T09:15:26.385515Z",
     "start_time": "2025-02-15T09:15:26.381733Z"
    }
   },
   "outputs": [],
   "source": [
    "DB_PATH = 'price.db'\n",
    "conn = sqlite3.connect(DB_PATH)  # DB에 연결\n",
    "cursor = conn.cursor()   # DB에 접근해 SQL을 실행가능한 상태로 변경"
   ]
  },
  {
   "cell_type": "code",
   "execution_count": 4,
   "id": "481d57d2cde23e40",
   "metadata": {
    "ExecuteTime": {
     "end_time": "2025-02-15T09:15:27.210680Z",
     "start_time": "2025-02-15T09:15:27.206532Z"
    }
   },
   "outputs": [
    {
     "data": {
      "text/plain": [
       "sqlite3.Connection"
      ]
     },
     "execution_count": 4,
     "metadata": {},
     "output_type": "execute_result"
    }
   ],
   "source": [
    "type(conn) # Connection "
   ]
  },
  {
   "cell_type": "markdown",
   "id": "22658ee1cfe61a90",
   "metadata": {},
   "source": [
    "price.db에 `stock_prices`이라는 table을 생성해 보자"
   ]
  },
  {
   "cell_type": "markdown",
   "id": "2b310526",
   "metadata": {},
   "source": [
    "`CREATE table if not exists stock_prices`는 'stock_price'라는 테이블이 존재하지 없으면 테이블을 만드라는 의미\n",
    "SQL문에서 column을 만들 때, 그 column에 들어갈 데이터 형태도 지정해 줘야 함"
   ]
  },
  {
   "cell_type": "code",
   "execution_count": 5,
   "id": "37b24852ae56f322",
   "metadata": {
    "ExecuteTime": {
     "end_time": "2025-02-15T09:15:28.030663Z",
     "start_time": "2025-02-15T09:15:28.026055Z"
    }
   },
   "outputs": [
    {
     "data": {
      "text/plain": [
       "<sqlite3.Cursor at 0x1a3c2d638c0>"
      ]
     },
     "execution_count": 5,
     "metadata": {},
     "output_type": "execute_result"
    }
   ],
   "source": [
    "cursor.execute(\n",
    "    f\"\"\"\n",
    "        CREATE table if not exists stock_prices (\n",
    "            price varchar(10),\n",
    "            ticker varchar(10),\n",
    "            value real,\n",
    "            primary key (price, ticker)\n",
    "        )\n",
    "    \"\"\"\n",
    ")"
   ]
  },
  {
   "cell_type": "markdown",
   "id": "d415f4c38586d873",
   "metadata": {},
   "source": [
    "DB에 접속하면 실제로 stock_prices이라는 이름의 table이 생성되는 것을 확인할 수 있다. 여기서 SQL문의 `primary_key`는 테이블에서 각 행을 유일하게 식별하는 컬럼으로, 데이터를 불러서 읽을 때 좀 더 빠르게 읽을 수 있도록 한다. 테이블과 열의 이름을 정할 때에는 다음 규칙을 따라야 한다.\n",
    "\n",
    "- 동일 한 사용자가 동일한 이름의 테이블을 중복하여 생성이 불가능하다. 또한, 테이블 안의 열 이름도 동일한 이름으로 생성 불가능하다.\n",
    "- `SELECT`, `FROM`, `COUNT`와 같은 예약어는 사용할 수 없다.\n",
    "- 테이블 이름은 문자로 시작해야 한다. 이 규칙은 python의 변수 사용 규칙과 같다. 한글과 특문을 사용할 수는 있지만 권장되지 않는다.\n",
    "- 문자의 길이는 1~30 byte 이내여야 한다."
   ]
  },
  {
   "cell_type": "markdown",
   "id": "b23fe0dfdcaf222e",
   "metadata": {},
   "source": [
    "**Modify Tables**\n",
    "\n",
    "기존에 존재하는 테이블에 컬럼을 추가하여 저장하거나, 기존의 컬럼의 내용을 수정하고 싶을 수 있다. `ALTER` 명령문은 SQL에서 테이블 또는 데이터베이스 객체의 구조를 변경할 때 사용된다. 테이블에 새로운 열(Column)을 추가하거나 기존 열을 수정 또는 삭제하는 등의 작업을 수행할 수 있다. 또한, 제약 조건(Constraints) 추가, 데이터 타입 변경 등도 가능하다.\n",
    "\n",
    "이미 생성한 테이블에 맨 끝쪽에 returns를 추가한다고 상상해 보자. 아래와 같이 SQL문을 작성할 수 있다."
   ]
  },
  {
   "cell_type": "code",
   "execution_count": 6,
   "id": "1797eb0eb645a598",
   "metadata": {
    "ExecuteTime": {
     "end_time": "2025-02-15T09:15:30.017712Z",
     "start_time": "2025-02-15T09:15:30.012657Z"
    }
   },
   "outputs": [
    {
     "data": {
      "text/plain": [
       "<sqlite3.Cursor at 0x1a3c2d638c0>"
      ]
     },
     "execution_count": 6,
     "metadata": {},
     "output_type": "execute_result"
    }
   ],
   "source": [
    "cursor.execute(\n",
    "    f\"\"\"\n",
    "        ALTER TABLE stock_prices\n",
    "        add returns real\n",
    "    \"\"\"\n",
    ")"
   ]
  },
  {
   "cell_type": "markdown",
   "id": "4b263b90de4125e",
   "metadata": {},
   "source": [
    "또는, 이미 추가된 컬럼을 삭제할 수도 있다."
   ]
  },
  {
   "cell_type": "code",
   "execution_count": 7,
   "id": "b61ca8886e160a14",
   "metadata": {
    "ExecuteTime": {
     "end_time": "2025-02-15T09:15:31.078738Z",
     "start_time": "2025-02-15T09:15:31.074577Z"
    }
   },
   "outputs": [
    {
     "data": {
      "text/plain": [
       "<sqlite3.Cursor at 0x1a3c2d638c0>"
      ]
     },
     "execution_count": 7,
     "metadata": {},
     "output_type": "execute_result"
    }
   ],
   "source": [
    "cursor.execute(\n",
    "    f\"\"\"\n",
    "        ALTER TABLE stock_prices\n",
    "        drop column returns;\n",
    "    \"\"\"\n",
    ")"
   ]
  },
  {
   "cell_type": "markdown",
   "id": "a8709d796a308f77",
   "metadata": {},
   "source": [
    "`ALTER TABLE ~ ADD`절의 특징은 다음과 같다.\n",
    "\n",
    "- 새로운 열을 추가할 수 있지만, 테이블에 있던 기존의 열은 삭제할 수 없다.\n",
    "- 새로 생성되는 열은 위치를 지정할 수 없다\n",
    "- 테이블에 이미 행이 있다면 열을 추가하였을 때 새로운 열의 데이터 값을 `NULL`로 초기화된다."
   ]
  },
  {
   "cell_type": "markdown",
   "id": "abed2e8731f1d999",
   "metadata": {},
   "source": [
    "`ALTER TABLE ~ MODIFY`절을 사용하여 열의 정의를 수정할 수 있다. 열의 수정 대상은 열의 데이터 타입과 크기, Default Value이다. 단, 여기서는 SQLlite3을 사용하기 때문에, Modify는 지원되지 않는다."
   ]
  },
  {
   "cell_type": "markdown",
   "id": "88e291de75b66575",
   "metadata": {},
   "source": [
    "`ALTER TABLE ~ RENAME COLUMN` 절을 사용하면 열 이름을 수정할 수 있다."
   ]
  },
  {
   "cell_type": "code",
   "execution_count": 8,
   "id": "5520fd54acbf5b86",
   "metadata": {
    "ExecuteTime": {
     "end_time": "2025-02-15T09:15:33.238239Z",
     "start_time": "2025-02-15T09:15:33.233771Z"
    }
   },
   "outputs": [
    {
     "data": {
      "text/plain": [
       "<sqlite3.Cursor at 0x1a3c2d638c0>"
      ]
     },
     "execution_count": 8,
     "metadata": {},
     "output_type": "execute_result"
    }
   ],
   "source": [
    "cursor.execute(\n",
    "    f\"\"\"\n",
    "        ALTER TABLE stock_prices\n",
    "        add returns real\n",
    "    \"\"\"\n",
    ")"
   ]
  },
  {
   "cell_type": "code",
   "execution_count": 9,
   "id": "8b379bb8c9800c7e",
   "metadata": {
    "ExecuteTime": {
     "end_time": "2025-02-15T09:15:34.323976Z",
     "start_time": "2025-02-15T09:15:34.319835Z"
    }
   },
   "outputs": [
    {
     "data": {
      "text/plain": [
       "<sqlite3.Cursor at 0x1a3c2d638c0>"
      ]
     },
     "execution_count": 9,
     "metadata": {},
     "output_type": "execute_result"
    }
   ],
   "source": [
    "cursor.execute(\n",
    "    f\"\"\"\n",
    "        alter table stock_prices\n",
    "        rename column returns to return;\n",
    "    \"\"\"\n",
    ")"
   ]
  },
  {
   "cell_type": "markdown",
   "id": "d840f3e7f741636c",
   "metadata": {},
   "source": [
    "**Delete table**\n",
    "\n",
    "table을 생성한 후 더이상 사용하지 않거나 쓸모 없다고 판단되는 경우 table 자체를 삭제할 수도 있다. `DROP` 명령문은 데이터베이스에서 특정 테이블을 완전히 삭제하는 데 사용된다. 이 명령어를 실행하면 테이블의 구조와 모든 데이터가 완전히 제거되며, 복구할 수 없다. 삭제된 테이블과 관련된 모든 인덱스, 제약 조건, 그리고 해당 테이블에 저장된 데이터도 함께 삭제된다."
   ]
  },
  {
   "cell_type": "code",
   "execution_count": 10,
   "id": "687d38efc8a04e0b",
   "metadata": {
    "ExecuteTime": {
     "end_time": "2025-02-15T09:15:36.746442Z",
     "start_time": "2025-02-15T09:15:36.743168Z"
    }
   },
   "outputs": [
    {
     "data": {
      "text/plain": [
       "<sqlite3.Cursor at 0x1a3c2d638c0>"
      ]
     },
     "execution_count": 10,
     "metadata": {},
     "output_type": "execute_result"
    }
   ],
   "source": [
    "cursor.execute(\n",
    "    f\"\"\"\n",
    "        DROP table stock_prices\n",
    "    \"\"\"\n",
    ")"
   ]
  },
  {
   "cell_type": "markdown",
   "id": "baa7f30faaddcbb3",
   "metadata": {},
   "source": [
    "이제 실제로 테이블을 생성해 보자. 여기서 `NOT NULL`은 해당 column에는 null 값을 허용하지 않는다는 의미이다."
   ]
  },
  {
   "cell_type": "code",
   "execution_count": 11,
   "id": "b563fb3bbff49fa4",
   "metadata": {
    "ExecuteTime": {
     "end_time": "2025-02-15T09:16:09.678022Z",
     "start_time": "2025-02-15T09:16:09.674088Z"
    }
   },
   "outputs": [
    {
     "data": {
      "text/plain": [
       "<sqlite3.Cursor at 0x1a3c2d638c0>"
      ]
     },
     "execution_count": 11,
     "metadata": {},
     "output_type": "execute_result"
    }
   ],
   "source": [
    "cursor.execute(\"\"\"\n",
    "    CREATE TABLE IF NOT EXISTS stock_prices (\n",
    "        date DATE NOT NULL,\n",
    "        field VARCHAR(10) NOT NULL,\n",
    "        ticker VARCHAR(10) NOT NULL,\n",
    "        value REAL NOT NULL,\n",
    "        PRIMARY KEY (date, field, ticker)\n",
    "    )\n",
    "\"\"\")"
   ]
  },
  {
   "cell_type": "markdown",
   "id": "79859f04ec65b1f0",
   "metadata": {},
   "source": [
    "#### 1.2 DML (Data Manipulation Language)\n",
    "\n",
    "테이블을 생성하였으니, 알맞은 데이터를 적재할 차례이다. DML은 데이터베이스에 저장된 데이터를 조회하거나 수정, 삽입, 삭제하는 작업을 수행한다. **가장 자주 사용되는 SQL 기능**으로, 데이터를 직접 다루기 때문에 **실시간 데이터 분석과 관리에서 중요**하다. \n",
    "\n",
    "대표적인 명령어로는 데이터를 삽입하는 `INSERT`, 데이터를 검색하는 `SELECT`, 데이터를 수정하는 `UPDATE`, 데이터를 삭제하는 `DELETE`가 있다. 예를 들어, `SELECT` 명령어를 사용해 특정 주식의 일별 가격을 조회할 수 있다. 혹은, 전체 가격 테이블에서 특정 종목의 가격 전체의 열을 불러올 수도 있다.\n",
    "\n",
    "주로 데이터의 상태를 변경하거나 원하는 데이터를 추출하는 데 사용되며, 데이터베이스 사용자의 주요 인터페이스 역할을 한다. 금융 데이터에서는 특정 날짜의 주식 가격을 조회하거나, 거래 내역을 삽입하고 수정하는 데 활용된다. DML은 데이터를 효율적으로 다룰 수 있도록 설계되어 있어, 대규모 데이터베이스에서도 빠르고 정확하게 작동한다."
   ]
  },
  {
   "cell_type": "code",
   "execution_count": 12,
   "id": "687d84b8c7d57250",
   "metadata": {
    "ExecuteTime": {
     "end_time": "2025-02-15T09:16:52.784373Z",
     "start_time": "2025-02-15T09:16:52.149769Z"
    }
   },
   "outputs": [
    {
     "name": "stdout",
     "output_type": "stream",
     "text": [
      "YF.download() has changed argument auto_adjust default to True\n"
     ]
    }
   ],
   "source": [
    "data = yf.download(TICKERS, start = START_DATE, progress = False)"
   ]
  },
  {
   "cell_type": "markdown",
   "id": "cb4dd3ea3fa163ff",
   "metadata": {},
   "source": [
    "yahoo finance를 비롯하여 대부분의 가격을 다루는 DataBase는 다음과 같이 MultiIndex 형태로 스키마를 관리한다."
   ]
  },
  {
   "cell_type": "code",
   "execution_count": 13,
   "id": "97c909fb20659048",
   "metadata": {
    "ExecuteTime": {
     "end_time": "2025-02-15T09:16:52.787833Z",
     "start_time": "2025-02-15T09:16:52.785298Z"
    }
   },
   "outputs": [
    {
     "data": {
      "text/plain": [
       "MultiIndex([( 'Close',  '^DJI'),\n",
       "            ( 'Close', '^IXIC'),\n",
       "            ( 'Close',  '^RUT'),\n",
       "            ( 'Close',  '^SPX'),\n",
       "            ( 'Close',  '^XAX'),\n",
       "            (  'High',  '^DJI'),\n",
       "            (  'High', '^IXIC'),\n",
       "            (  'High',  '^RUT'),\n",
       "            (  'High',  '^SPX'),\n",
       "            (  'High',  '^XAX'),\n",
       "            (   'Low',  '^DJI'),\n",
       "            (   'Low', '^IXIC'),\n",
       "            (   'Low',  '^RUT'),\n",
       "            (   'Low',  '^SPX'),\n",
       "            (   'Low',  '^XAX'),\n",
       "            (  'Open',  '^DJI'),\n",
       "            (  'Open', '^IXIC'),\n",
       "            (  'Open',  '^RUT'),\n",
       "            (  'Open',  '^SPX'),\n",
       "            (  'Open',  '^XAX'),\n",
       "            ('Volume',  '^DJI'),\n",
       "            ('Volume', '^IXIC'),\n",
       "            ('Volume',  '^RUT'),\n",
       "            ('Volume',  '^SPX'),\n",
       "            ('Volume',  '^XAX')],\n",
       "           names=['Price', 'Ticker'])"
      ]
     },
     "execution_count": 13,
     "metadata": {},
     "output_type": "execute_result"
    }
   ],
   "source": [
    "data.columns"
   ]
  },
  {
   "cell_type": "markdown",
   "id": "7d9047fc281ef27e",
   "metadata": {},
   "source": [
    "SQL의 `INSERT`를 활용해 개별적으로 데이터를 적재할 수 있다. 이러는 경우, 모든 데이터에 대해서 하나하나 데이터를 적재하면 된다"
   ]
  },
  {
   "cell_type": "code",
   "execution_count": 14,
   "id": "b9cb8431cea774ff",
   "metadata": {
    "ExecuteTime": {
     "end_time": "2025-02-15T09:16:54.273252Z",
     "start_time": "2025-02-15T09:16:54.258614Z"
    }
   },
   "outputs": [
    {
     "name": "stderr",
     "output_type": "stream",
     "text": [
      "C:\\Users\\kumb2\\AppData\\Local\\Temp\\ipykernel_28780\\428656077.py:1: FutureWarning: The previous implementation of stack is deprecated and will be removed in a future version of pandas. See the What's New notes for pandas 2.1.0 for details. Specify future_stack=True to adopt the new implementation and silence this warning.\n",
      "  data = data.stack(level=1).reset_index()  # multicolumn 데이터를 singlecolumn 데이터로 변환 가능\n"
     ]
    },
    {
     "data": {
      "text/html": [
       "<div>\n",
       "<style scoped>\n",
       "    .dataframe tbody tr th:only-of-type {\n",
       "        vertical-align: middle;\n",
       "    }\n",
       "\n",
       "    .dataframe tbody tr th {\n",
       "        vertical-align: top;\n",
       "    }\n",
       "\n",
       "    .dataframe thead th {\n",
       "        text-align: right;\n",
       "    }\n",
       "</style>\n",
       "<table border=\"1\" class=\"dataframe\">\n",
       "  <thead>\n",
       "    <tr style=\"text-align: right;\">\n",
       "      <th>Price</th>\n",
       "      <th>Date</th>\n",
       "      <th>Ticker</th>\n",
       "      <th>Close</th>\n",
       "      <th>High</th>\n",
       "      <th>Low</th>\n",
       "      <th>Open</th>\n",
       "      <th>Volume</th>\n",
       "    </tr>\n",
       "  </thead>\n",
       "  <tbody>\n",
       "    <tr>\n",
       "      <th>0</th>\n",
       "      <td>1990-01-02</td>\n",
       "      <td>^IXIC</td>\n",
       "      <td>459.299988</td>\n",
       "      <td>459.299988</td>\n",
       "      <td>452.700012</td>\n",
       "      <td>452.899994</td>\n",
       "      <td>1.107200e+08</td>\n",
       "    </tr>\n",
       "    <tr>\n",
       "      <th>1</th>\n",
       "      <td>1990-01-02</td>\n",
       "      <td>^RUT</td>\n",
       "      <td>169.949997</td>\n",
       "      <td>169.960007</td>\n",
       "      <td>168.220001</td>\n",
       "      <td>168.309998</td>\n",
       "      <td>1.620700e+08</td>\n",
       "    </tr>\n",
       "    <tr>\n",
       "      <th>2</th>\n",
       "      <td>1990-01-02</td>\n",
       "      <td>^SPX</td>\n",
       "      <td>359.690002</td>\n",
       "      <td>359.690002</td>\n",
       "      <td>351.980011</td>\n",
       "      <td>353.399994</td>\n",
       "      <td>1.620700e+08</td>\n",
       "    </tr>\n",
       "    <tr>\n",
       "      <th>3</th>\n",
       "      <td>1990-01-03</td>\n",
       "      <td>^IXIC</td>\n",
       "      <td>460.899994</td>\n",
       "      <td>461.600006</td>\n",
       "      <td>460.000000</td>\n",
       "      <td>461.100006</td>\n",
       "      <td>1.526600e+08</td>\n",
       "    </tr>\n",
       "    <tr>\n",
       "      <th>4</th>\n",
       "      <td>1990-01-03</td>\n",
       "      <td>^RUT</td>\n",
       "      <td>170.789993</td>\n",
       "      <td>170.800003</td>\n",
       "      <td>169.960007</td>\n",
       "      <td>169.960007</td>\n",
       "      <td>1.923300e+08</td>\n",
       "    </tr>\n",
       "    <tr>\n",
       "      <th>...</th>\n",
       "      <td>...</td>\n",
       "      <td>...</td>\n",
       "      <td>...</td>\n",
       "      <td>...</td>\n",
       "      <td>...</td>\n",
       "      <td>...</td>\n",
       "      <td>...</td>\n",
       "    </tr>\n",
       "    <tr>\n",
       "      <th>42300</th>\n",
       "      <td>2025-03-13</td>\n",
       "      <td>^DJI</td>\n",
       "      <td>40813.570312</td>\n",
       "      <td>41360.121094</td>\n",
       "      <td>40661.769531</td>\n",
       "      <td>41280.050781</td>\n",
       "      <td>6.467700e+08</td>\n",
       "    </tr>\n",
       "    <tr>\n",
       "      <th>42301</th>\n",
       "      <td>2025-03-13</td>\n",
       "      <td>^IXIC</td>\n",
       "      <td>17303.009766</td>\n",
       "      <td>17621.910156</td>\n",
       "      <td>17239.439453</td>\n",
       "      <td>17598.560547</td>\n",
       "      <td>7.147050e+09</td>\n",
       "    </tr>\n",
       "    <tr>\n",
       "      <th>42302</th>\n",
       "      <td>2025-03-13</td>\n",
       "      <td>^RUT</td>\n",
       "      <td>1993.689941</td>\n",
       "      <td>2031.160034</td>\n",
       "      <td>1984.920044</td>\n",
       "      <td>2026.079956</td>\n",
       "      <td>5.018980e+09</td>\n",
       "    </tr>\n",
       "    <tr>\n",
       "      <th>42303</th>\n",
       "      <td>2025-03-13</td>\n",
       "      <td>^SPX</td>\n",
       "      <td>5521.520020</td>\n",
       "      <td>5597.779785</td>\n",
       "      <td>5504.649902</td>\n",
       "      <td>5594.450195</td>\n",
       "      <td>5.018980e+09</td>\n",
       "    </tr>\n",
       "    <tr>\n",
       "      <th>42304</th>\n",
       "      <td>2025-03-13</td>\n",
       "      <td>^XAX</td>\n",
       "      <td>4865.069824</td>\n",
       "      <td>4934.299805</td>\n",
       "      <td>4848.500000</td>\n",
       "      <td>4873.970215</td>\n",
       "      <td>0.000000e+00</td>\n",
       "    </tr>\n",
       "  </tbody>\n",
       "</table>\n",
       "<p>42305 rows × 7 columns</p>\n",
       "</div>"
      ],
      "text/plain": [
       "Price       Date Ticker         Close          High           Low  \\\n",
       "0     1990-01-02  ^IXIC    459.299988    459.299988    452.700012   \n",
       "1     1990-01-02   ^RUT    169.949997    169.960007    168.220001   \n",
       "2     1990-01-02   ^SPX    359.690002    359.690002    351.980011   \n",
       "3     1990-01-03  ^IXIC    460.899994    461.600006    460.000000   \n",
       "4     1990-01-03   ^RUT    170.789993    170.800003    169.960007   \n",
       "...          ...    ...           ...           ...           ...   \n",
       "42300 2025-03-13   ^DJI  40813.570312  41360.121094  40661.769531   \n",
       "42301 2025-03-13  ^IXIC  17303.009766  17621.910156  17239.439453   \n",
       "42302 2025-03-13   ^RUT   1993.689941   2031.160034   1984.920044   \n",
       "42303 2025-03-13   ^SPX   5521.520020   5597.779785   5504.649902   \n",
       "42304 2025-03-13   ^XAX   4865.069824   4934.299805   4848.500000   \n",
       "\n",
       "Price          Open        Volume  \n",
       "0        452.899994  1.107200e+08  \n",
       "1        168.309998  1.620700e+08  \n",
       "2        353.399994  1.620700e+08  \n",
       "3        461.100006  1.526600e+08  \n",
       "4        169.960007  1.923300e+08  \n",
       "...             ...           ...  \n",
       "42300  41280.050781  6.467700e+08  \n",
       "42301  17598.560547  7.147050e+09  \n",
       "42302   2026.079956  5.018980e+09  \n",
       "42303   5594.450195  5.018980e+09  \n",
       "42304   4873.970215  0.000000e+00  \n",
       "\n",
       "[42305 rows x 7 columns]"
      ]
     },
     "execution_count": 14,
     "metadata": {},
     "output_type": "execute_result"
    }
   ],
   "source": [
    "data = data.stack(level=1).reset_index()  # multicolumn 데이터를 singlecolumn 데이터로 변환 가능\n",
    "data"
   ]
  },
  {
   "cell_type": "code",
   "execution_count": 15,
   "id": "9c59c0046c353461",
   "metadata": {
    "ExecuteTime": {
     "end_time": "2025-02-15T09:18:11.441656Z",
     "start_time": "2025-02-15T09:18:11.436805Z"
    }
   },
   "outputs": [],
   "source": [
    "data = data[['Date','Ticker','Open','High','Low','Close','Volume']]"
   ]
  },
  {
   "cell_type": "code",
   "execution_count": 16,
   "id": "e33bd89fe7ff86df",
   "metadata": {
    "ExecuteTime": {
     "end_time": "2025-02-15T09:18:24.722176Z",
     "start_time": "2025-02-15T09:18:24.719630Z"
    }
   },
   "outputs": [],
   "source": [
    "data.columns = ['date', 'ticker', 'Open', 'High', 'Low', 'Close', 'Volume']"
   ]
  },
  {
   "cell_type": "code",
   "execution_count": 17,
   "id": "1e0400c73352228a",
   "metadata": {
    "ExecuteTime": {
     "end_time": "2025-02-15T09:20:31.862595Z",
     "start_time": "2025-02-15T09:20:31.848081Z"
    }
   },
   "outputs": [],
   "source": [
    "data['date'] = data['date'].astype(str) # sql lite는 datetime 형태의 타입이 지원되지 않으므로, str형태로 변환"
   ]
  },
  {
   "cell_type": "code",
   "execution_count": null,
   "id": "63a3c28243ddc46f",
   "metadata": {
    "ExecuteTime": {
     "end_time": "2025-02-15T09:20:34.264640Z",
     "start_time": "2025-02-15T09:20:33.272434Z"
    }
   },
   "outputs": [],
   "source": [
    "records = []\n",
    "for _, row in data.iterrows():\n",
    "    for field in ['Open', 'High', 'Low', 'Close', 'Volume']:\n",
    "        records.append((row['date'], field, row['ticker'], row[field]))"
   ]
  },
  {
   "cell_type": "code",
   "execution_count": null,
   "id": "99da2be33d91d66b",
   "metadata": {
    "ExecuteTime": {
     "end_time": "2025-02-15T09:20:35.931927Z",
     "start_time": "2025-02-15T09:20:35.662490Z"
    }
   },
   "outputs": [
    {
     "data": {
      "text/plain": [
       "<sqlite3.Cursor at 0x27cee7c5ac0>"
      ]
     },
     "execution_count": 18,
     "metadata": {},
     "output_type": "execute_result"
    }
   ],
   "source": [
    "cursor.executemany(\n",
    "    \"insert or ignore into stock_prices (date, field, ticker, value) values (?, ?, ?, ?)\", \n",
    "    records\n",
    ")"
   ]
  },
  {
   "cell_type": "code",
   "execution_count": null,
   "id": "5a7b1f02900294df",
   "metadata": {
    "ExecuteTime": {
     "end_time": "2025-02-15T09:21:13.007971Z",
     "start_time": "2025-02-15T09:21:13.002578Z"
    }
   },
   "outputs": [],
   "source": [
    "conn.commit() # commit 실행 => 모든 작업이 정상적으로 처리되었음을 알려주고 처리 내용을 모두 저장하는 메소드"
   ]
  },
  {
   "cell_type": "code",
   "execution_count": null,
   "id": "f12c2193b1a0654f",
   "metadata": {
    "ExecuteTime": {
     "end_time": "2025-02-15T09:21:41.629797Z",
     "start_time": "2025-02-15T09:21:41.625977Z"
    }
   },
   "outputs": [
    {
     "name": "stdout",
     "output_type": "stream",
     "text": [
      "         date   field ticker         value\n",
      "0  1990-01-02    Open  ^IXIC  4.529000e+02\n",
      "1  1990-01-02    High  ^IXIC  4.593000e+02\n",
      "2  1990-01-02     Low  ^IXIC  4.527000e+02\n",
      "3  1990-01-02   Close  ^IXIC  4.593000e+02\n",
      "4  1990-01-02  Volume  ^IXIC  1.107200e+08\n",
      "5  1990-01-02    Open   ^RUT  1.683100e+02\n",
      "6  1990-01-02    High   ^RUT  1.699600e+02\n",
      "7  1990-01-02     Low   ^RUT  1.682200e+02\n",
      "8  1990-01-02   Close   ^RUT  1.699500e+02\n",
      "9  1990-01-02  Volume   ^RUT  1.620700e+08\n"
     ]
    }
   ],
   "source": [
    "df = pd.read_sql(\"SELECT * FROM stock_prices LIMIT 10\", conn) # 저장된 데이터를 확인\n",
    "print(df)"
   ]
  },
  {
   "cell_type": "code",
   "execution_count": null,
   "id": "578b5aada366a35a",
   "metadata": {
    "ExecuteTime": {
     "end_time": "2025-02-15T09:21:55.474144Z",
     "start_time": "2025-02-15T09:21:55.472100Z"
    }
   },
   "outputs": [],
   "source": [
    "conn.close() # 데이터 연결 종료"
   ]
  },
  {
   "cell_type": "markdown",
   "id": "1f93e32d3cfa71ff",
   "metadata": {},
   "source": [
    "#### 1.3 DCL (Data Control Language)\n",
    "\n",
    "DCL은 데이터베이스에 대한 접근 권한을 관리하고 보안을 유지하는 데 사용된다. 대표적인 명령어로는 권한을 부여하는 `GRANT`와 권한을 회수하는 `REVOKE`가 있다. 예를 들어, 특정 사용자에게 주식 데이터베이스의 읽기 권한만 부여하거나, 수정 권한을 제한할 수 있다. \n",
    "\n",
    "DCL은 데이터베이스의 무단 접근을 방지하고, 데이터의 기밀성을 보장하는 데 중요한 역할을 한다. 금융 데이터베이스에서는 민감한 데이터에 대한 접근을 통제해 데이터 유출이나 보안 사고를 예방할 수 있다. 또한, 데이터베이스 관리자는 사용자의 역할(Role)을 설정하고, 각 역할에 적합한 권한을 할당할 수 있다. 따라서 DCL은 데이터 무결성과 신뢰성을 유지하는 데 필수적이다. 데이터 보호가 중요한 환경에서는 DCL 명령어를 활용한 권한 관리를 정기적으로 점검해야 한다.\n",
    "\n",
    "여기서는 데이터 적재 및 관리와 거리가 멀기 때문에 따로 다루지는 않도록 한다."
   ]
  },
  {
   "cell_type": "markdown",
   "id": "ac01beab99b2c113",
   "metadata": {},
   "source": [
    "### 2. Rules of Data Management\n",
    "\n",
    "Data Base에서 무결성과 제약 조건은 반드시 지켜져야 하는 약속이다. 무결성과 제약 조건은 무엇인지 알아보자."
   ]
  },
  {
   "cell_type": "markdown",
   "id": "818366626e21f52d",
   "metadata": {},
   "source": [
    "#### 2.1 Data Integrity\n",
    "\n",
    "데이터베이스에 저장된 데이터 값과 사용자가 의도한 데이터 값은 일치헤야 한다. 또한, 데이터는 정확성, 유효성, 일관성, 신뢰성이 지켜져야 하며, 이를 어기는 잘못된 입력과 갱신 또는 삭제로부터 보호되어야 한다. 예를 들어, 특정 종목의 코드 또는 Ticker는 식별자이기 때문에 identification과 같으므로 유일한 값이어야 한다. 그러나, key 값에 중복 값이 입력되거나 `NULL`값이 입력된다면 데이터 식별에 큰 문제가 생길 수 있다. 둘째로, 숫자로 이뤄진 컬럼에 'two'와 같은 문자열이 들어가는 경우 이 값을 숫자로 인정해야 할지 말아야 할지 어렵게 된다.\n",
    "\n",
    "이처럼, 데이터베이스의 관리 규칙이 지켜지지 않으면 데이터베이스 시스템을 운영하는 데 큰 혼란이 올 수 있다. 데이터베이스의 데이터는 사용자의 목적에 맞게 입력되고 저장되어야 하며, **규칙을 위반하지 말아야** 한다. 이를 위해 DB system은 데이터에 접근하거나 데이터를 처리할 때마다 부적절한 데이터가 입력되는지 검사하여 데이터가 결점이 없는 것을 검사한다. 이 기본 규칙을 Data Integrity라고 한다.\n",
    "\n",
    "|유형| 설명                                                                                                                                       |\n",
    "|:---:|:-----------------------------------------------------------------------------------------------------------------------------------------|\n",
    "|Entity Integrity| primary key로 선택된 열은 고유해야 하며, NULL값을 가질 수 없다.                                                                                             |\n",
    "|Reference Integrity| primary key와 foreign key의 관계이다. <br> 외래 키가 있는 테이블의 경우, 기본 키와 외래 키 간의 관계가 항상 유지됨을 보장한다. <br> 참조하는 외래 키가 존재하면 행은 삭제될 수 없고, 기본 키도 변경될 수 없다. |\n",
    "|Domain Integrity| 데이터 형태, 범위, 기본값, 유일성에 관한 제한이다. <br> 주어진 속상 값은 그 속성이 정의된 도메인에 속한 값이어야 한다.                                                                 |\n",
    "|Business Integrity| 사용자의 업무 규칙에 따른 비즈니스적인 제약 조건이다                                                                                                            |"
   ]
  },
  {
   "cell_type": "markdown",
   "id": "73481ef3d0acbd17",
   "metadata": {},
   "source": [
    "#### 2.2 Constraint \n",
    "\n",
    "제약 조건이란, 정해 놓은 규칙에 맞는 데이터만 입력받고 규칙에 어긋나는 데이터는 거부하여 데이터 무결성을 지키는 방법이다. 대표적인 제약 조건의 종류는 다음과 같다.\n",
    "\n",
    "##### 1. Primary Key Constraint\n",
    "\n",
    "`UNIQUE` + `NOT NULL`을 만족해야 한다. 또한, 테이블을 대표하여 각 행을 유일하게 식별하는 값이어야 한다."
   ]
  },
  {
   "cell_type": "code",
   "execution_count": null,
   "id": "d94b82df47c1df99",
   "metadata": {
    "ExecuteTime": {
     "end_time": "2025-02-15T09:25:36.221862Z",
     "start_time": "2025-02-15T09:25:36.219370Z"
    }
   },
   "outputs": [],
   "source": [
    "conn = sqlite3.connect(DB_PATH)\n",
    "cursor = conn.cursor()"
   ]
  },
  {
   "cell_type": "code",
   "execution_count": null,
   "id": "7ec16fd03c3996d",
   "metadata": {
    "ExecuteTime": {
     "end_time": "2025-02-15T09:26:58.351343Z",
     "start_time": "2025-02-15T09:26:58.348919Z"
    }
   },
   "outputs": [],
   "source": [
    "cursor.execute(\"PRAGMA table_info(stock_prices);\") # table 내의 primary key 가져오기\n",
    "columns = cursor.fetchall()"
   ]
  },
  {
   "cell_type": "code",
   "execution_count": null,
   "id": "7afa641da5a3b403",
   "metadata": {
    "ExecuteTime": {
     "end_time": "2025-02-15T09:27:03.914856Z",
     "start_time": "2025-02-15T09:27:03.912111Z"
    }
   },
   "outputs": [
    {
     "data": {
      "text/plain": [
       "[(0, 'date', 'DATE', 1, None, 1),\n",
       " (1, 'field', 'VARCHAR(10)', 1, None, 2),\n",
       " (2, 'ticker', 'VARCHAR(10)', 1, None, 3),\n",
       " (3, 'value', 'REAL', 1, None, 0)]"
      ]
     },
     "execution_count": 24,
     "metadata": {},
     "output_type": "execute_result"
    }
   ],
   "source": [
    "columns"
   ]
  },
  {
   "cell_type": "markdown",
   "id": "5b4945e7b4767296",
   "metadata": {},
   "source": [
    "##### 2. Foreign Key Constraint\n",
    "\n",
    "열 값이 부모 테이블의 참조 열을 반드시 참조해야 한다. 참조되는 열은 `UNIQUE`하거나 `PRIMARY KEY`이다"
   ]
  },
  {
   "cell_type": "code",
   "execution_count": null,
   "id": "12cb7015c3073c3f",
   "metadata": {
    "ExecuteTime": {
     "end_time": "2025-02-15T09:34:24.325360Z",
     "start_time": "2025-02-15T09:34:24.320696Z"
    }
   },
   "outputs": [
    {
     "data": {
      "text/plain": [
       "<sqlite3.Cursor at 0x27cee7c6e40>"
      ]
     },
     "execution_count": 25,
     "metadata": {},
     "output_type": "execute_result"
    }
   ],
   "source": [
    "cursor.execute(\n",
    "    \"\"\"\n",
    "    create table if not exists ticker_info (\n",
    "        number integer primary key autoincrement, \n",
    "        ticker varchar(10) not null\n",
    "    )\n",
    "    \"\"\"\n",
    ")"
   ]
  },
  {
   "cell_type": "code",
   "execution_count": null,
   "id": "d2db4db8092c293f",
   "metadata": {
    "ExecuteTime": {
     "end_time": "2025-02-15T09:34:24.692343Z",
     "start_time": "2025-02-15T09:34:24.689781Z"
    }
   },
   "outputs": [],
   "source": [
    "cursor.executemany(\n",
    "    \"insert or ignore into ticker_info (ticker) values (?)\", \n",
    "    [(ticker,) for ticker in TICKERS]\n",
    ")\n",
    "conn.commit()"
   ]
  },
  {
   "cell_type": "code",
   "execution_count": null,
   "id": "5ba10a1b50c0bf3d",
   "metadata": {
    "ExecuteTime": {
     "end_time": "2025-02-15T09:34:25.634146Z",
     "start_time": "2025-02-15T09:34:25.631662Z"
    }
   },
   "outputs": [
    {
     "name": "stdout",
     "output_type": "stream",
     "text": [
      "[(1, '^SPX'), (2, '^IXIC'), (3, '^RUT'), (4, '^DJI'), (5, '^XAX')]\n"
     ]
    }
   ],
   "source": [
    "cursor.execute(\"SELECT * FROM ticker_info;\")\n",
    "print(cursor.fetchall())"
   ]
  },
  {
   "cell_type": "code",
   "execution_count": null,
   "id": "db8585d830a21438",
   "metadata": {
    "ExecuteTime": {
     "end_time": "2025-02-15T09:35:09.203Z",
     "start_time": "2025-02-15T09:35:09.200608Z"
    }
   },
   "outputs": [],
   "source": [
    "cursor.execute(\"SELECT * FROM ticker_info;\")\n",
    "ticker_info = cursor.fetchall()"
   ]
  },
  {
   "cell_type": "code",
   "execution_count": null,
   "id": "8513fe9d75f5f58",
   "metadata": {
    "ExecuteTime": {
     "end_time": "2025-02-15T09:35:09.657900Z",
     "start_time": "2025-02-15T09:35:09.655826Z"
    }
   },
   "outputs": [
    {
     "data": {
      "text/plain": [
       "[(1, '^SPX'), (2, '^IXIC'), (3, '^RUT'), (4, '^DJI'), (5, '^XAX')]"
      ]
     },
     "execution_count": 29,
     "metadata": {},
     "output_type": "execute_result"
    }
   ],
   "source": [
    "ticker_info"
   ]
  },
  {
   "cell_type": "markdown",
   "id": "7d4369b9978d5e81",
   "metadata": {},
   "source": [
    "`join` keyword를 사용하면 ticker info로부터 저장된 티커를 참조하여 stock prices의 value를 가져올 수 있다.\n",
    "`where`문은 조건을 추가해주는 역할을 함"
   ]
  },
  {
   "cell_type": "code",
   "execution_count": null,
   "id": "57ab2e7031f30181",
   "metadata": {
    "ExecuteTime": {
     "end_time": "2025-02-15T09:39:01.591231Z",
     "start_time": "2025-02-15T09:39:01.588631Z"
    }
   },
   "outputs": [
    {
     "data": {
      "text/plain": [
       "<sqlite3.Cursor at 0x27cee7c6e40>"
      ]
     },
     "execution_count": 30,
     "metadata": {},
     "output_type": "execute_result"
    }
   ],
   "source": [
    "cursor.execute(\n",
    "    \"\"\"\n",
    "    select stock_prices.date, stock_prices.field, stock_prices.ticker, stock_prices.value\n",
    "    from stock_prices\n",
    "    join ticker_info ON stock_prices.ticker = ticker_info.ticker\n",
    "    where stock_prices.ticker = '^SPX'\n",
    "    \"\"\"\n",
    ")"
   ]
  },
  {
   "cell_type": "code",
   "execution_count": null,
   "id": "fd72fa45744aa4b4",
   "metadata": {
    "ExecuteTime": {
     "end_time": "2025-02-15T09:39:02.927103Z",
     "start_time": "2025-02-15T09:39:02.847238Z"
    }
   },
   "outputs": [
    {
     "data": {
      "text/html": [
       "<div>\n",
       "<style scoped>\n",
       "    .dataframe tbody tr th:only-of-type {\n",
       "        vertical-align: middle;\n",
       "    }\n",
       "\n",
       "    .dataframe tbody tr th {\n",
       "        vertical-align: top;\n",
       "    }\n",
       "\n",
       "    .dataframe thead th {\n",
       "        text-align: right;\n",
       "    }\n",
       "</style>\n",
       "<table border=\"1\" class=\"dataframe\">\n",
       "  <thead>\n",
       "    <tr style=\"text-align: right;\">\n",
       "      <th></th>\n",
       "      <th>0</th>\n",
       "      <th>1</th>\n",
       "      <th>2</th>\n",
       "      <th>3</th>\n",
       "    </tr>\n",
       "  </thead>\n",
       "  <tbody>\n",
       "    <tr>\n",
       "      <th>0</th>\n",
       "      <td>1990-01-02</td>\n",
       "      <td>Open</td>\n",
       "      <td>^SPX</td>\n",
       "      <td>3.534000e+02</td>\n",
       "    </tr>\n",
       "    <tr>\n",
       "      <th>1</th>\n",
       "      <td>1990-01-02</td>\n",
       "      <td>High</td>\n",
       "      <td>^SPX</td>\n",
       "      <td>3.596900e+02</td>\n",
       "    </tr>\n",
       "    <tr>\n",
       "      <th>2</th>\n",
       "      <td>1990-01-02</td>\n",
       "      <td>Low</td>\n",
       "      <td>^SPX</td>\n",
       "      <td>3.519800e+02</td>\n",
       "    </tr>\n",
       "    <tr>\n",
       "      <th>3</th>\n",
       "      <td>1990-01-02</td>\n",
       "      <td>Close</td>\n",
       "      <td>^SPX</td>\n",
       "      <td>3.596900e+02</td>\n",
       "    </tr>\n",
       "    <tr>\n",
       "      <th>4</th>\n",
       "      <td>1990-01-02</td>\n",
       "      <td>Volume</td>\n",
       "      <td>^SPX</td>\n",
       "      <td>1.620700e+08</td>\n",
       "    </tr>\n",
       "    <tr>\n",
       "      <th>...</th>\n",
       "      <td>...</td>\n",
       "      <td>...</td>\n",
       "      <td>...</td>\n",
       "      <td>...</td>\n",
       "    </tr>\n",
       "    <tr>\n",
       "      <th>44320</th>\n",
       "      <td>2025-03-13</td>\n",
       "      <td>Open</td>\n",
       "      <td>^SPX</td>\n",
       "      <td>5.594450e+03</td>\n",
       "    </tr>\n",
       "    <tr>\n",
       "      <th>44321</th>\n",
       "      <td>2025-03-13</td>\n",
       "      <td>High</td>\n",
       "      <td>^SPX</td>\n",
       "      <td>5.597780e+03</td>\n",
       "    </tr>\n",
       "    <tr>\n",
       "      <th>44322</th>\n",
       "      <td>2025-03-13</td>\n",
       "      <td>Low</td>\n",
       "      <td>^SPX</td>\n",
       "      <td>5.504650e+03</td>\n",
       "    </tr>\n",
       "    <tr>\n",
       "      <th>44323</th>\n",
       "      <td>2025-03-13</td>\n",
       "      <td>Close</td>\n",
       "      <td>^SPX</td>\n",
       "      <td>5.521520e+03</td>\n",
       "    </tr>\n",
       "    <tr>\n",
       "      <th>44324</th>\n",
       "      <td>2025-03-13</td>\n",
       "      <td>Volume</td>\n",
       "      <td>^SPX</td>\n",
       "      <td>5.018980e+09</td>\n",
       "    </tr>\n",
       "  </tbody>\n",
       "</table>\n",
       "<p>44325 rows × 4 columns</p>\n",
       "</div>"
      ],
      "text/plain": [
       "                0       1     2             3\n",
       "0      1990-01-02    Open  ^SPX  3.534000e+02\n",
       "1      1990-01-02    High  ^SPX  3.596900e+02\n",
       "2      1990-01-02     Low  ^SPX  3.519800e+02\n",
       "3      1990-01-02   Close  ^SPX  3.596900e+02\n",
       "4      1990-01-02  Volume  ^SPX  1.620700e+08\n",
       "...           ...     ...   ...           ...\n",
       "44320  2025-03-13    Open  ^SPX  5.594450e+03\n",
       "44321  2025-03-13    High  ^SPX  5.597780e+03\n",
       "44322  2025-03-13     Low  ^SPX  5.504650e+03\n",
       "44323  2025-03-13   Close  ^SPX  5.521520e+03\n",
       "44324  2025-03-13  Volume  ^SPX  5.018980e+09\n",
       "\n",
       "[44325 rows x 4 columns]"
      ]
     },
     "execution_count": 31,
     "metadata": {},
     "output_type": "execute_result"
    }
   ],
   "source": [
    "pd.DataFrame(cursor.fetchall())"
   ]
  },
  {
   "cell_type": "markdown",
   "id": "a83fafd5c65dc90a",
   "metadata": {},
   "source": [
    "`where` 조건을 두 개 이상 사용해 특정 티커의 수정 종가만 불러올 수 있다.\n",
    "\n",
    "`JOIN`은 판다스의 JOIN 메소드와 비슷하다. on은 join의 조건을 의미하며, where을 이용해 데이터 검색 조건을 추가할 수 있다."
   ]
  },
  {
   "cell_type": "code",
   "execution_count": null,
   "id": "9144e8bdbbc6c4e0",
   "metadata": {
    "ExecuteTime": {
     "end_time": "2025-02-15T09:41:01.409739Z",
     "start_time": "2025-02-15T09:41:01.405685Z"
    }
   },
   "outputs": [
    {
     "data": {
      "text/plain": [
       "<sqlite3.Cursor at 0x27cee7c6e40>"
      ]
     },
     "execution_count": 32,
     "metadata": {},
     "output_type": "execute_result"
    }
   ],
   "source": [
    "cursor.execute(\n",
    "    \"\"\"\n",
    "    select stock_prices.date, stock_prices.field, stock_prices.ticker, stock_prices.value\n",
    "    from stock_prices\n",
    "    join ticker_info ON stock_prices.ticker = ticker_info.ticker\n",
    "    where stock_prices.ticker = '^SPX' and stock_prices.field = 'Adj Close'\n",
    "    \"\"\"\n",
    ")"
   ]
  },
  {
   "cell_type": "code",
   "execution_count": null,
   "id": "43669f8dbe449c2",
   "metadata": {
    "ExecuteTime": {
     "end_time": "2025-02-15T09:41:18.694786Z",
     "start_time": "2025-02-15T09:41:18.642408Z"
    }
   },
   "outputs": [],
   "source": [
    "adj_close = pd.DataFrame(cursor.fetchall())"
   ]
  },
  {
   "cell_type": "code",
   "execution_count": null,
   "id": "6fe711a81cb13f6b",
   "metadata": {
    "ExecuteTime": {
     "end_time": "2025-02-15T09:41:41.191149Z",
     "start_time": "2025-02-15T09:41:41.186447Z"
    }
   },
   "outputs": [
    {
     "data": {
      "text/html": [
       "<div>\n",
       "<style scoped>\n",
       "    .dataframe tbody tr th:only-of-type {\n",
       "        vertical-align: middle;\n",
       "    }\n",
       "\n",
       "    .dataframe tbody tr th {\n",
       "        vertical-align: top;\n",
       "    }\n",
       "\n",
       "    .dataframe thead th {\n",
       "        text-align: right;\n",
       "    }\n",
       "</style>\n",
       "<table border=\"1\" class=\"dataframe\">\n",
       "  <thead>\n",
       "    <tr style=\"text-align: right;\">\n",
       "      <th></th>\n",
       "    </tr>\n",
       "  </thead>\n",
       "  <tbody>\n",
       "  </tbody>\n",
       "</table>\n",
       "</div>"
      ],
      "text/plain": [
       "Empty DataFrame\n",
       "Columns: []\n",
       "Index: []"
      ]
     },
     "execution_count": 34,
     "metadata": {},
     "output_type": "execute_result"
    }
   ],
   "source": [
    "adj_close.head()"
   ]
  },
  {
   "cell_type": "markdown",
   "id": "5bd3cbb229e778d8",
   "metadata": {},
   "source": [
    "##### 3. Unique Key Constraint\n",
    "\n",
    "중복된 값을 허용하지 않는다. 유일한 값으로 존재해야 한다."
   ]
  },
  {
   "cell_type": "markdown",
   "id": "1f468b5f53008be2",
   "metadata": {},
   "source": [
    "##### 4. Not NULL Constraint\n",
    "\n",
    "`NULL` 값을 허용하지 않는다. 반드시 값을 입력해야 한다."
   ]
  },
  {
   "cell_type": "code",
   "execution_count": null,
   "id": "80bfa5cd98e929cb",
   "metadata": {
    "ExecuteTime": {
     "end_time": "2025-02-15T09:28:20.407916Z",
     "start_time": "2025-02-15T09:28:20.404375Z"
    }
   },
   "outputs": [
    {
     "data": {
      "text/plain": [
       "[('2025-02-14', 'Close', '^DJI', 44546.078125),\n",
       " ('2025-02-14', 'Close', '^IXIC', 20026.76953125),\n",
       " ('2025-02-14', 'Close', '^RUT', 2279.97998046875),\n",
       " ('2025-02-14', 'Close', '^SPX', 6114.6298828125),\n",
       " ('2025-02-14', 'Close', '^XAX', 5100.7099609375),\n",
       " ('2025-02-14', 'High', '^DJI', 44769.05078125),\n",
       " ('2025-02-14', 'High', '^IXIC', 20045.759765625),\n",
       " ('2025-02-14', 'High', '^RUT', 2297.7099609375),\n",
       " ('2025-02-14', 'High', '^SPX', 6127.47021484375),\n",
       " ('2025-02-14', 'High', '^XAX', 5204.830078125),\n",
       " ('2025-02-14', 'Low', '^DJI', 44498.9609375),\n",
       " ('2025-02-14', 'Low', '^IXIC', 19932.150390625),\n",
       " ('2025-02-14', 'Low', '^RUT', 2276.6298828125),\n",
       " ('2025-02-14', 'Low', '^SPX', 6107.6201171875),\n",
       " ('2025-02-14', 'Low', '^XAX', 5088.31005859375),\n",
       " ('2025-02-14', 'Open', '^DJI', 44720.98828125),\n",
       " ('2025-02-14', 'Open', '^IXIC', 19956.8203125),\n",
       " ('2025-02-14', 'Open', '^RUT', 2287.85009765625),\n",
       " ('2025-02-14', 'Open', '^SPX', 6115.52001953125),\n",
       " ('2025-02-14', 'Open', '^XAX', 5140.9501953125),\n",
       " ('2025-02-14', 'Volume', '^DJI', 474570000.0),\n",
       " ('2025-02-14', 'Volume', '^IXIC', 7995720000.0),\n",
       " ('2025-02-14', 'Volume', '^RUT', 4335190000.0),\n",
       " ('2025-02-14', 'Volume', '^SPX', 4335190000.0),\n",
       " ('2025-02-14', 'Volume', '^XAX', 0.0)]"
      ]
     },
     "execution_count": 35,
     "metadata": {},
     "output_type": "execute_result"
    }
   ],
   "source": [
    "cursor.execute(\n",
    "    \"\"\"\n",
    "    SELECT * FROM stock_prices WHERE date = '2025-02-14'\n",
    "    \"\"\"\n",
    ")\n",
    "cursor.fetchall()"
   ]
  },
  {
   "cell_type": "code",
   "execution_count": null,
   "id": "e4d0b6ab46a388e5",
   "metadata": {
    "ExecuteTime": {
     "end_time": "2025-02-15T09:42:02.201410Z",
     "start_time": "2025-02-15T09:42:02.199053Z"
    }
   },
   "outputs": [],
   "source": [
    "conn.close()  # 요거 안해서 Isolation에 걸려서 Lock이 걸려버리는 경우가 존재!"
   ]
  },
  {
   "cell_type": "markdown",
   "id": "c3a9956f",
   "metadata": {},
   "source": [
    "#### Exercise 1"
   ]
  },
  {
   "cell_type": "markdown",
   "id": "3fce8576",
   "metadata": {},
   "source": [
    "관심있는 종목 데이터를 수집하고 수익률을 계산한 뒤 데이터와 수익률을 db에 저장해봅시다"
   ]
  },
  {
   "cell_type": "code",
   "execution_count": 1,
   "id": "fff0d9d5",
   "metadata": {},
   "outputs": [],
   "source": [
    "TICKERS = ['^SPX','^IXIC','^RUT','^DJI','^XAX']\n",
    "START_DATE = '1990-01-01'"
   ]
  },
  {
   "cell_type": "code",
   "execution_count": 2,
   "id": "9e103a78",
   "metadata": {},
   "outputs": [],
   "source": [
    "import yfinance as yf\n",
    "df= yf.download(\n",
    "    TICKERS,\n",
    "    start = START_DATE,\n",
    "    end = '2025-02-22',\n",
    "    interval = '1d', # 데이터 추출 빈도 (기본값 : 1일)\n",
    "    progress = False, # 다운로드 시 progress bar 표시 여부\n",
    "    auto_adjust = True, \n",
    "    multi_level_index = False # Multi Index형태의 컬럼 지정 해제\n",
    ")"
   ]
  },
  {
   "cell_type": "code",
   "execution_count": 3,
   "id": "658c7262",
   "metadata": {},
   "outputs": [],
   "source": [
    "import re\n",
    "\n",
    "df.dropna(inplace=True)\n",
    "df=df.squeeze(axis=1)\n",
    "df_Close=df.Close\n",
    "\n",
    "TICKERS = df.Close.columns\n",
    "cleaned_tickers = [re.sub(r'[^a-zA-Z]', '', ticker) for ticker in TICKERS]\n",
    "df_Close.columns=cleaned_tickers"
   ]
  },
  {
   "cell_type": "code",
   "execution_count": 6,
   "id": "44dfb8bc",
   "metadata": {},
   "outputs": [],
   "source": [
    "df_ret=np.log(df_Close)-np.log(df_Close.shift(1))\n",
    "df_ret=df_ret.dropna()\n",
    "\n",
    "df_ret.columns=cleaned_tickers"
   ]
  },
  {
   "cell_type": "code",
   "execution_count": 7,
   "id": "17888c08",
   "metadata": {},
   "outputs": [
    {
     "data": {
      "text/html": [
       "<div>\n",
       "<style scoped>\n",
       "    .dataframe tbody tr th:only-of-type {\n",
       "        vertical-align: middle;\n",
       "    }\n",
       "\n",
       "    .dataframe tbody tr th {\n",
       "        vertical-align: top;\n",
       "    }\n",
       "\n",
       "    .dataframe thead th {\n",
       "        text-align: right;\n",
       "    }\n",
       "</style>\n",
       "<table border=\"1\" class=\"dataframe\">\n",
       "  <thead>\n",
       "    <tr style=\"text-align: right;\">\n",
       "      <th></th>\n",
       "      <th>DJI</th>\n",
       "      <th>Return</th>\n",
       "    </tr>\n",
       "    <tr>\n",
       "      <th>Date</th>\n",
       "      <th></th>\n",
       "      <th></th>\n",
       "    </tr>\n",
       "  </thead>\n",
       "  <tbody>\n",
       "    <tr>\n",
       "      <th>1995-12-28</th>\n",
       "      <td>5095.799805</td>\n",
       "      <td>-0.001984</td>\n",
       "    </tr>\n",
       "    <tr>\n",
       "      <th>1995-12-29</th>\n",
       "      <td>5117.120117</td>\n",
       "      <td>0.004175</td>\n",
       "    </tr>\n",
       "    <tr>\n",
       "      <th>1996-01-02</th>\n",
       "      <td>5177.450195</td>\n",
       "      <td>0.011721</td>\n",
       "    </tr>\n",
       "    <tr>\n",
       "      <th>1996-01-03</th>\n",
       "      <td>5194.069824</td>\n",
       "      <td>0.003205</td>\n",
       "    </tr>\n",
       "    <tr>\n",
       "      <th>1996-01-04</th>\n",
       "      <td>5173.839844</td>\n",
       "      <td>-0.003902</td>\n",
       "    </tr>\n",
       "    <tr>\n",
       "      <th>...</th>\n",
       "      <td>...</td>\n",
       "      <td>...</td>\n",
       "    </tr>\n",
       "    <tr>\n",
       "      <th>2025-02-14</th>\n",
       "      <td>44546.078125</td>\n",
       "      <td>-0.003705</td>\n",
       "    </tr>\n",
       "    <tr>\n",
       "      <th>2025-02-18</th>\n",
       "      <td>44556.339844</td>\n",
       "      <td>0.000230</td>\n",
       "    </tr>\n",
       "    <tr>\n",
       "      <th>2025-02-19</th>\n",
       "      <td>44627.589844</td>\n",
       "      <td>0.001598</td>\n",
       "    </tr>\n",
       "    <tr>\n",
       "      <th>2025-02-20</th>\n",
       "      <td>44176.648438</td>\n",
       "      <td>-0.010156</td>\n",
       "    </tr>\n",
       "    <tr>\n",
       "      <th>2025-02-21</th>\n",
       "      <td>43428.019531</td>\n",
       "      <td>-0.017091</td>\n",
       "    </tr>\n",
       "  </tbody>\n",
       "</table>\n",
       "<p>7336 rows × 2 columns</p>\n",
       "</div>"
      ],
      "text/plain": [
       "                     DJI    Return\n",
       "Date                              \n",
       "1995-12-28   5095.799805 -0.001984\n",
       "1995-12-29   5117.120117  0.004175\n",
       "1996-01-02   5177.450195  0.011721\n",
       "1996-01-03   5194.069824  0.003205\n",
       "1996-01-04   5173.839844 -0.003902\n",
       "...                  ...       ...\n",
       "2025-02-14  44546.078125 -0.003705\n",
       "2025-02-18  44556.339844  0.000230\n",
       "2025-02-19  44627.589844  0.001598\n",
       "2025-02-20  44176.648438 -0.010156\n",
       "2025-02-21  43428.019531 -0.017091\n",
       "\n",
       "[7336 rows x 2 columns]"
      ]
     },
     "execution_count": 7,
     "metadata": {},
     "output_type": "execute_result"
    }
   ],
   "source": [
    "Datas=[]\n",
    "for ticker in df_Close.columns:\n",
    "    globals()[str(ticker)]=pd.concat([df_Close[ticker], df_ret[ticker]], axis=1).dropna()\n",
    "    globals()[str(ticker)].columns = [ticker, 'Return']\n",
    "    Datas.append(globals()[str(ticker)])\n",
    "\n",
    "Datas[0]"
   ]
  },
  {
   "cell_type": "code",
   "execution_count": 8,
   "id": "62679790",
   "metadata": {},
   "outputs": [],
   "source": [
    "DB_PATH = 'price_data.db'\n",
    "conn = sqlite3.connect(DB_PATH)  # DB에 연결\n",
    "cursor = conn.cursor()   # DB에 접근해 SQL을 실행가능한 상태로 변경\n",
    "tickers=cleaned_tickers\n",
    "\n",
    "for ticker in tickers:\n",
    "    query=f\"\"\"\n",
    "            CREATE table if not exists {ticker} (\n",
    "                date varchar(15),\n",
    "                price real,\n",
    "                return real,\n",
    "                primary key (date)\n",
    "            )\n",
    "        \"\"\"\n",
    "    cursor.execute(query)\n"
   ]
  },
  {
   "cell_type": "code",
   "execution_count": 9,
   "id": "167f53f5",
   "metadata": {},
   "outputs": [
    {
     "data": {
      "text/plain": [
       "['DJI', 'IXIC', 'RUT', 'SPX', 'XAX']"
      ]
     },
     "execution_count": 9,
     "metadata": {},
     "output_type": "execute_result"
    }
   ],
   "source": [
    "tickers"
   ]
  },
  {
   "cell_type": "code",
   "execution_count": 10,
   "id": "0220c214",
   "metadata": {},
   "outputs": [
    {
     "name": "stdout",
     "output_type": "stream",
     "text": [
      "DJI\n",
      "IXIC\n",
      "RUT\n",
      "SPX\n",
      "XAX\n"
     ]
    }
   ],
   "source": [
    "# '^SPX','^IXIC','^RUT'\n",
    "for Data in Datas:\n",
    "    records = []\n",
    "    ticker=Data.columns[0]\n",
    "    print(ticker)\n",
    "    for date, row in Data.iterrows():\n",
    "        records.append((str(date)[:-9], row.iloc[0], row.iloc[1]))\n",
    "    \n",
    "    cursor.executemany(f\"\"\"insert or ignore into {ticker} (date, price, return) values (?, ?, ?)\"\"\", records)\n",
    "\n",
    "conn.commit()"
   ]
  },
  {
   "cell_type": "markdown",
   "id": "4e0ac779",
   "metadata": {},
   "source": [
    "#### Exercise 2"
   ]
  },
  {
   "cell_type": "markdown",
   "id": "9baef33f",
   "metadata": {},
   "source": [
    "db에서 다시 데이터를 받아와봅시다"
   ]
  },
  {
   "cell_type": "code",
   "execution_count": 12,
   "id": "dc5f60da",
   "metadata": {},
   "outputs": [],
   "source": [
    "DB_PATH = 'price_data.db'\n",
    "conn = sqlite3.connect(DB_PATH)  # DB에 연결\n",
    "cursor = conn.cursor()   # DB에 접근해 SQL을 실행가능한 상태로 변경"
   ]
  },
  {
   "cell_type": "code",
   "execution_count": 21,
   "id": "7524004f",
   "metadata": {},
   "outputs": [
    {
     "data": {
      "text/plain": [
       "['IXIC', 'RUT', 'SPX', 'DJI', 'XAX']"
      ]
     },
     "execution_count": 21,
     "metadata": {},
     "output_type": "execute_result"
    }
   ],
   "source": [
    "cursor.execute(\"SELECT name FROM sqlite_master WHERE type='table'\") # 저장된 데이터를 확인 (sqlite_master를 사용하면 테이블 이름 조회 가능)\n",
    "tables = cursor.fetchall()  # 행 데이터를 다 받아오는 코드\n",
    "tables=[table[0] for table in tables]\n",
    "tables"
   ]
  },
  {
   "cell_type": "code",
   "execution_count": null,
   "id": "9a11c141",
   "metadata": {},
   "outputs": [
    {
     "data": {
      "text/html": [
       "<div>\n",
       "<style scoped>\n",
       "    .dataframe tbody tr th:only-of-type {\n",
       "        vertical-align: middle;\n",
       "    }\n",
       "\n",
       "    .dataframe tbody tr th {\n",
       "        vertical-align: top;\n",
       "    }\n",
       "\n",
       "    .dataframe thead th {\n",
       "        text-align: right;\n",
       "    }\n",
       "</style>\n",
       "<table border=\"1\" class=\"dataframe\">\n",
       "  <thead>\n",
       "    <tr style=\"text-align: right;\">\n",
       "      <th></th>\n",
       "      <th>price</th>\n",
       "      <th>return</th>\n",
       "    </tr>\n",
       "    <tr>\n",
       "      <th>date</th>\n",
       "      <th></th>\n",
       "      <th></th>\n",
       "    </tr>\n",
       "  </thead>\n",
       "  <tbody>\n",
       "    <tr>\n",
       "      <th>1990-01-03</th>\n",
       "      <td>460.899994</td>\n",
       "      <td>0.003478</td>\n",
       "    </tr>\n",
       "    <tr>\n",
       "      <th>1990-01-04</th>\n",
       "      <td>459.399994</td>\n",
       "      <td>-0.003260</td>\n",
       "    </tr>\n",
       "    <tr>\n",
       "      <th>1990-01-05</th>\n",
       "      <td>458.200012</td>\n",
       "      <td>-0.002615</td>\n",
       "    </tr>\n",
       "    <tr>\n",
       "      <th>1990-01-08</th>\n",
       "      <td>458.700012</td>\n",
       "      <td>0.001091</td>\n",
       "    </tr>\n",
       "    <tr>\n",
       "      <th>1990-01-09</th>\n",
       "      <td>456.799988</td>\n",
       "      <td>-0.004151</td>\n",
       "    </tr>\n",
       "    <tr>\n",
       "      <th>...</th>\n",
       "      <td>...</td>\n",
       "      <td>...</td>\n",
       "    </tr>\n",
       "    <tr>\n",
       "      <th>2025-02-14</th>\n",
       "      <td>20026.769531</td>\n",
       "      <td>0.004059</td>\n",
       "    </tr>\n",
       "    <tr>\n",
       "      <th>2025-02-18</th>\n",
       "      <td>20041.259766</td>\n",
       "      <td>0.000723</td>\n",
       "    </tr>\n",
       "    <tr>\n",
       "      <th>2025-02-19</th>\n",
       "      <td>20056.250000</td>\n",
       "      <td>0.000748</td>\n",
       "    </tr>\n",
       "    <tr>\n",
       "      <th>2025-02-20</th>\n",
       "      <td>19962.359375</td>\n",
       "      <td>-0.004692</td>\n",
       "    </tr>\n",
       "    <tr>\n",
       "      <th>2025-02-21</th>\n",
       "      <td>19524.009766</td>\n",
       "      <td>-0.022203</td>\n",
       "    </tr>\n",
       "  </tbody>\n",
       "</table>\n",
       "<p>8850 rows × 2 columns</p>\n",
       "</div>"
      ],
      "text/plain": [
       "                   price    return\n",
       "date                              \n",
       "1990-01-03    460.899994  0.003478\n",
       "1990-01-04    459.399994 -0.003260\n",
       "1990-01-05    458.200012 -0.002615\n",
       "1990-01-08    458.700012  0.001091\n",
       "1990-01-09    456.799988 -0.004151\n",
       "...                  ...       ...\n",
       "2025-02-14  20026.769531  0.004059\n",
       "2025-02-18  20041.259766  0.000723\n",
       "2025-02-19  20056.250000  0.000748\n",
       "2025-02-20  19962.359375 -0.004692\n",
       "2025-02-21  19524.009766 -0.022203\n",
       "\n",
       "[8850 rows x 2 columns]"
      ]
     },
     "execution_count": 26,
     "metadata": {},
     "output_type": "execute_result"
    }
   ],
   "source": [
    "# IXIC 데이터만 가져옴\n",
    "df = pd.read_sql(f\"SELECT * FROM {tables[0]}\", conn, index_col='date')\n",
    "df"
   ]
  },
  {
   "cell_type": "code",
   "execution_count": 29,
   "id": "b00539c1",
   "metadata": {},
   "outputs": [
    {
     "data": {
      "text/html": [
       "<div>\n",
       "<style scoped>\n",
       "    .dataframe tbody tr th:only-of-type {\n",
       "        vertical-align: middle;\n",
       "    }\n",
       "\n",
       "    .dataframe tbody tr th {\n",
       "        vertical-align: top;\n",
       "    }\n",
       "\n",
       "    .dataframe thead th {\n",
       "        text-align: right;\n",
       "    }\n",
       "</style>\n",
       "<table border=\"1\" class=\"dataframe\">\n",
       "  <thead>\n",
       "    <tr style=\"text-align: right;\">\n",
       "      <th></th>\n",
       "      <th>return</th>\n",
       "    </tr>\n",
       "    <tr>\n",
       "      <th>date</th>\n",
       "      <th></th>\n",
       "    </tr>\n",
       "  </thead>\n",
       "  <tbody>\n",
       "    <tr>\n",
       "      <th>1995-12-28</th>\n",
       "      <td>-0.000403</td>\n",
       "    </tr>\n",
       "    <tr>\n",
       "      <th>1995-12-29</th>\n",
       "      <td>0.006970</td>\n",
       "    </tr>\n",
       "    <tr>\n",
       "      <th>1996-01-02</th>\n",
       "      <td>0.005657</td>\n",
       "    </tr>\n",
       "    <tr>\n",
       "      <th>1996-01-03</th>\n",
       "      <td>0.002221</td>\n",
       "    </tr>\n",
       "    <tr>\n",
       "      <th>1996-01-04</th>\n",
       "      <td>-0.006806</td>\n",
       "    </tr>\n",
       "    <tr>\n",
       "      <th>...</th>\n",
       "      <td>...</td>\n",
       "    </tr>\n",
       "    <tr>\n",
       "      <th>2025-02-14</th>\n",
       "      <td>-0.007858</td>\n",
       "    </tr>\n",
       "    <tr>\n",
       "      <th>2025-02-18</th>\n",
       "      <td>0.014365</td>\n",
       "    </tr>\n",
       "    <tr>\n",
       "      <th>2025-02-19</th>\n",
       "      <td>0.001423</td>\n",
       "    </tr>\n",
       "    <tr>\n",
       "      <th>2025-02-20</th>\n",
       "      <td>0.013628</td>\n",
       "    </tr>\n",
       "    <tr>\n",
       "      <th>2025-02-21</th>\n",
       "      <td>-0.035830</td>\n",
       "    </tr>\n",
       "  </tbody>\n",
       "</table>\n",
       "<p>7336 rows × 1 columns</p>\n",
       "</div>"
      ],
      "text/plain": [
       "              return\n",
       "date                \n",
       "1995-12-28 -0.000403\n",
       "1995-12-29  0.006970\n",
       "1996-01-02  0.005657\n",
       "1996-01-03  0.002221\n",
       "1996-01-04 -0.006806\n",
       "...              ...\n",
       "2025-02-14 -0.007858\n",
       "2025-02-18  0.014365\n",
       "2025-02-19  0.001423\n",
       "2025-02-20  0.013628\n",
       "2025-02-21 -0.035830\n",
       "\n",
       "[7336 rows x 1 columns]"
      ]
     },
     "execution_count": 29,
     "metadata": {},
     "output_type": "execute_result"
    }
   ],
   "source": [
    "# XAX 수익률만 가져옴\n",
    "df = pd.read_sql(f\"SELECT date, return FROM {tables[4]}\", conn, index_col='date')\n",
    "df"
   ]
  },
  {
   "cell_type": "code",
   "execution_count": 11,
   "id": "2df8fe3c",
   "metadata": {},
   "outputs": [],
   "source": [
    "conn.close()"
   ]
  }
 ],
 "metadata": {
  "kernelspec": {
   "display_name": "base",
   "language": "python",
   "name": "python3"
  },
  "language_info": {
   "codemirror_mode": {
    "name": "ipython",
    "version": 3
   },
   "file_extension": ".py",
   "mimetype": "text/x-python",
   "name": "python",
   "nbconvert_exporter": "python",
   "pygments_lexer": "ipython3",
   "version": "3.11.7"
  }
 },
 "nbformat": 4,
 "nbformat_minor": 5
}
