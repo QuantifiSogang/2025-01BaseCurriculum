{
 "cells": [
  {
   "cell_type": "markdown",
   "id": "58dd67e780627bd2",
   "metadata": {},
   "source": [
    "## Introduction to DataBase System\n",
    "\n",
    "데이터베이스(Database)는 데이터를 체계적으로 저장하고 관리하는 시스템이다. 데이터를 구조화된 형태로 저장하여 효율적인 검색, 수정, 삭제가 가능하도록 돕는다. 데이터베이스는 크게 엑셀처럼 행과 열로 관리되는 관계형 데이터베이스(RDBMS)와 키와 밸류 형태로 관리되는 NoSQL 데이터베이스로 이뤄진다. \n",
    "\n",
    "그중 관계형 데이터베이스는 데이터를 테이블 형태로 저장하며, 각 테이블은 행(Row)과 열(Column)로 구성된다. 데이터베이스는 대량의 데이터를 안정적으로 관리하고, 여러 사용자와 애플리케이션이 동시에 데이터를 활용할 수 있게 한다. 관계형 데이터베이스는 특히 금융 데이터를 다루는 데 있어서 알맞은 형태로, 시계열 및 고객 데이터와 거래 기록들을 다루는 데 있어서 알맞게 사용가능하다. 최근에는 High Frequency 데이터 처리 및 market depth, order book 데이터 관리의 중요성이 대두되면서, NoSQL형 데이터도 증가하는 추세에 있다."
   ]
  },
  {
   "cell_type": "code",
   "execution_count": 1,
   "id": "initial_id",
   "metadata": {
    "ExecuteTime": {
     "end_time": "2025-02-15T09:15:24.424499Z",
     "start_time": "2025-02-15T09:15:23.623521Z"
    },
    "collapsed": true
   },
   "outputs": [],
   "source": [
    "import yfinance as yf\n",
    "import numpy as np\n",
    "import pandas as pd\n",
    "import matplotlib.pyplot as plt\n",
    "import sqlite3\n",
    "\n",
    "TICKERS = ['^SPX','^IXIC','^RUT','^DJI','^XAX']\n",
    "START_DATE = '1990-01-01'"
   ]
  },
  {
   "cell_type": "markdown",
   "id": "5c1c3e35de96a127",
   "metadata": {},
   "source": [
    "### 1. Structured Query Language\n",
    "\n",
    "`SQL(Structured Query Language)`은 관계형 데이터베이스를 관리하기 위한 표준 언어이다. 1970년대 IBM에서 SEQUEL이라는 이름으로 처음 개발되었으며, 이후 ANSI와 ISO에 의해 표준화되었다. SQL은 관계형 데이터베이스에서 데이터를 표 형식으로 다루며, 데이터 간의 관계를 정의하고 관리하는 데 적합하다. \n",
    "\n",
    "SQL은 데이터 정의, 조작, 제어라는 세 가지 주요 기능으로 나뉘는데, **데이터 정의** 는 테이블과 같은 데이터베이스 구조를 생성, 수정, 삭제하는 작업으로, 주로 데이터베이스 설계 초기 단계에서 사용된다. **데이터 조작** 은 삽입, 조회, 수정, 삭제와 같은 데이터를 직접 다루는 작업으로, 데이터베이스의 일상적인 사용에서 가장 많이 쓰인다. **데이터 제어** 는 사용자 권한을 관리하고 데이터베이스의 보안을 설정하는 데 초점이 맞춰져 있다. 이러한 기능은 데이터베이스의 설계부터 운영까지 모든 단계에서 필수적이다. 예를 들어, 새로운 테이블을 생성하고 데이터를 삽입한 뒤, 특정 사용자에게만 접근 권한을 부여하는 방식으로 활용될 수 있다. SQL의 각 기능은 효율적인 데이터 관리를 가능하게 하며, 데이터 무결성과 보안을 보장한다.\n",
    "\n",
    "SQL은 데이터를 정의(데이터의 구조를 정의하고 DB를 생성)하는 DDL(Data Definition Language), 데이터를 조작(수정, 삭제 등)하는 DML(Data Manipulation Language), 데이터를 제어(DB 접근권한 설정 등)하는 DCL(Data Control Language)로 구성되어 있다. 이 세 가지 기능은 데이터베이스의 구조 설계, 데이터 처리, 보안 관리의 모든 단계를 포함한다. \n",
    "\n",
    "현재 MySQL, PostgreSQL, SQLite와 같은 많은 데이터베이스 시스템이 SQL을 지원하며, 효율적이고 안정적인 데이터 관리를 가능하게 한다."
   ]
  },
  {
   "cell_type": "markdown",
   "id": "efb7c4efc6d38da",
   "metadata": {},
   "source": [
    "#### 1.1 DDL (Data Definition Language)\n",
    "\n",
    "테이블과 관련 열을 생성, 변경, 삭제하는 명령어를 데이터 정의어라고 한다. DDL은 데이터베이스의 구조를 정의하고 관리하는 데 사용된다. 테이블, 인덱스, 뷰 등의 데이터베이스 객체를 생성, 수정, 삭제하는 명령어를 포함한다. 대표적인 명령어로는 `CREATE`, `ALTER`, `DROP` 등이 있다. \n",
    "\n",
    "예를 들어, `CREATE TABLE` 명령어를 사용해 새로운 테이블을 정의할 수 있다. 또한, `ALTER TABLE`을 사용해 기존 테이블에 새로운 열을 추가하거나 수정할 수 있다. \n",
    "\n",
    "DDL은 데이터베이스의 설계 초기 단계에서 중요하며, 데이터의 논리적 구조(어떤 type의 데이터가 어디에 들어가고, 어디에 연결될지 등등을 정의해야 함)를 설정하는 역할을 한다. 데이터 타입과 제약 조건을 설정함으로써 데이터의 일관성과 무결성을 보장할 수 있다. 금융 데이터베이스에서는 주식 가격, 거래 기록, 경제 지표 등을 저장하는 테이블을 설계하는 데 자주 사용된다. 스키마(데이터의 구조와 구성을 정의하는 설계도를 의미) 설계와 데이터 정의는 데이터베이스 성능과 데이터 분석의 정확성에 큰 영향을 미친다."
   ]
  },
  {
   "cell_type": "markdown",
   "id": "41b2122395254346",
   "metadata": {},
   "source": [
    "**Create Table**\n",
    "\n",
    "가장 기초적인 작업은 테이블을 생성하는 것이다. 테이블은 하나의 엑셀 데이터를 생성하는 것과 같다고 보면 된다. 한 종목의 시계열 데이터는 대략 7개의 컬럼(날짜, 시가, 고가, 저가, 종가, 수정종가, 거래량)을 가진 table을 생성한다고 보면 편하다. DB데이터는 `sqlite3` 라이브러리의 `connect()` 함수를 통해 연결을 우선적으로 해 줘야 한다. `cursur()` method는 파이썬 내에서 SQL 명령문을 실행하도록 해 주는 역할을 한다."
   ]
  },
  {
   "cell_type": "code",
   "execution_count": 2,
   "id": "90d6eaeddd282d4b",
   "metadata": {
    "ExecuteTime": {
     "end_time": "2025-02-15T09:15:26.385515Z",
     "start_time": "2025-02-15T09:15:26.381733Z"
    }
   },
   "outputs": [],
   "source": [
    "DB_PATH = 'price.db'\n",
    "conn = sqlite3.connect(DB_PATH)  # DB에 연결\n",
    "cursor = conn.cursor()   # DB에 접근해 SQL을 실행가능한 상태로 변경"
   ]
  },
  {
   "cell_type": "code",
   "execution_count": 3,
   "id": "481d57d2cde23e40",
   "metadata": {
    "ExecuteTime": {
     "end_time": "2025-02-15T09:15:27.210680Z",
     "start_time": "2025-02-15T09:15:27.206532Z"
    }
   },
   "outputs": [
    {
     "data": {
      "text/plain": [
       "sqlite3.Connection"
      ]
     },
     "execution_count": 3,
     "metadata": {},
     "output_type": "execute_result"
    }
   ],
   "source": [
    "type(conn) # Connection "
   ]
  },
  {
   "cell_type": "markdown",
   "id": "22658ee1cfe61a90",
   "metadata": {},
   "source": [
    "price.db에 `stock_prices`이라는 table을 생성해 보자"
   ]
  },
  {
   "cell_type": "markdown",
   "id": "2b310526",
   "metadata": {},
   "source": [
    "`CREATE table if not exists stock_prices`는 'stock_price'라는 테이블이 존재하지 없으면 테이블을 만드라는 의미\n",
    "SQL문에서 column을 만들 때, 그 column에 들어갈 데이터 형태도 지정해 줘야 함"
   ]
  },
  {
   "cell_type": "code",
   "execution_count": 4,
   "id": "37b24852ae56f322",
   "metadata": {
    "ExecuteTime": {
     "end_time": "2025-02-15T09:15:28.030663Z",
     "start_time": "2025-02-15T09:15:28.026055Z"
    }
   },
   "outputs": [
    {
     "data": {
      "text/plain": [
       "<sqlite3.Cursor at 0x26fbe4c5f40>"
      ]
     },
     "execution_count": 4,
     "metadata": {},
     "output_type": "execute_result"
    }
   ],
   "source": [
    "cursor.execute(\n",
    "    f\"\"\"\n",
    "        CREATE table if not exists stock_prices (\n",
    "            price varchar(10),\n",
    "            ticker varchar(10),\n",
    "            value real,\n",
    "            primary key (price, ticker)\n",
    "        )\n",
    "    \"\"\"\n",
    ")"
   ]
  },
  {
   "cell_type": "markdown",
   "id": "d415f4c38586d873",
   "metadata": {},
   "source": [
    "DB에 접속하면 실제로 stock_prices이라는 이름의 table이 생성되는 것을 확인할 수 있다. 여기서 SQL문의 `primary_key`는 테이블에서 각 행을 유일하게 식별하는 컬럼으로, 데이터를 불러서 읽을 때 좀 더 빠르게 읽을 수 있도록 한다. 테이블과 열의 이름을 정할 때에는 다음 규칙을 따라야 한다.\n",
    "\n",
    "- 동일 한 사용자가 동일한 이름의 테이블을 중복하여 생성이 불가능하다. 또한, 테이블 안의 열 이름도 동일한 이름으로 생성 불가능하다.\n",
    "- `SELECT`, `FROM`, `COUNT`와 같은 예약어는 사용할 수 없다.\n",
    "- 테이블 이름은 문자로 시작해야 한다. 이 규칙은 python의 변수 사용 규칙과 같다. 한글과 특문을 사용할 수는 있지만 권장되지 않는다.\n",
    "- 문자의 길이는 1~30 byte 이내여야 한다."
   ]
  },
  {
   "cell_type": "markdown",
   "id": "b23fe0dfdcaf222e",
   "metadata": {},
   "source": [
    "**Modify Tables**\n",
    "\n",
    "기존에 존재하는 테이블에 컬럼을 추가하여 저장하거나, 기존의 컬럼의 내용을 수정하고 싶을 수 있다. `ALTER` 명령문은 SQL에서 테이블 또는 데이터베이스 객체의 구조를 변경할 때 사용된다. 테이블에 새로운 열(Column)을 추가하거나 기존 열을 수정 또는 삭제하는 등의 작업을 수행할 수 있다. 또한, 제약 조건(Constraints) 추가, 데이터 타입 변경 등도 가능하다.\n",
    "\n",
    "이미 생성한 테이블에 맨 끝쪽에 returns를 추가한다고 상상해 보자. 아래와 같이 SQL문을 작성할 수 있다."
   ]
  },
  {
   "cell_type": "code",
   "execution_count": 5,
   "id": "1797eb0eb645a598",
   "metadata": {
    "ExecuteTime": {
     "end_time": "2025-02-15T09:15:30.017712Z",
     "start_time": "2025-02-15T09:15:30.012657Z"
    }
   },
   "outputs": [
    {
     "data": {
      "text/plain": [
       "<sqlite3.Cursor at 0x26fbe4c5f40>"
      ]
     },
     "execution_count": 5,
     "metadata": {},
     "output_type": "execute_result"
    }
   ],
   "source": [
    "cursor.execute(\n",
    "    f\"\"\"\n",
    "        ALTER TABLE stock_prices\n",
    "        add returns real\n",
    "    \"\"\"\n",
    ")"
   ]
  },
  {
   "cell_type": "markdown",
   "id": "4b263b90de4125e",
   "metadata": {},
   "source": [
    "또는, 이미 추가된 컬럼을 삭제할 수도 있다."
   ]
  },
  {
   "cell_type": "code",
   "execution_count": 6,
   "id": "b61ca8886e160a14",
   "metadata": {
    "ExecuteTime": {
     "end_time": "2025-02-15T09:15:31.078738Z",
     "start_time": "2025-02-15T09:15:31.074577Z"
    }
   },
   "outputs": [
    {
     "data": {
      "text/plain": [
       "<sqlite3.Cursor at 0x26fbe4c5f40>"
      ]
     },
     "execution_count": 6,
     "metadata": {},
     "output_type": "execute_result"
    }
   ],
   "source": [
    "cursor.execute(\n",
    "    f\"\"\"\n",
    "        ALTER TABLE stock_prices\n",
    "        drop column returns;\n",
    "    \"\"\"\n",
    ")"
   ]
  },
  {
   "cell_type": "markdown",
   "id": "a8709d796a308f77",
   "metadata": {},
   "source": [
    "`ALTER TABLE ~ ADD`절의 특징은 다음과 같다.\n",
    "\n",
    "- 새로운 열을 추가할 수 있지만, 테이블에 있던 기존의 열은 삭제할 수 없다.\n",
    "- 새로 생성되는 열은 위치를 지정할 수 없다\n",
    "- 테이블에 이미 행이 있다면 열을 추가하였을 때 새로운 열의 데이터 값을 `NULL`로 초기화된다."
   ]
  },
  {
   "cell_type": "markdown",
   "id": "abed2e8731f1d999",
   "metadata": {},
   "source": [
    "`ALTER TABLE ~ MODIFY`절을 사용하여 열의 정의를 수정할 수 있다. 열의 수정 대상은 열의 데이터 타입과 크기, Default Value이다. 단, 여기서는 SQLlite3을 사용하기 때문에, Modify는 지원되지 않는다."
   ]
  },
  {
   "cell_type": "markdown",
   "id": "88e291de75b66575",
   "metadata": {},
   "source": [
    "`ALTER TABLE ~ RENAME COLUMN` 절을 사용하면 열 이름을 수정할 수 있다."
   ]
  },
  {
   "cell_type": "code",
   "execution_count": 7,
   "id": "5520fd54acbf5b86",
   "metadata": {
    "ExecuteTime": {
     "end_time": "2025-02-15T09:15:33.238239Z",
     "start_time": "2025-02-15T09:15:33.233771Z"
    }
   },
   "outputs": [
    {
     "data": {
      "text/plain": [
       "<sqlite3.Cursor at 0x24a55af5f40>"
      ]
     },
     "execution_count": 7,
     "metadata": {},
     "output_type": "execute_result"
    }
   ],
   "source": [
    "cursor.execute(\n",
    "    f\"\"\"\n",
    "        ALTER TABLE stock_prices\n",
    "        add returns real\n",
    "    \"\"\"\n",
    ")"
   ]
  },
  {
   "cell_type": "code",
   "execution_count": 8,
   "id": "8b379bb8c9800c7e",
   "metadata": {
    "ExecuteTime": {
     "end_time": "2025-02-15T09:15:34.323976Z",
     "start_time": "2025-02-15T09:15:34.319835Z"
    }
   },
   "outputs": [
    {
     "data": {
      "text/plain": [
       "<sqlite3.Cursor at 0x24a55af5f40>"
      ]
     },
     "execution_count": 8,
     "metadata": {},
     "output_type": "execute_result"
    }
   ],
   "source": [
    "cursor.execute(\n",
    "    f\"\"\"\n",
    "        alter table stock_prices\n",
    "        rename column returns to return;\n",
    "    \"\"\"\n",
    ")"
   ]
  },
  {
   "cell_type": "markdown",
   "id": "d840f3e7f741636c",
   "metadata": {},
   "source": [
    "**Delete table**\n",
    "\n",
    "table을 생성한 후 더이상 사용하지 않거나 쓸모 없다고 판단되는 경우 table 자체를 삭제할 수도 있다. `DROP` 명령문은 데이터베이스에서 특정 테이블을 완전히 삭제하는 데 사용된다. 이 명령어를 실행하면 테이블의 구조와 모든 데이터가 완전히 제거되며, 복구할 수 없다. 삭제된 테이블과 관련된 모든 인덱스, 제약 조건, 그리고 해당 테이블에 저장된 데이터도 함께 삭제된다."
   ]
  },
  {
   "cell_type": "code",
   "execution_count": 7,
   "id": "687d38efc8a04e0b",
   "metadata": {
    "ExecuteTime": {
     "end_time": "2025-02-15T09:15:36.746442Z",
     "start_time": "2025-02-15T09:15:36.743168Z"
    }
   },
   "outputs": [
    {
     "data": {
      "text/plain": [
       "<sqlite3.Cursor at 0x26fbe4c5f40>"
      ]
     },
     "execution_count": 7,
     "metadata": {},
     "output_type": "execute_result"
    }
   ],
   "source": [
    "cursor.execute(\n",
    "    f\"\"\"\n",
    "        DROP table stock_prices\n",
    "    \"\"\"\n",
    ")"
   ]
  },
  {
   "cell_type": "markdown",
   "id": "baa7f30faaddcbb3",
   "metadata": {},
   "source": [
    "이제 실제로 테이블을 생성해 보자. 여기서 `NOT NULL`은 해당 column에는 null 값을 허용하지 않는다는 의미이다."
   ]
  },
  {
   "cell_type": "code",
   "execution_count": 8,
   "id": "b563fb3bbff49fa4",
   "metadata": {
    "ExecuteTime": {
     "end_time": "2025-02-15T09:16:09.678022Z",
     "start_time": "2025-02-15T09:16:09.674088Z"
    }
   },
   "outputs": [
    {
     "data": {
      "text/plain": [
       "<sqlite3.Cursor at 0x26fbe4c5f40>"
      ]
     },
     "execution_count": 8,
     "metadata": {},
     "output_type": "execute_result"
    }
   ],
   "source": [
    "cursor.execute(\"\"\"\n",
    "    CREATE TABLE IF NOT EXISTS stock_prices (\n",
    "        date DATE NOT NULL,\n",
    "        field VARCHAR(10) NOT NULL,\n",
    "        ticker VARCHAR(10) NOT NULL,\n",
    "        value REAL NOT NULL,\n",
    "        PRIMARY KEY (date, field, ticker)\n",
    "    )\n",
    "\"\"\")"
   ]
  },
  {
   "cell_type": "markdown",
   "id": "79859f04ec65b1f0",
   "metadata": {},
   "source": [
    "#### 1.2 DML (Data Manipulation Language)\n",
    "\n",
    "테이블을 생성하였으니, 알맞은 데이터를 적재할 차례이다. DML은 데이터베이스에 저장된 데이터를 조회하거나 수정, 삽입, 삭제하는 작업을 수행한다. **가장 자주 사용되는 SQL 기능**으로, 데이터를 직접 다루기 때문에 **실시간 데이터 분석과 관리에서 중요**하다. \n",
    "\n",
    "대표적인 명령어로는 데이터를 삽입하는 `INSERT`, 데이터를 검색하는 `SELECT`, 데이터를 수정하는 `UPDATE`, 데이터를 삭제하는 `DELETE`가 있다. 예를 들어, `SELECT` 명령어를 사용해 특정 주식의 일별 가격을 조회할 수 있다. 혹은, 전체 가격 테이블에서 특정 종목의 가격 전체의 열을 불러올 수도 있다.\n",
    "\n",
    "주로 데이터의 상태를 변경하거나 원하는 데이터를 추출하는 데 사용되며, 데이터베이스 사용자의 주요 인터페이스 역할을 한다. 금융 데이터에서는 특정 날짜의 주식 가격을 조회하거나, 거래 내역을 삽입하고 수정하는 데 활용된다. DML은 데이터를 효율적으로 다룰 수 있도록 설계되어 있어, 대규모 데이터베이스에서도 빠르고 정확하게 작동한다."
   ]
  },
  {
   "cell_type": "code",
   "execution_count": 12,
   "id": "687d84b8c7d57250",
   "metadata": {
    "ExecuteTime": {
     "end_time": "2025-02-15T09:16:52.784373Z",
     "start_time": "2025-02-15T09:16:52.149769Z"
    }
   },
   "outputs": [],
   "source": [
    "data = yf.download(TICKERS, start = START_DATE, progress = False)"
   ]
  },
  {
   "cell_type": "markdown",
   "id": "cb4dd3ea3fa163ff",
   "metadata": {},
   "source": [
    "yahoo finance를 비롯하여 대부분의 가격을 다루는 DataBase는 다음과 같이 MultiIndex 형태로 스키마를 관리한다."
   ]
  },
  {
   "cell_type": "code",
   "execution_count": 13,
   "id": "97c909fb20659048",
   "metadata": {
    "ExecuteTime": {
     "end_time": "2025-02-15T09:16:52.787833Z",
     "start_time": "2025-02-15T09:16:52.785298Z"
    }
   },
   "outputs": [
    {
     "data": {
      "text/plain": [
       "MultiIndex([( 'Close',  '^DJI'),\n",
       "            ( 'Close', '^IXIC'),\n",
       "            ( 'Close',  '^RUT'),\n",
       "            ( 'Close',  '^SPX'),\n",
       "            ( 'Close',  '^XAX'),\n",
       "            (  'High',  '^DJI'),\n",
       "            (  'High', '^IXIC'),\n",
       "            (  'High',  '^RUT'),\n",
       "            (  'High',  '^SPX'),\n",
       "            (  'High',  '^XAX'),\n",
       "            (   'Low',  '^DJI'),\n",
       "            (   'Low', '^IXIC'),\n",
       "            (   'Low',  '^RUT'),\n",
       "            (   'Low',  '^SPX'),\n",
       "            (   'Low',  '^XAX'),\n",
       "            (  'Open',  '^DJI'),\n",
       "            (  'Open', '^IXIC'),\n",
       "            (  'Open',  '^RUT'),\n",
       "            (  'Open',  '^SPX'),\n",
       "            (  'Open',  '^XAX'),\n",
       "            ('Volume',  '^DJI'),\n",
       "            ('Volume', '^IXIC'),\n",
       "            ('Volume',  '^RUT'),\n",
       "            ('Volume',  '^SPX'),\n",
       "            ('Volume',  '^XAX')],\n",
       "           names=['Price', 'Ticker'])"
      ]
     },
     "execution_count": 13,
     "metadata": {},
     "output_type": "execute_result"
    }
   ],
   "source": [
    "data.columns"
   ]
  },
  {
   "cell_type": "code",
   "execution_count": 14,
   "id": "399407bf",
   "metadata": {},
   "outputs": [
    {
     "data": {
      "text/html": [
       "<div>\n",
       "<style scoped>\n",
       "    .dataframe tbody tr th:only-of-type {\n",
       "        vertical-align: middle;\n",
       "    }\n",
       "\n",
       "    .dataframe tbody tr th {\n",
       "        vertical-align: top;\n",
       "    }\n",
       "\n",
       "    .dataframe thead tr th {\n",
       "        text-align: left;\n",
       "    }\n",
       "\n",
       "    .dataframe thead tr:last-of-type th {\n",
       "        text-align: right;\n",
       "    }\n",
       "</style>\n",
       "<table border=\"1\" class=\"dataframe\">\n",
       "  <thead>\n",
       "    <tr>\n",
       "      <th>Price</th>\n",
       "      <th colspan=\"5\" halign=\"left\">Close</th>\n",
       "      <th colspan=\"5\" halign=\"left\">High</th>\n",
       "      <th>...</th>\n",
       "      <th colspan=\"5\" halign=\"left\">Open</th>\n",
       "      <th colspan=\"5\" halign=\"left\">Volume</th>\n",
       "    </tr>\n",
       "    <tr>\n",
       "      <th>Ticker</th>\n",
       "      <th>^DJI</th>\n",
       "      <th>^IXIC</th>\n",
       "      <th>^RUT</th>\n",
       "      <th>^SPX</th>\n",
       "      <th>^XAX</th>\n",
       "      <th>^DJI</th>\n",
       "      <th>^IXIC</th>\n",
       "      <th>^RUT</th>\n",
       "      <th>^SPX</th>\n",
       "      <th>^XAX</th>\n",
       "      <th>...</th>\n",
       "      <th>^DJI</th>\n",
       "      <th>^IXIC</th>\n",
       "      <th>^RUT</th>\n",
       "      <th>^SPX</th>\n",
       "      <th>^XAX</th>\n",
       "      <th>^DJI</th>\n",
       "      <th>^IXIC</th>\n",
       "      <th>^RUT</th>\n",
       "      <th>^SPX</th>\n",
       "      <th>^XAX</th>\n",
       "    </tr>\n",
       "    <tr>\n",
       "      <th>Date</th>\n",
       "      <th></th>\n",
       "      <th></th>\n",
       "      <th></th>\n",
       "      <th></th>\n",
       "      <th></th>\n",
       "      <th></th>\n",
       "      <th></th>\n",
       "      <th></th>\n",
       "      <th></th>\n",
       "      <th></th>\n",
       "      <th></th>\n",
       "      <th></th>\n",
       "      <th></th>\n",
       "      <th></th>\n",
       "      <th></th>\n",
       "      <th></th>\n",
       "      <th></th>\n",
       "      <th></th>\n",
       "      <th></th>\n",
       "      <th></th>\n",
       "      <th></th>\n",
       "    </tr>\n",
       "  </thead>\n",
       "  <tbody>\n",
       "    <tr>\n",
       "      <th>1990-01-02</th>\n",
       "      <td>NaN</td>\n",
       "      <td>459.299988</td>\n",
       "      <td>169.949997</td>\n",
       "      <td>359.690002</td>\n",
       "      <td>NaN</td>\n",
       "      <td>NaN</td>\n",
       "      <td>459.299988</td>\n",
       "      <td>169.960007</td>\n",
       "      <td>359.690002</td>\n",
       "      <td>NaN</td>\n",
       "      <td>...</td>\n",
       "      <td>NaN</td>\n",
       "      <td>452.899994</td>\n",
       "      <td>168.309998</td>\n",
       "      <td>353.399994</td>\n",
       "      <td>NaN</td>\n",
       "      <td>NaN</td>\n",
       "      <td>110720000</td>\n",
       "      <td>162070000</td>\n",
       "      <td>162070000</td>\n",
       "      <td>NaN</td>\n",
       "    </tr>\n",
       "    <tr>\n",
       "      <th>1990-01-03</th>\n",
       "      <td>NaN</td>\n",
       "      <td>460.899994</td>\n",
       "      <td>170.789993</td>\n",
       "      <td>358.760010</td>\n",
       "      <td>NaN</td>\n",
       "      <td>NaN</td>\n",
       "      <td>461.600006</td>\n",
       "      <td>170.800003</td>\n",
       "      <td>360.589996</td>\n",
       "      <td>NaN</td>\n",
       "      <td>...</td>\n",
       "      <td>NaN</td>\n",
       "      <td>461.100006</td>\n",
       "      <td>169.960007</td>\n",
       "      <td>359.690002</td>\n",
       "      <td>NaN</td>\n",
       "      <td>NaN</td>\n",
       "      <td>152660000</td>\n",
       "      <td>192330000</td>\n",
       "      <td>192330000</td>\n",
       "      <td>NaN</td>\n",
       "    </tr>\n",
       "    <tr>\n",
       "      <th>1990-01-04</th>\n",
       "      <td>NaN</td>\n",
       "      <td>459.399994</td>\n",
       "      <td>170.089996</td>\n",
       "      <td>355.670013</td>\n",
       "      <td>NaN</td>\n",
       "      <td>NaN</td>\n",
       "      <td>460.799988</td>\n",
       "      <td>170.789993</td>\n",
       "      <td>358.760010</td>\n",
       "      <td>NaN</td>\n",
       "      <td>...</td>\n",
       "      <td>NaN</td>\n",
       "      <td>460.399994</td>\n",
       "      <td>170.779999</td>\n",
       "      <td>358.760010</td>\n",
       "      <td>NaN</td>\n",
       "      <td>NaN</td>\n",
       "      <td>147950000</td>\n",
       "      <td>177000000</td>\n",
       "      <td>177000000</td>\n",
       "      <td>NaN</td>\n",
       "    </tr>\n",
       "    <tr>\n",
       "      <th>1990-01-05</th>\n",
       "      <td>NaN</td>\n",
       "      <td>458.200012</td>\n",
       "      <td>169.649994</td>\n",
       "      <td>352.200012</td>\n",
       "      <td>NaN</td>\n",
       "      <td>NaN</td>\n",
       "      <td>459.399994</td>\n",
       "      <td>170.119995</td>\n",
       "      <td>355.670013</td>\n",
       "      <td>NaN</td>\n",
       "      <td>...</td>\n",
       "      <td>NaN</td>\n",
       "      <td>457.899994</td>\n",
       "      <td>170.089996</td>\n",
       "      <td>355.670013</td>\n",
       "      <td>NaN</td>\n",
       "      <td>NaN</td>\n",
       "      <td>137230000</td>\n",
       "      <td>158530000</td>\n",
       "      <td>158530000</td>\n",
       "      <td>NaN</td>\n",
       "    </tr>\n",
       "    <tr>\n",
       "      <th>1990-01-08</th>\n",
       "      <td>NaN</td>\n",
       "      <td>458.700012</td>\n",
       "      <td>169.550003</td>\n",
       "      <td>353.790009</td>\n",
       "      <td>NaN</td>\n",
       "      <td>NaN</td>\n",
       "      <td>458.700012</td>\n",
       "      <td>169.679993</td>\n",
       "      <td>354.239990</td>\n",
       "      <td>NaN</td>\n",
       "      <td>...</td>\n",
       "      <td>NaN</td>\n",
       "      <td>457.100006</td>\n",
       "      <td>169.669998</td>\n",
       "      <td>352.200012</td>\n",
       "      <td>NaN</td>\n",
       "      <td>NaN</td>\n",
       "      <td>115500000</td>\n",
       "      <td>140110000</td>\n",
       "      <td>140110000</td>\n",
       "      <td>NaN</td>\n",
       "    </tr>\n",
       "    <tr>\n",
       "      <th>...</th>\n",
       "      <td>...</td>\n",
       "      <td>...</td>\n",
       "      <td>...</td>\n",
       "      <td>...</td>\n",
       "      <td>...</td>\n",
       "      <td>...</td>\n",
       "      <td>...</td>\n",
       "      <td>...</td>\n",
       "      <td>...</td>\n",
       "      <td>...</td>\n",
       "      <td>...</td>\n",
       "      <td>...</td>\n",
       "      <td>...</td>\n",
       "      <td>...</td>\n",
       "      <td>...</td>\n",
       "      <td>...</td>\n",
       "      <td>...</td>\n",
       "      <td>...</td>\n",
       "      <td>...</td>\n",
       "      <td>...</td>\n",
       "      <td>...</td>\n",
       "    </tr>\n",
       "    <tr>\n",
       "      <th>2025-03-14</th>\n",
       "      <td>41488.191406</td>\n",
       "      <td>17754.089844</td>\n",
       "      <td>2044.099976</td>\n",
       "      <td>5638.939941</td>\n",
       "      <td>4939.700195</td>\n",
       "      <td>41528.109375</td>\n",
       "      <td>17773.480469</td>\n",
       "      <td>2044.510010</td>\n",
       "      <td>5645.270020</td>\n",
       "      <td>4945.200195</td>\n",
       "      <td>...</td>\n",
       "      <td>41057.570312</td>\n",
       "      <td>17523.300781</td>\n",
       "      <td>2008.530029</td>\n",
       "      <td>5563.850098</td>\n",
       "      <td>4865.069824</td>\n",
       "      <td>600240000.0</td>\n",
       "      <td>7093850000</td>\n",
       "      <td>4863180000</td>\n",
       "      <td>4863180000</td>\n",
       "      <td>0.0</td>\n",
       "    </tr>\n",
       "    <tr>\n",
       "      <th>2025-03-17</th>\n",
       "      <td>41841.628906</td>\n",
       "      <td>17808.660156</td>\n",
       "      <td>2068.330078</td>\n",
       "      <td>5675.120117</td>\n",
       "      <td>5038.959961</td>\n",
       "      <td>42013.101562</td>\n",
       "      <td>17925.939453</td>\n",
       "      <td>2073.919922</td>\n",
       "      <td>5703.520020</td>\n",
       "      <td>5047.810059</td>\n",
       "      <td>...</td>\n",
       "      <td>41460.218750</td>\n",
       "      <td>17722.539062</td>\n",
       "      <td>2041.520020</td>\n",
       "      <td>5635.600098</td>\n",
       "      <td>4939.700195</td>\n",
       "      <td>564190000.0</td>\n",
       "      <td>6306340000</td>\n",
       "      <td>5031770000</td>\n",
       "      <td>5031770000</td>\n",
       "      <td>0.0</td>\n",
       "    </tr>\n",
       "    <tr>\n",
       "      <th>2025-03-18</th>\n",
       "      <td>41581.308594</td>\n",
       "      <td>17504.119141</td>\n",
       "      <td>2049.939941</td>\n",
       "      <td>5614.660156</td>\n",
       "      <td>5053.600098</td>\n",
       "      <td>41787.250000</td>\n",
       "      <td>17682.919922</td>\n",
       "      <td>2060.969971</td>\n",
       "      <td>5654.529785</td>\n",
       "      <td>5070.649902</td>\n",
       "      <td>...</td>\n",
       "      <td>41772.910156</td>\n",
       "      <td>17662.570312</td>\n",
       "      <td>2060.969971</td>\n",
       "      <td>5654.529785</td>\n",
       "      <td>5038.959961</td>\n",
       "      <td>569810000.0</td>\n",
       "      <td>6450530000</td>\n",
       "      <td>4666270000</td>\n",
       "      <td>4666270000</td>\n",
       "      <td>0.0</td>\n",
       "    </tr>\n",
       "    <tr>\n",
       "      <th>2025-03-19</th>\n",
       "      <td>41964.628906</td>\n",
       "      <td>17750.789062</td>\n",
       "      <td>2082.080078</td>\n",
       "      <td>5675.290039</td>\n",
       "      <td>5118.390137</td>\n",
       "      <td>42178.410156</td>\n",
       "      <td>17917.539062</td>\n",
       "      <td>2092.030029</td>\n",
       "      <td>5715.330078</td>\n",
       "      <td>5133.939941</td>\n",
       "      <td>...</td>\n",
       "      <td>41613.191406</td>\n",
       "      <td>17590.119141</td>\n",
       "      <td>2051.280029</td>\n",
       "      <td>5632.370117</td>\n",
       "      <td>5053.600098</td>\n",
       "      <td>577530000.0</td>\n",
       "      <td>6302310000</td>\n",
       "      <td>4660090000</td>\n",
       "      <td>4660090000</td>\n",
       "      <td>0.0</td>\n",
       "    </tr>\n",
       "    <tr>\n",
       "      <th>2025-03-20</th>\n",
       "      <td>41953.320312</td>\n",
       "      <td>17691.630859</td>\n",
       "      <td>2068.629883</td>\n",
       "      <td>5662.890137</td>\n",
       "      <td>5145.500000</td>\n",
       "      <td>42250.289062</td>\n",
       "      <td>17903.199219</td>\n",
       "      <td>2089.979980</td>\n",
       "      <td>5711.149902</td>\n",
       "      <td>5163.500000</td>\n",
       "      <td>...</td>\n",
       "      <td>41795.261719</td>\n",
       "      <td>17586.060547</td>\n",
       "      <td>2068.600098</td>\n",
       "      <td>5646.919922</td>\n",
       "      <td>5118.390137</td>\n",
       "      <td>545240000.0</td>\n",
       "      <td>6098330000</td>\n",
       "      <td>4678420000</td>\n",
       "      <td>4678420000</td>\n",
       "      <td>0.0</td>\n",
       "    </tr>\n",
       "  </tbody>\n",
       "</table>\n",
       "<p>8870 rows × 25 columns</p>\n",
       "</div>"
      ],
      "text/plain": [
       "Price              Close                                                       \\\n",
       "Ticker              ^DJI         ^IXIC         ^RUT         ^SPX         ^XAX   \n",
       "Date                                                                            \n",
       "1990-01-02           NaN    459.299988   169.949997   359.690002          NaN   \n",
       "1990-01-03           NaN    460.899994   170.789993   358.760010          NaN   \n",
       "1990-01-04           NaN    459.399994   170.089996   355.670013          NaN   \n",
       "1990-01-05           NaN    458.200012   169.649994   352.200012          NaN   \n",
       "1990-01-08           NaN    458.700012   169.550003   353.790009          NaN   \n",
       "...                  ...           ...          ...          ...          ...   \n",
       "2025-03-14  41488.191406  17754.089844  2044.099976  5638.939941  4939.700195   \n",
       "2025-03-17  41841.628906  17808.660156  2068.330078  5675.120117  5038.959961   \n",
       "2025-03-18  41581.308594  17504.119141  2049.939941  5614.660156  5053.600098   \n",
       "2025-03-19  41964.628906  17750.789062  2082.080078  5675.290039  5118.390137   \n",
       "2025-03-20  41953.320312  17691.630859  2068.629883  5662.890137  5145.500000   \n",
       "\n",
       "Price               High                                                       \\\n",
       "Ticker              ^DJI         ^IXIC         ^RUT         ^SPX         ^XAX   \n",
       "Date                                                                            \n",
       "1990-01-02           NaN    459.299988   169.960007   359.690002          NaN   \n",
       "1990-01-03           NaN    461.600006   170.800003   360.589996          NaN   \n",
       "1990-01-04           NaN    460.799988   170.789993   358.760010          NaN   \n",
       "1990-01-05           NaN    459.399994   170.119995   355.670013          NaN   \n",
       "1990-01-08           NaN    458.700012   169.679993   354.239990          NaN   \n",
       "...                  ...           ...          ...          ...          ...   \n",
       "2025-03-14  41528.109375  17773.480469  2044.510010  5645.270020  4945.200195   \n",
       "2025-03-17  42013.101562  17925.939453  2073.919922  5703.520020  5047.810059   \n",
       "2025-03-18  41787.250000  17682.919922  2060.969971  5654.529785  5070.649902   \n",
       "2025-03-19  42178.410156  17917.539062  2092.030029  5715.330078  5133.939941   \n",
       "2025-03-20  42250.289062  17903.199219  2089.979980  5711.149902  5163.500000   \n",
       "\n",
       "Price       ...          Open                                          \\\n",
       "Ticker      ...          ^DJI         ^IXIC         ^RUT         ^SPX   \n",
       "Date        ...                                                         \n",
       "1990-01-02  ...           NaN    452.899994   168.309998   353.399994   \n",
       "1990-01-03  ...           NaN    461.100006   169.960007   359.690002   \n",
       "1990-01-04  ...           NaN    460.399994   170.779999   358.760010   \n",
       "1990-01-05  ...           NaN    457.899994   170.089996   355.670013   \n",
       "1990-01-08  ...           NaN    457.100006   169.669998   352.200012   \n",
       "...         ...           ...           ...          ...          ...   \n",
       "2025-03-14  ...  41057.570312  17523.300781  2008.530029  5563.850098   \n",
       "2025-03-17  ...  41460.218750  17722.539062  2041.520020  5635.600098   \n",
       "2025-03-18  ...  41772.910156  17662.570312  2060.969971  5654.529785   \n",
       "2025-03-19  ...  41613.191406  17590.119141  2051.280029  5632.370117   \n",
       "2025-03-20  ...  41795.261719  17586.060547  2068.600098  5646.919922   \n",
       "\n",
       "Price                         Volume                                           \n",
       "Ticker             ^XAX         ^DJI       ^IXIC        ^RUT        ^SPX ^XAX  \n",
       "Date                                                                           \n",
       "1990-01-02          NaN          NaN   110720000   162070000   162070000  NaN  \n",
       "1990-01-03          NaN          NaN   152660000   192330000   192330000  NaN  \n",
       "1990-01-04          NaN          NaN   147950000   177000000   177000000  NaN  \n",
       "1990-01-05          NaN          NaN   137230000   158530000   158530000  NaN  \n",
       "1990-01-08          NaN          NaN   115500000   140110000   140110000  NaN  \n",
       "...                 ...          ...         ...         ...         ...  ...  \n",
       "2025-03-14  4865.069824  600240000.0  7093850000  4863180000  4863180000  0.0  \n",
       "2025-03-17  4939.700195  564190000.0  6306340000  5031770000  5031770000  0.0  \n",
       "2025-03-18  5038.959961  569810000.0  6450530000  4666270000  4666270000  0.0  \n",
       "2025-03-19  5053.600098  577530000.0  6302310000  4660090000  4660090000  0.0  \n",
       "2025-03-20  5118.390137  545240000.0  6098330000  4678420000  4678420000  0.0  \n",
       "\n",
       "[8870 rows x 25 columns]"
      ]
     },
     "execution_count": 14,
     "metadata": {},
     "output_type": "execute_result"
    }
   ],
   "source": [
    "data"
   ]
  },
  {
   "cell_type": "markdown",
   "id": "7d9047fc281ef27e",
   "metadata": {},
   "source": [
    "SQL의 `INSERT`를 활용해 개별적으로 데이터를 적재할 수 있다. 이러는 경우, 모든 데이터에 대해서 하나하나 데이터를 적재하면 된다"
   ]
  },
  {
   "cell_type": "code",
   "execution_count": 16,
   "id": "b9cb8431cea774ff",
   "metadata": {
    "ExecuteTime": {
     "end_time": "2025-02-15T09:16:54.273252Z",
     "start_time": "2025-02-15T09:16:54.258614Z"
    }
   },
   "outputs": [
    {
     "name": "stderr",
     "output_type": "stream",
     "text": [
      "C:\\Users\\kumb2\\AppData\\Local\\Temp\\ipykernel_23324\\428656077.py:1: FutureWarning: The previous implementation of stack is deprecated and will be removed in a future version of pandas. See the What's New notes for pandas 2.1.0 for details. Specify future_stack=True to adopt the new implementation and silence this warning.\n",
      "  data = data.stack(level=1).reset_index()  # multicolumn 데이터를 singlecolumn 데이터로 변환 가능\n"
     ]
    },
    {
     "data": {
      "text/html": [
       "<div>\n",
       "<style scoped>\n",
       "    .dataframe tbody tr th:only-of-type {\n",
       "        vertical-align: middle;\n",
       "    }\n",
       "\n",
       "    .dataframe tbody tr th {\n",
       "        vertical-align: top;\n",
       "    }\n",
       "\n",
       "    .dataframe thead th {\n",
       "        text-align: right;\n",
       "    }\n",
       "</style>\n",
       "<table border=\"1\" class=\"dataframe\">\n",
       "  <thead>\n",
       "    <tr style=\"text-align: right;\">\n",
       "      <th>Price</th>\n",
       "      <th>Date</th>\n",
       "      <th>Ticker</th>\n",
       "      <th>Close</th>\n",
       "      <th>High</th>\n",
       "      <th>Low</th>\n",
       "      <th>Open</th>\n",
       "      <th>Volume</th>\n",
       "    </tr>\n",
       "  </thead>\n",
       "  <tbody>\n",
       "    <tr>\n",
       "      <th>0</th>\n",
       "      <td>1990-01-02</td>\n",
       "      <td>^IXIC</td>\n",
       "      <td>459.299988</td>\n",
       "      <td>459.299988</td>\n",
       "      <td>452.700012</td>\n",
       "      <td>452.899994</td>\n",
       "      <td>1.107200e+08</td>\n",
       "    </tr>\n",
       "    <tr>\n",
       "      <th>1</th>\n",
       "      <td>1990-01-02</td>\n",
       "      <td>^RUT</td>\n",
       "      <td>169.949997</td>\n",
       "      <td>169.960007</td>\n",
       "      <td>168.220001</td>\n",
       "      <td>168.309998</td>\n",
       "      <td>1.620700e+08</td>\n",
       "    </tr>\n",
       "    <tr>\n",
       "      <th>2</th>\n",
       "      <td>1990-01-02</td>\n",
       "      <td>^SPX</td>\n",
       "      <td>359.690002</td>\n",
       "      <td>359.690002</td>\n",
       "      <td>351.980011</td>\n",
       "      <td>353.399994</td>\n",
       "      <td>1.620700e+08</td>\n",
       "    </tr>\n",
       "    <tr>\n",
       "      <th>3</th>\n",
       "      <td>1990-01-03</td>\n",
       "      <td>^IXIC</td>\n",
       "      <td>460.899994</td>\n",
       "      <td>461.600006</td>\n",
       "      <td>460.000000</td>\n",
       "      <td>461.100006</td>\n",
       "      <td>1.526600e+08</td>\n",
       "    </tr>\n",
       "    <tr>\n",
       "      <th>4</th>\n",
       "      <td>1990-01-03</td>\n",
       "      <td>^RUT</td>\n",
       "      <td>170.789993</td>\n",
       "      <td>170.800003</td>\n",
       "      <td>169.960007</td>\n",
       "      <td>169.960007</td>\n",
       "      <td>1.923300e+08</td>\n",
       "    </tr>\n",
       "    <tr>\n",
       "      <th>...</th>\n",
       "      <td>...</td>\n",
       "      <td>...</td>\n",
       "      <td>...</td>\n",
       "      <td>...</td>\n",
       "      <td>...</td>\n",
       "      <td>...</td>\n",
       "      <td>...</td>\n",
       "    </tr>\n",
       "    <tr>\n",
       "      <th>42325</th>\n",
       "      <td>2025-03-20</td>\n",
       "      <td>^DJI</td>\n",
       "      <td>41953.320312</td>\n",
       "      <td>42250.289062</td>\n",
       "      <td>41695.609375</td>\n",
       "      <td>41795.261719</td>\n",
       "      <td>5.452400e+08</td>\n",
       "    </tr>\n",
       "    <tr>\n",
       "      <th>42326</th>\n",
       "      <td>2025-03-20</td>\n",
       "      <td>^IXIC</td>\n",
       "      <td>17691.630859</td>\n",
       "      <td>17903.199219</td>\n",
       "      <td>17576.820312</td>\n",
       "      <td>17586.060547</td>\n",
       "      <td>6.098330e+09</td>\n",
       "    </tr>\n",
       "    <tr>\n",
       "      <th>42327</th>\n",
       "      <td>2025-03-20</td>\n",
       "      <td>^RUT</td>\n",
       "      <td>2068.629883</td>\n",
       "      <td>2089.979980</td>\n",
       "      <td>2060.489990</td>\n",
       "      <td>2068.600098</td>\n",
       "      <td>4.678420e+09</td>\n",
       "    </tr>\n",
       "    <tr>\n",
       "      <th>42328</th>\n",
       "      <td>2025-03-20</td>\n",
       "      <td>^SPX</td>\n",
       "      <td>5662.890137</td>\n",
       "      <td>5711.149902</td>\n",
       "      <td>5632.330078</td>\n",
       "      <td>5646.919922</td>\n",
       "      <td>4.678420e+09</td>\n",
       "    </tr>\n",
       "    <tr>\n",
       "      <th>42329</th>\n",
       "      <td>2025-03-20</td>\n",
       "      <td>^XAX</td>\n",
       "      <td>5145.500000</td>\n",
       "      <td>5163.500000</td>\n",
       "      <td>5050.549805</td>\n",
       "      <td>5118.390137</td>\n",
       "      <td>0.000000e+00</td>\n",
       "    </tr>\n",
       "  </tbody>\n",
       "</table>\n",
       "<p>42330 rows × 7 columns</p>\n",
       "</div>"
      ],
      "text/plain": [
       "Price       Date Ticker         Close          High           Low  \\\n",
       "0     1990-01-02  ^IXIC    459.299988    459.299988    452.700012   \n",
       "1     1990-01-02   ^RUT    169.949997    169.960007    168.220001   \n",
       "2     1990-01-02   ^SPX    359.690002    359.690002    351.980011   \n",
       "3     1990-01-03  ^IXIC    460.899994    461.600006    460.000000   \n",
       "4     1990-01-03   ^RUT    170.789993    170.800003    169.960007   \n",
       "...          ...    ...           ...           ...           ...   \n",
       "42325 2025-03-20   ^DJI  41953.320312  42250.289062  41695.609375   \n",
       "42326 2025-03-20  ^IXIC  17691.630859  17903.199219  17576.820312   \n",
       "42327 2025-03-20   ^RUT   2068.629883   2089.979980   2060.489990   \n",
       "42328 2025-03-20   ^SPX   5662.890137   5711.149902   5632.330078   \n",
       "42329 2025-03-20   ^XAX   5145.500000   5163.500000   5050.549805   \n",
       "\n",
       "Price          Open        Volume  \n",
       "0        452.899994  1.107200e+08  \n",
       "1        168.309998  1.620700e+08  \n",
       "2        353.399994  1.620700e+08  \n",
       "3        461.100006  1.526600e+08  \n",
       "4        169.960007  1.923300e+08  \n",
       "...             ...           ...  \n",
       "42325  41795.261719  5.452400e+08  \n",
       "42326  17586.060547  6.098330e+09  \n",
       "42327   2068.600098  4.678420e+09  \n",
       "42328   5646.919922  4.678420e+09  \n",
       "42329   5118.390137  0.000000e+00  \n",
       "\n",
       "[42330 rows x 7 columns]"
      ]
     },
     "execution_count": 16,
     "metadata": {},
     "output_type": "execute_result"
    }
   ],
   "source": [
    "data = data.stack(level=1).reset_index()  # multicolumn 데이터를 singlecolumn 데이터로 변환 가능\n",
    "data"
   ]
  },
  {
   "cell_type": "code",
   "execution_count": 17,
   "id": "9c59c0046c353461",
   "metadata": {
    "ExecuteTime": {
     "end_time": "2025-02-15T09:18:11.441656Z",
     "start_time": "2025-02-15T09:18:11.436805Z"
    }
   },
   "outputs": [],
   "source": [
    "data = data[['Date','Ticker','Open','High','Low','Close','Volume']]"
   ]
  },
  {
   "cell_type": "code",
   "execution_count": 18,
   "id": "e33bd89fe7ff86df",
   "metadata": {
    "ExecuteTime": {
     "end_time": "2025-02-15T09:18:24.722176Z",
     "start_time": "2025-02-15T09:18:24.719630Z"
    }
   },
   "outputs": [],
   "source": [
    "data.columns = ['date', 'ticker', 'Open', 'High', 'Low', 'Close', 'Volume']"
   ]
  },
  {
   "cell_type": "code",
   "execution_count": 19,
   "id": "1e0400c73352228a",
   "metadata": {
    "ExecuteTime": {
     "end_time": "2025-02-15T09:20:31.862595Z",
     "start_time": "2025-02-15T09:20:31.848081Z"
    }
   },
   "outputs": [],
   "source": [
    "data['date'] = data['date'].astype(str) # sql lite는 datetime 형태의 타입이 지원되지 않으므로, str형태로 변환"
   ]
  },
  {
   "cell_type": "code",
   "execution_count": 20,
   "id": "63a3c28243ddc46f",
   "metadata": {
    "ExecuteTime": {
     "end_time": "2025-02-15T09:20:34.264640Z",
     "start_time": "2025-02-15T09:20:33.272434Z"
    }
   },
   "outputs": [],
   "source": [
    "records = []\n",
    "for _, row in data.iterrows():\n",
    "    for field in ['Open', 'High', 'Low', 'Close', 'Volume']:\n",
    "        records.append((row['date'], field, row['ticker'], row[field]))"
   ]
  },
  {
   "cell_type": "code",
   "execution_count": 21,
   "id": "3002e3fa",
   "metadata": {},
   "outputs": [
    {
     "data": {
      "text/plain": [
       "[('1990-01-02', 'Open', '^IXIC', 452.8999938964844),\n",
       " ('1990-01-02', 'High', '^IXIC', 459.29998779296875),\n",
       " ('1990-01-02', 'Low', '^IXIC', 452.70001220703125),\n",
       " ('1990-01-02', 'Close', '^IXIC', 459.29998779296875),\n",
       " ('1990-01-02', 'Volume', '^IXIC', 110720000.0),\n",
       " ('1990-01-02', 'Open', '^RUT', 168.30999755859375),\n",
       " ('1990-01-02', 'High', '^RUT', 169.9600067138672),\n",
       " ('1990-01-02', 'Low', '^RUT', 168.22000122070312),\n",
       " ('1990-01-02', 'Close', '^RUT', 169.9499969482422),\n",
       " ('1990-01-02', 'Volume', '^RUT', 162070000.0),\n",
       " ('1990-01-02', 'Open', '^SPX', 353.3999938964844),\n",
       " ('1990-01-02', 'High', '^SPX', 359.69000244140625),\n",
       " ('1990-01-02', 'Low', '^SPX', 351.9800109863281),\n",
       " ('1990-01-02', 'Close', '^SPX', 359.69000244140625),\n",
       " ('1990-01-02', 'Volume', '^SPX', 162070000.0),\n",
       " ('1990-01-03', 'Open', '^IXIC', 461.1000061035156),\n",
       " ('1990-01-03', 'High', '^IXIC', 461.6000061035156),\n",
       " ('1990-01-03', 'Low', '^IXIC', 460.0),\n",
       " ('1990-01-03', 'Close', '^IXIC', 460.8999938964844),\n",
       " ('1990-01-03', 'Volume', '^IXIC', 152660000.0),\n",
       " ('1990-01-03', 'Open', '^RUT', 169.9600067138672),\n",
       " ('1990-01-03', 'High', '^RUT', 170.8000030517578),\n",
       " ('1990-01-03', 'Low', '^RUT', 169.9600067138672),\n",
       " ('1990-01-03', 'Close', '^RUT', 170.7899932861328),\n",
       " ('1990-01-03', 'Volume', '^RUT', 192330000.0),\n",
       " ('1990-01-03', 'Open', '^SPX', 359.69000244140625),\n",
       " ('1990-01-03', 'High', '^SPX', 360.5899963378906),\n",
       " ('1990-01-03', 'Low', '^SPX', 357.8900146484375),\n",
       " ('1990-01-03', 'Close', '^SPX', 358.760009765625),\n",
       " ('1990-01-03', 'Volume', '^SPX', 192330000.0),\n",
       " ('1990-01-04', 'Open', '^IXIC', 460.3999938964844),\n",
       " ('1990-01-04', 'High', '^IXIC', 460.79998779296875),\n",
       " ('1990-01-04', 'Low', '^IXIC', 456.8999938964844),\n",
       " ('1990-01-04', 'Close', '^IXIC', 459.3999938964844),\n",
       " ('1990-01-04', 'Volume', '^IXIC', 147950000.0),\n",
       " ('1990-01-04', 'Open', '^RUT', 170.77999877929688),\n",
       " ('1990-01-04', 'High', '^RUT', 170.7899932861328),\n",
       " ('1990-01-04', 'Low', '^RUT', 169.5800018310547),\n",
       " ('1990-01-04', 'Close', '^RUT', 170.08999633789062),\n",
       " ('1990-01-04', 'Volume', '^RUT', 177000000.0),\n",
       " ('1990-01-04', 'Open', '^SPX', 358.760009765625),\n",
       " ('1990-01-04', 'High', '^SPX', 358.760009765625),\n",
       " ('1990-01-04', 'Low', '^SPX', 352.8900146484375),\n",
       " ('1990-01-04', 'Close', '^SPX', 355.6700134277344),\n",
       " ('1990-01-04', 'Volume', '^SPX', 177000000.0),\n",
       " ('1990-01-05', 'Open', '^IXIC', 457.8999938964844),\n",
       " ('1990-01-05', 'High', '^IXIC', 459.3999938964844),\n",
       " ('1990-01-05', 'Low', '^IXIC', 457.79998779296875),\n",
       " ('1990-01-05', 'Close', '^IXIC', 458.20001220703125),\n",
       " ('1990-01-05', 'Volume', '^IXIC', 137230000.0),\n",
       " ('1990-01-05', 'Open', '^RUT', 170.08999633789062),\n",
       " ('1990-01-05', 'High', '^RUT', 170.1199951171875),\n",
       " ('1990-01-05', 'Low', '^RUT', 169.44000244140625),\n",
       " ('1990-01-05', 'Close', '^RUT', 169.64999389648438),\n",
       " ('1990-01-05', 'Volume', '^RUT', 158530000.0),\n",
       " ('1990-01-05', 'Open', '^SPX', 355.6700134277344),\n",
       " ('1990-01-05', 'High', '^SPX', 355.6700134277344),\n",
       " ('1990-01-05', 'Low', '^SPX', 351.3500061035156),\n",
       " ('1990-01-05', 'Close', '^SPX', 352.20001220703125),\n",
       " ('1990-01-05', 'Volume', '^SPX', 158530000.0),\n",
       " ('1990-01-08', 'Open', '^IXIC', 457.1000061035156),\n",
       " ('1990-01-08', 'High', '^IXIC', 458.70001220703125),\n",
       " ('1990-01-08', 'Low', '^IXIC', 456.5),\n",
       " ('1990-01-08', 'Close', '^IXIC', 458.70001220703125),\n",
       " ('1990-01-08', 'Volume', '^IXIC', 115500000.0),\n",
       " ('1990-01-08', 'Open', '^RUT', 169.6699981689453),\n",
       " ('1990-01-08', 'High', '^RUT', 169.67999267578125),\n",
       " ('1990-01-08', 'Low', '^RUT', 169.0500030517578),\n",
       " ('1990-01-08', 'Close', '^RUT', 169.5500030517578),\n",
       " ('1990-01-08', 'Volume', '^RUT', 140110000.0),\n",
       " ('1990-01-08', 'Open', '^SPX', 352.20001220703125),\n",
       " ('1990-01-08', 'High', '^SPX', 354.239990234375),\n",
       " ('1990-01-08', 'Low', '^SPX', 350.5400085449219),\n",
       " ('1990-01-08', 'Close', '^SPX', 353.7900085449219),\n",
       " ('1990-01-08', 'Volume', '^SPX', 140110000.0),\n",
       " ('1990-01-09', 'Open', '^IXIC', 459.20001220703125),\n",
       " ('1990-01-09', 'High', '^IXIC', 459.6000061035156),\n",
       " ('1990-01-09', 'Low', '^IXIC', 456.6000061035156),\n",
       " ('1990-01-09', 'Close', '^IXIC', 456.79998779296875),\n",
       " ('1990-01-09', 'Volume', '^IXIC', 131130000.0),\n",
       " ('1990-01-09', 'Open', '^RUT', 169.5399932861328),\n",
       " ('1990-01-09', 'High', '^RUT', 169.86000061035156),\n",
       " ('1990-01-09', 'Low', '^RUT', 169.24000549316406),\n",
       " ('1990-01-09', 'Close', '^RUT', 169.3000030517578),\n",
       " ('1990-01-09', 'Volume', '^RUT', 155210000.0),\n",
       " ('1990-01-09', 'Open', '^SPX', 353.8299865722656),\n",
       " ('1990-01-09', 'High', '^SPX', 354.1700134277344),\n",
       " ('1990-01-09', 'Low', '^SPX', 349.6099853515625),\n",
       " ('1990-01-09', 'Close', '^SPX', 349.6199951171875),\n",
       " ('1990-01-09', 'Volume', '^SPX', 155210000.0),\n",
       " ('1990-01-10', 'Open', '^IXIC', 455.1000061035156),\n",
       " ('1990-01-10', 'High', '^IXIC', 456.29998779296875),\n",
       " ('1990-01-10', 'Low', '^IXIC', 450.6000061035156),\n",
       " ('1990-01-10', 'Close', '^IXIC', 450.70001220703125),\n",
       " ('1990-01-10', 'Volume', '^IXIC', 143890000.0),\n",
       " ('1990-01-10', 'Open', '^RUT', 169.30999755859375),\n",
       " ('1990-01-10', 'High', '^RUT', 169.30999755859375),\n",
       " ('1990-01-10', 'Low', '^RUT', 167.80999755859375),\n",
       " ('1990-01-10', 'Close', '^RUT', 167.94000244140625),\n",
       " ('1990-01-10', 'Volume', '^RUT', 175990000.0),\n",
       " ('1990-01-10', 'Open', '^SPX', 349.6199951171875),\n",
       " ('1990-01-10', 'High', '^SPX', 349.6199951171875),\n",
       " ('1990-01-10', 'Low', '^SPX', 344.32000732421875),\n",
       " ('1990-01-10', 'Close', '^SPX', 347.30999755859375),\n",
       " ('1990-01-10', 'Volume', '^SPX', 175990000.0),\n",
       " ('1990-01-11', 'Open', '^IXIC', 451.70001220703125),\n",
       " ('1990-01-11', 'High', '^IXIC', 452.5),\n",
       " ('1990-01-11', 'Low', '^IXIC', 448.79998779296875),\n",
       " ('1990-01-11', 'Close', '^IXIC', 448.8999938964844),\n",
       " ('1990-01-11', 'Volume', '^IXIC', 133000000.0),\n",
       " ('1990-01-11', 'Open', '^RUT', 167.92999267578125),\n",
       " ('1990-01-11', 'High', '^RUT', 168.3699951171875),\n",
       " ('1990-01-11', 'Low', '^RUT', 167.82000732421875),\n",
       " ('1990-01-11', 'Close', '^RUT', 168.00999450683594),\n",
       " ('1990-01-11', 'Volume', '^RUT', 154390000.0),\n",
       " ('1990-01-11', 'Open', '^SPX', 347.30999755859375),\n",
       " ('1990-01-11', 'High', '^SPX', 350.1400146484375),\n",
       " ('1990-01-11', 'Low', '^SPX', 347.30999755859375),\n",
       " ('1990-01-11', 'Close', '^SPX', 348.5299987792969),\n",
       " ('1990-01-11', 'Volume', '^SPX', 154390000.0),\n",
       " ('1990-01-12', 'Open', '^IXIC', 442.70001220703125),\n",
       " ('1990-01-12', 'High', '^IXIC', 446.6000061035156),\n",
       " ('1990-01-12', 'Low', '^IXIC', 439.29998779296875),\n",
       " ('1990-01-12', 'Close', '^IXIC', 439.70001220703125),\n",
       " ('1990-01-12', 'Volume', '^IXIC', 143500000.0),\n",
       " ('1990-01-12', 'Open', '^RUT', 168.02000427246094),\n",
       " ('1990-01-12', 'High', '^RUT', 168.02000427246094),\n",
       " ('1990-01-12', 'Low', '^RUT', 164.22999572753906),\n",
       " ('1990-01-12', 'Close', '^RUT', 164.3699951171875),\n",
       " ('1990-01-12', 'Volume', '^RUT', 183880000.0),\n",
       " ('1990-01-12', 'Open', '^SPX', 348.5299987792969),\n",
       " ('1990-01-12', 'High', '^SPX', 348.5299987792969),\n",
       " ('1990-01-12', 'Low', '^SPX', 339.489990234375),\n",
       " ('1990-01-12', 'Close', '^SPX', 339.92999267578125),\n",
       " ('1990-01-12', 'Volume', '^SPX', 183880000.0),\n",
       " ('1990-01-15', 'Open', '^IXIC', 438.20001220703125),\n",
       " ('1990-01-15', 'High', '^IXIC', 439.3999938964844),\n",
       " ('1990-01-15', 'Low', '^IXIC', 436.3999938964844),\n",
       " ('1990-01-15', 'Close', '^IXIC', 436.6000061035156),\n",
       " ('1990-01-15', 'Volume', '^IXIC', 108060000.0),\n",
       " ('1990-01-15', 'Open', '^RUT', 164.3699951171875),\n",
       " ('1990-01-15', 'High', '^RUT', 164.3699951171875),\n",
       " ('1990-01-15', 'Low', '^RUT', 162.85000610351562),\n",
       " ('1990-01-15', 'Close', '^RUT', 162.92999267578125),\n",
       " ('1990-01-15', 'Volume', '^RUT', 140590000.0),\n",
       " ('1990-01-15', 'Open', '^SPX', 339.92999267578125),\n",
       " ('1990-01-15', 'High', '^SPX', 339.94000244140625),\n",
       " ('1990-01-15', 'Low', '^SPX', 336.57000732421875),\n",
       " ('1990-01-15', 'Close', '^SPX', 337.0),\n",
       " ('1990-01-15', 'Volume', '^SPX', 140590000.0),\n",
       " ('1990-01-16', 'Open', '^IXIC', 432.8999938964844),\n",
       " ('1990-01-16', 'High', '^IXIC', 440.20001220703125),\n",
       " ('1990-01-16', 'Low', '^IXIC', 432.1000061035156),\n",
       " ('1990-01-16', 'Close', '^IXIC', 440.20001220703125),\n",
       " ('1990-01-16', 'Volume', '^IXIC', 147590000.0),\n",
       " ('1990-01-16', 'Open', '^RUT', 162.94000244140625),\n",
       " ('1990-01-16', 'High', '^RUT', 163.3000030517578),\n",
       " ('1990-01-16', 'Low', '^RUT', 161.33999633789062),\n",
       " ('1990-01-16', 'Close', '^RUT', 163.3000030517578),\n",
       " ('1990-01-16', 'Volume', '^RUT', 186070000.0),\n",
       " ('1990-01-16', 'Open', '^SPX', 337.0),\n",
       " ('1990-01-16', 'High', '^SPX', 340.75),\n",
       " ('1990-01-16', 'Low', '^SPX', 333.3699951171875),\n",
       " ('1990-01-16', 'Close', '^SPX', 340.75),\n",
       " ('1990-01-16', 'Volume', '^SPX', 186070000.0),\n",
       " ('1990-01-17', 'Open', '^IXIC', 440.5),\n",
       " ('1990-01-17', 'High', '^IXIC', 442.5),\n",
       " ('1990-01-17', 'Low', '^IXIC', 438.5),\n",
       " ('1990-01-17', 'Close', '^IXIC', 438.70001220703125),\n",
       " ('1990-01-17', 'Volume', '^IXIC', 139150000.0),\n",
       " ('1990-01-17', 'Open', '^RUT', 163.30999755859375),\n",
       " ('1990-01-17', 'High', '^RUT', 164.25999450683594),\n",
       " ('1990-01-17', 'Low', '^RUT', 163.30999755859375),\n",
       " ('1990-01-17', 'Close', '^RUT', 163.50999450683594),\n",
       " ('1990-01-17', 'Volume', '^RUT', 170470000.0),\n",
       " ('1990-01-17', 'Open', '^SPX', 340.7699890136719),\n",
       " ('1990-01-17', 'High', '^SPX', 342.010009765625),\n",
       " ('1990-01-17', 'Low', '^SPX', 336.260009765625),\n",
       " ('1990-01-17', 'Close', '^SPX', 337.3999938964844),\n",
       " ('1990-01-17', 'Volume', '^SPX', 170470000.0),\n",
       " ('1990-01-18', 'Open', '^IXIC', 436.20001220703125),\n",
       " ('1990-01-18', 'High', '^IXIC', 437.79998779296875),\n",
       " ('1990-01-18', 'Low', '^IXIC', 435.6000061035156),\n",
       " ('1990-01-18', 'Close', '^IXIC', 437.5),\n",
       " ('1990-01-18', 'Volume', '^IXIC', 136330000.0),\n",
       " ('1990-01-18', 'Open', '^RUT', 163.5),\n",
       " ('1990-01-18', 'High', '^RUT', 163.5),\n",
       " ('1990-01-18', 'Low', '^RUT', 162.3300018310547),\n",
       " ('1990-01-18', 'Close', '^RUT', 162.75999450683594),\n",
       " ('1990-01-18', 'Volume', '^RUT', 178590000.0),\n",
       " ('1990-01-18', 'Open', '^SPX', 337.3999938964844),\n",
       " ('1990-01-18', 'High', '^SPX', 338.3800048828125),\n",
       " ('1990-01-18', 'Low', '^SPX', 333.9800109863281),\n",
       " ('1990-01-18', 'Close', '^SPX', 338.19000244140625),\n",
       " ('1990-01-18', 'Volume', '^SPX', 178590000.0),\n",
       " ('1990-01-19', 'Open', '^IXIC', 440.5),\n",
       " ('1990-01-19', 'High', '^IXIC', 441.20001220703125),\n",
       " ('1990-01-19', 'Low', '^IXIC', 439.20001220703125),\n",
       " ('1990-01-19', 'Close', '^IXIC', 440.8999938964844),\n",
       " ('1990-01-19', 'Volume', '^IXIC', 152170000.0),\n",
       " ('1990-01-19', 'Open', '^RUT', 162.77000427246094),\n",
       " ('1990-01-19', 'High', '^RUT', 163.58999633789062),\n",
       " ('1990-01-19', 'Low', '^RUT', 162.77000427246094),\n",
       " ('1990-01-19', 'Close', '^RUT', 163.57000732421875),\n",
       " ('1990-01-19', 'Volume', '^RUT', 185590000.0),\n",
       " ('1990-01-19', 'Open', '^SPX', 338.19000244140625),\n",
       " ('1990-01-19', 'High', '^SPX', 340.4800109863281),\n",
       " ('1990-01-19', 'Low', '^SPX', 338.19000244140625),\n",
       " ('1990-01-19', 'Close', '^SPX', 339.1499938964844),\n",
       " ('1990-01-19', 'Volume', '^SPX', 185590000.0),\n",
       " ('1990-01-22', 'Open', '^IXIC', 439.70001220703125),\n",
       " ('1990-01-22', 'High', '^IXIC', 440.70001220703125),\n",
       " ('1990-01-22', 'Low', '^IXIC', 431.70001220703125),\n",
       " ('1990-01-22', 'Close', '^IXIC', 431.8999938964844),\n",
       " ('1990-01-22', 'Volume', '^IXIC', 130490000.0),\n",
       " ('1990-01-22', 'Open', '^RUT', 163.57000732421875),\n",
       " ('1990-01-22', 'High', '^RUT', 163.69000244140625),\n",
       " ('1990-01-22', 'Low', '^RUT', 161.02999877929688),\n",
       " ('1990-01-22', 'Close', '^RUT', 161.1300048828125),\n",
       " ('1990-01-22', 'Volume', '^RUT', 148380000.0),\n",
       " ('1990-01-22', 'Open', '^SPX', 339.1400146484375),\n",
       " ('1990-01-22', 'High', '^SPX', 339.9599914550781),\n",
       " ('1990-01-22', 'Low', '^SPX', 330.2799987792969),\n",
       " ('1990-01-22', 'Close', '^SPX', 330.3800048828125),\n",
       " ('1990-01-22', 'Volume', '^SPX', 148380000.0),\n",
       " ('1990-01-23', 'Open', '^IXIC', 432.5),\n",
       " ('1990-01-23', 'High', '^IXIC', 433.79998779296875),\n",
       " ('1990-01-23', 'Low', '^IXIC', 428.8999938964844),\n",
       " ('1990-01-23', 'Close', '^IXIC', 430.3999938964844),\n",
       " ('1990-01-23', 'Volume', '^IXIC', 141440000.0),\n",
       " ('1990-01-23', 'Open', '^RUT', 161.13999938964844),\n",
       " ('1990-01-23', 'High', '^RUT', 161.3699951171875),\n",
       " ('1990-01-23', 'Low', '^RUT', 159.92999267578125),\n",
       " ('1990-01-23', 'Close', '^RUT', 160.41000366210938),\n",
       " ('1990-01-23', 'Volume', '^RUT', 179300000.0),\n",
       " ('1990-01-23', 'Open', '^SPX', 330.3800048828125),\n",
       " ('1990-01-23', 'High', '^SPX', 332.760009765625),\n",
       " ('1990-01-23', 'Low', '^SPX', 328.6700134277344),\n",
       " ('1990-01-23', 'Close', '^SPX', 331.6099853515625),\n",
       " ('1990-01-23', 'Volume', '^SPX', 179300000.0),\n",
       " ('1990-01-24', 'Open', '^IXIC', 419.8999938964844),\n",
       " ('1990-01-24', 'High', '^IXIC', 427.20001220703125),\n",
       " ('1990-01-24', 'Low', '^IXIC', 419.79998779296875),\n",
       " ('1990-01-24', 'Close', '^IXIC', 425.70001220703125),\n",
       " ('1990-01-24', 'Volume', '^IXIC', 163430000.0),\n",
       " ('1990-01-24', 'Open', '^RUT', 160.4199981689453),\n",
       " ('1990-01-24', 'High', '^RUT', 160.4199981689453),\n",
       " ('1990-01-24', 'Low', '^RUT', 156.97999572753906),\n",
       " ('1990-01-24', 'Close', '^RUT', 158.16000366210938),\n",
       " ('1990-01-24', 'Volume', '^RUT', 207830000.0),\n",
       " ('1990-01-24', 'Open', '^SPX', 331.6099853515625),\n",
       " ('1990-01-24', 'High', '^SPX', 331.7099914550781),\n",
       " ('1990-01-24', 'Low', '^SPX', 324.1700134277344),\n",
       " ('1990-01-24', 'Close', '^SPX', 330.260009765625),\n",
       " ('1990-01-24', 'Volume', '^SPX', 207830000.0),\n",
       " ('1990-01-25', 'Open', '^IXIC', 428.29998779296875),\n",
       " ('1990-01-25', 'High', '^IXIC', 429.0),\n",
       " ('1990-01-25', 'Low', '^IXIC', 425.1000061035156),\n",
       " ('1990-01-25', 'Close', '^IXIC', 425.20001220703125),\n",
       " ('1990-01-25', 'Volume', '^IXIC', 130500000.0),\n",
       " ('1990-01-25', 'Open', '^RUT', 158.1699981689453),\n",
       " ('1990-01-25', 'High', '^RUT', 158.92999267578125),\n",
       " ('1990-01-25', 'Low', '^RUT', 157.7899932861328),\n",
       " ('1990-01-25', 'Close', '^RUT', 157.99000549316406),\n",
       " ('1990-01-25', 'Volume', '^RUT', 172270000.0),\n",
       " ('1990-01-25', 'Open', '^SPX', 330.260009765625),\n",
       " ('1990-01-25', 'High', '^SPX', 332.3299865722656),\n",
       " ('1990-01-25', 'Low', '^SPX', 325.3299865722656),\n",
       " ('1990-01-25', 'Close', '^SPX', 326.0799865722656),\n",
       " ('1990-01-25', 'Volume', '^SPX', 172270000.0),\n",
       " ('1990-01-26', 'Open', '^IXIC', 424.20001220703125),\n",
       " ('1990-01-26', 'High', '^IXIC', 425.8999938964844),\n",
       " ('1990-01-26', 'Low', '^IXIC', 419.5),\n",
       " ('1990-01-26', 'Close', '^IXIC', 421.29998779296875),\n",
       " ('1990-01-26', 'Volume', '^IXIC', 136340000.0),\n",
       " ('1990-01-26', 'Open', '^RUT', 157.97999572753906),\n",
       " ('1990-01-26', 'High', '^RUT', 157.97999572753906),\n",
       " ('1990-01-26', 'Low', '^RUT', 156.22000122070312),\n",
       " ('1990-01-26', 'Close', '^RUT', 156.61000061035156),\n",
       " ('1990-01-26', 'Volume', '^RUT', 198190000.0),\n",
       " ('1990-01-26', 'Open', '^SPX', 326.0899963378906),\n",
       " ('1990-01-26', 'High', '^SPX', 328.5799865722656),\n",
       " ('1990-01-26', 'Low', '^SPX', 321.44000244140625),\n",
       " ('1990-01-26', 'Close', '^SPX', 325.79998779296875),\n",
       " ('1990-01-26', 'Volume', '^SPX', 198190000.0),\n",
       " ('1990-01-29', 'Open', '^IXIC', 422.79998779296875),\n",
       " ('1990-01-29', 'High', '^IXIC', 422.8999938964844),\n",
       " ('1990-01-29', 'Low', '^IXIC', 416.5),\n",
       " ('1990-01-29', 'Close', '^IXIC', 418.1000061035156),\n",
       " ('1990-01-29', 'Volume', '^IXIC', 118590000.0),\n",
       " ('1990-01-29', 'Open', '^RUT', 156.60000610351562),\n",
       " ('1990-01-29', 'High', '^RUT', 156.75),\n",
       " ('1990-01-29', 'Low', '^RUT', 154.69000244140625),\n",
       " ('1990-01-29', 'Close', '^RUT', 154.94000244140625),\n",
       " ('1990-01-29', 'Volume', '^RUT', 150770000.0),\n",
       " ('1990-01-29', 'Open', '^SPX', 325.79998779296875),\n",
       " ('1990-01-29', 'High', '^SPX', 327.30999755859375),\n",
       " ('1990-01-29', 'Low', '^SPX', 321.7900085449219),\n",
       " ('1990-01-29', 'Close', '^SPX', 325.20001220703125),\n",
       " ('1990-01-29', 'Volume', '^SPX', 150770000.0),\n",
       " ('1990-01-30', 'Open', '^IXIC', 416.20001220703125),\n",
       " ('1990-01-30', 'High', '^IXIC', 417.5),\n",
       " ('1990-01-30', 'Low', '^IXIC', 410.0),\n",
       " ('1990-01-30', 'Close', '^IXIC', 410.70001220703125),\n",
       " ('1990-01-30', 'Volume', '^IXIC', 160160000.0),\n",
       " ('1990-01-30', 'Open', '^RUT', 154.9499969482422),\n",
       " ('1990-01-30', 'High', '^RUT', 154.97000122070312),\n",
       " ('1990-01-30', 'Low', '^RUT', 152.44000244140625),\n",
       " ('1990-01-30', 'Close', '^RUT', 152.6199951171875),\n",
       " ('1990-01-30', 'Volume', '^RUT', 186030000.0),\n",
       " ('1990-01-30', 'Open', '^SPX', 325.20001220703125),\n",
       " ('1990-01-30', 'High', '^SPX', 325.7300109863281),\n",
       " ('1990-01-30', 'Low', '^SPX', 319.8299865722656),\n",
       " ('1990-01-30', 'Close', '^SPX', 322.9800109863281),\n",
       " ('1990-01-30', 'Volume', '^SPX', 186030000.0),\n",
       " ('1990-01-31', 'Open', '^IXIC', 412.20001220703125),\n",
       " ('1990-01-31', 'High', '^IXIC', 415.8999938964844),\n",
       " ('1990-01-31', 'Low', '^IXIC', 411.29998779296875),\n",
       " ('1990-01-31', 'Close', '^IXIC', 415.79998779296875),\n",
       " ('1990-01-31', 'Volume', '^IXIC', 148000000.0),\n",
       " ('1990-01-31', 'Open', '^RUT', 152.61000061035156),\n",
       " ('1990-01-31', 'High', '^RUT', 153.52999877929688),\n",
       " ('1990-01-31', 'Low', '^RUT', 152.61000061035156),\n",
       " ('1990-01-31', 'Close', '^RUT', 153.27000427246094),\n",
       " ('1990-01-31', 'Volume', '^RUT', 189660000.0),\n",
       " ('1990-01-31', 'Open', '^SPX', 322.9800109863281),\n",
       " ('1990-01-31', 'High', '^SPX', 329.0799865722656),\n",
       " ('1990-01-31', 'Low', '^SPX', 322.9800109863281),\n",
       " ('1990-01-31', 'Close', '^SPX', 329.0799865722656),\n",
       " ('1990-01-31', 'Volume', '^SPX', 189660000.0),\n",
       " ('1990-02-01', 'Open', '^IXIC', 416.79998779296875),\n",
       " ('1990-02-01', 'High', '^IXIC', 417.8999938964844),\n",
       " ('1990-02-01', 'Low', '^IXIC', 416.20001220703125),\n",
       " ('1990-02-01', 'Close', '^IXIC', 417.79998779296875),\n",
       " ('1990-02-01', 'Volume', '^IXIC', 135470000.0),\n",
       " ('1990-02-01', 'Open', '^RUT', 153.27000427246094),\n",
       " ('1990-02-01', 'High', '^RUT', 154.36000061035156),\n",
       " ('1990-02-01', 'Low', '^RUT', 153.27000427246094),\n",
       " ('1990-02-01', 'Close', '^RUT', 154.36000061035156),\n",
       " ('1990-02-01', 'Volume', '^RUT', 154580000.0),\n",
       " ('1990-02-01', 'Open', '^SPX', 329.0799865722656),\n",
       " ('1990-02-01', 'High', '^SPX', 329.8599853515625),\n",
       " ('1990-02-01', 'Low', '^SPX', 327.760009765625),\n",
       " ('1990-02-01', 'Close', '^SPX', 328.7900085449219),\n",
       " ('1990-02-01', 'Volume', '^SPX', 154580000.0),\n",
       " ('1990-02-02', 'Open', '^IXIC', 418.79998779296875),\n",
       " ('1990-02-02', 'High', '^IXIC', 423.29998779296875),\n",
       " ('1990-02-02', 'Low', '^IXIC', 417.6000061035156),\n",
       " ('1990-02-02', 'Close', '^IXIC', 422.20001220703125),\n",
       " ('1990-02-02', 'Volume', '^IXIC', 135020000.0),\n",
       " ('1990-02-02', 'Open', '^RUT', 154.3699951171875),\n",
       " ('1990-02-02', 'High', '^RUT', 156.02999877929688),\n",
       " ('1990-02-02', 'Low', '^RUT', 154.1999969482422),\n",
       " ('1990-02-02', 'Close', '^RUT', 156.0),\n",
       " ('1990-02-02', 'Volume', '^RUT', 164400000.0),\n",
       " ('1990-02-02', 'Open', '^SPX', 328.7900085449219),\n",
       " ('1990-02-02', 'High', '^SPX', 332.1000061035156),\n",
       " ('1990-02-02', 'Low', '^SPX', 328.0899963378906),\n",
       " ('1990-02-02', 'Close', '^SPX', 330.9200134277344),\n",
       " ('1990-02-02', 'Volume', '^SPX', 164400000.0),\n",
       " ('1990-02-05', 'Open', '^IXIC', 422.8999938964844),\n",
       " ('1990-02-05', 'High', '^IXIC', 424.79998779296875),\n",
       " ('1990-02-05', 'Low', '^IXIC', 422.3999938964844),\n",
       " ('1990-02-05', 'Close', '^IXIC', 424.70001220703125),\n",
       " ('1990-02-05', 'Volume', '^IXIC', 108350000.0),\n",
       " ('1990-02-05', 'Open', '^RUT', 156.0),\n",
       " ('1990-02-05', 'High', '^RUT', 156.88999938964844),\n",
       " ('1990-02-05', 'Low', '^RUT', 156.0),\n",
       " ('1990-02-05', 'Close', '^RUT', 156.88999938964844),\n",
       " ('1990-02-05', 'Volume', '^RUT', 130950000.0),\n",
       " ('1990-02-05', 'Open', '^SPX', 330.9200134277344),\n",
       " ('1990-02-05', 'High', '^SPX', 332.1600036621094),\n",
       " ('1990-02-05', 'Low', '^SPX', 330.45001220703125),\n",
       " ('1990-02-05', 'Close', '^SPX', 331.8500061035156),\n",
       " ('1990-02-05', 'Volume', '^SPX', 130950000.0),\n",
       " ('1990-02-06', 'Open', '^IXIC', 425.0),\n",
       " ('1990-02-06', 'High', '^IXIC', 425.20001220703125),\n",
       " ('1990-02-06', 'Low', '^IXIC', 422.20001220703125),\n",
       " ('1990-02-06', 'Close', '^IXIC', 424.0),\n",
       " ('1990-02-06', 'Volume', '^IXIC', 119700000.0),\n",
       " ('1990-02-06', 'Open', '^RUT', 156.47000122070312),\n",
       " ('1990-02-06', 'High', '^RUT', 156.89999389648438),\n",
       " ('1990-02-06', 'Low', '^RUT', 156.3300018310547),\n",
       " ('1990-02-06', 'Close', '^RUT', 156.89999389648438),\n",
       " ('1990-02-06', 'Volume', '^RUT', 134070000.0),\n",
       " ('1990-02-06', 'Open', '^SPX', 331.8500061035156),\n",
       " ('1990-02-06', 'High', '^SPX', 331.8599853515625),\n",
       " ('1990-02-06', 'Low', '^SPX', 328.20001220703125),\n",
       " ('1990-02-06', 'Close', '^SPX', 329.6600036621094),\n",
       " ('1990-02-06', 'Volume', '^SPX', 134070000.0),\n",
       " ('1990-02-07', 'Open', '^IXIC', 422.0),\n",
       " ('1990-02-07', 'High', '^IXIC', 426.8999938964844),\n",
       " ('1990-02-07', 'Low', '^IXIC', 421.79998779296875),\n",
       " ('1990-02-07', 'Close', '^IXIC', 426.79998779296875),\n",
       " ('1990-02-07', 'Volume', '^IXIC', 149300000.0),\n",
       " ('1990-02-07', 'Open', '^RUT', 156.88999938964844),\n",
       " ('1990-02-07', 'High', '^RUT', 158.25),\n",
       " ('1990-02-07', 'Low', '^RUT', 156.3699951171875),\n",
       " ('1990-02-07', 'Close', '^RUT', 158.25),\n",
       " ('1990-02-07', 'Volume', '^RUT', 186710000.0),\n",
       " ('1990-02-07', 'Open', '^SPX', 329.6600036621094),\n",
       " ('1990-02-07', 'High', '^SPX', 333.760009765625),\n",
       " ('1990-02-07', 'Low', '^SPX', 326.54998779296875),\n",
       " ('1990-02-07', 'Close', '^SPX', 333.75),\n",
       " ('1990-02-07', 'Volume', '^SPX', 186710000.0),\n",
       " ('1990-02-08', 'Open', '^IXIC', 428.79998779296875),\n",
       " ('1990-02-08', 'High', '^IXIC', 430.20001220703125),\n",
       " ('1990-02-08', 'Low', '^IXIC', 427.1000061035156),\n",
       " ('1990-02-08', 'Close', '^IXIC', 427.29998779296875),\n",
       " ('1990-02-08', 'Volume', '^IXIC', 140030000.0),\n",
       " ('1990-02-08', 'Open', '^RUT', 158.22999572753906),\n",
       " ('1990-02-08', 'High', '^RUT', 159.22000122070312),\n",
       " ('1990-02-08', 'Low', '^RUT', 158.22999572753906),\n",
       " ('1990-02-08', 'Close', '^RUT', 158.58999633789062),\n",
       " ('1990-02-08', 'Volume', '^RUT', 176240000.0),\n",
       " ('1990-02-08', 'Open', '^SPX', 333.75),\n",
       " ('1990-02-08', 'High', '^SPX', 336.0899963378906),\n",
       " ('1990-02-08', 'Low', '^SPX', 332.0),\n",
       " ('1990-02-08', 'Close', '^SPX', 332.9599914550781),\n",
       " ('1990-02-08', 'Volume', '^SPX', 176240000.0),\n",
       " ('1990-02-09', 'Open', '^IXIC', 428.70001220703125),\n",
       " ('1990-02-09', 'High', '^IXIC', 429.1000061035156),\n",
       " ('1990-02-09', 'Low', '^IXIC', 427.5),\n",
       " ('1990-02-09', 'Close', '^IXIC', 428.79998779296875),\n",
       " ('1990-02-09', 'Volume', '^IXIC', 125330000.0),\n",
       " ('1990-02-09', 'Open', '^RUT', 158.6300048828125),\n",
       " ('1990-02-09', 'High', '^RUT', 159.13999938964844),\n",
       " ('1990-02-09', 'Low', '^RUT', 158.6300048828125),\n",
       " ('1990-02-09', 'Close', '^RUT', 159.1300048828125),\n",
       " ('1990-02-09', 'Volume', '^RUT', 146910000.0),\n",
       " ('1990-02-09', 'Open', '^SPX', 333.0199890136719),\n",
       " ('1990-02-09', 'High', '^SPX', 334.6000061035156),\n",
       " ('1990-02-09', 'Low', '^SPX', 332.4100036621094),\n",
       " ('1990-02-09', 'Close', '^SPX', 333.6199951171875),\n",
       " ('1990-02-09', 'Volume', '^SPX', 146910000.0),\n",
       " ('1990-02-12', 'Open', '^IXIC', 428.79998779296875),\n",
       " ('1990-02-12', 'High', '^IXIC', 428.79998779296875),\n",
       " ('1990-02-12', 'Low', '^IXIC', 425.79998779296875),\n",
       " ('1990-02-12', 'Close', '^IXIC', 426.3999938964844),\n",
       " ('1990-02-12', 'Volume', '^IXIC', 113030000.0),\n",
       " ('1990-02-12', 'Open', '^RUT', 159.1300048828125),\n",
       " ('1990-02-12', 'High', '^RUT', 159.1999969482422),\n",
       " ('1990-02-12', 'Low', '^RUT', 158.33999633789062),\n",
       " ('1990-02-12', 'Close', '^RUT', 158.5),\n",
       " ('1990-02-12', 'Volume', '^RUT', 118390000.0),\n",
       " ('1990-02-12', 'Open', '^SPX', 333.6199951171875),\n",
       " ('1990-02-12', 'High', '^SPX', 333.6199951171875),\n",
       " ('1990-02-12', 'Low', '^SPX', 329.9700012207031),\n",
       " ('1990-02-12', 'Close', '^SPX', 330.0799865722656),\n",
       " ('1990-02-12', 'Volume', '^SPX', 118390000.0),\n",
       " ('1990-02-13', 'Open', '^IXIC', 425.29998779296875),\n",
       " ('1990-02-13', 'High', '^IXIC', 427.0),\n",
       " ('1990-02-13', 'Low', '^IXIC', 423.8999938964844),\n",
       " ('1990-02-13', 'Close', '^IXIC', 425.79998779296875),\n",
       " ('1990-02-13', 'Volume', '^IXIC', 127230000.0),\n",
       " ('1990-02-13', 'Open', '^RUT', 158.5),\n",
       " ('1990-02-13', 'High', '^RUT', 158.58999633789062),\n",
       " ('1990-02-13', 'Low', '^RUT', 157.9199981689453),\n",
       " ('1990-02-13', 'Close', '^RUT', 158.19000244140625),\n",
       " ('1990-02-13', 'Volume', '^RUT', 144490000.0),\n",
       " ('1990-02-13', 'Open', '^SPX', 330.0799865722656),\n",
       " ('1990-02-13', 'High', '^SPX', 331.6099853515625),\n",
       " ('1990-02-13', 'Low', '^SPX', 327.9200134277344),\n",
       " ('1990-02-13', 'Close', '^SPX', 331.0199890136719),\n",
       " ('1990-02-13', 'Volume', '^SPX', 144490000.0),\n",
       " ('1990-02-14', 'Open', '^IXIC', 426.79998779296875),\n",
       " ('1990-02-14', 'High', '^IXIC', 427.20001220703125),\n",
       " ('1990-02-14', 'Low', '^IXIC', 425.5),\n",
       " ('1990-02-14', 'Close', '^IXIC', 426.6000061035156),\n",
       " ('1990-02-14', 'Volume', '^IXIC', 139540000.0),\n",
       " ('1990-02-14', 'Open', '^RUT', 158.17999267578125),\n",
       " ('1990-02-14', 'High', '^RUT', 158.57000732421875),\n",
       " ('1990-02-14', 'Low', '^RUT', 157.9600067138672),\n",
       " ('1990-02-14', 'Close', '^RUT', 158.22000122070312),\n",
       " ('1990-02-14', 'Volume', '^RUT', 138530000.0),\n",
       " ('1990-02-14', 'Open', '^SPX', 331.0199890136719),\n",
       " ('1990-02-14', 'High', '^SPX', 333.20001220703125),\n",
       " ('1990-02-14', 'Low', '^SPX', 330.6400146484375),\n",
       " ('1990-02-14', 'Close', '^SPX', 332.010009765625),\n",
       " ('1990-02-14', 'Volume', '^SPX', 138530000.0),\n",
       " ('1990-02-15', 'Open', '^IXIC', 426.29998779296875),\n",
       " ('1990-02-15', 'High', '^IXIC', 429.70001220703125),\n",
       " ('1990-02-15', 'Low', '^IXIC', 425.8999938964844),\n",
       " ('1990-02-15', 'Close', '^IXIC', 429.6000061035156),\n",
       " ('1990-02-15', 'Volume', '^IXIC', 152380000.0),\n",
       " ('1990-02-15', 'Open', '^RUT', 158.22999572753906),\n",
       " ('1990-02-15', 'High', '^RUT', 159.1999969482422),\n",
       " ('1990-02-15', 'Low', '^RUT', 158.22999572753906),\n",
       " ('1990-02-15', 'Close', '^RUT', 159.1999969482422),\n",
       " ('1990-02-15', 'Volume', '^RUT', 174620000.0),\n",
       " ('1990-02-15', 'Open', '^SPX', 332.010009765625),\n",
       " ('1990-02-15', 'High', '^SPX', 335.2099914550781),\n",
       " ('1990-02-15', 'Low', '^SPX', 331.6099853515625),\n",
       " ('1990-02-15', 'Close', '^SPX', 334.8900146484375),\n",
       " ('1990-02-15', 'Volume', '^SPX', 174620000.0),\n",
       " ('1990-02-16', 'Open', '^IXIC', 430.0),\n",
       " ('1990-02-16', 'High', '^IXIC', 430.8999938964844),\n",
       " ('1990-02-16', 'Low', '^IXIC', 428.8999938964844),\n",
       " ('1990-02-16', 'Close', '^IXIC', 429.0),\n",
       " ('1990-02-16', 'Volume', '^IXIC', 120220000.0),\n",
       " ('1990-02-16', 'Open', '^RUT', 159.1999969482422),\n",
       " ('1990-02-16', 'High', '^RUT', 160.35000610351562),\n",
       " ('1990-02-16', 'Low', '^RUT', 159.1999969482422),\n",
       " ('1990-02-16', 'Close', '^RUT', 159.3000030517578),\n",
       " ('1990-02-16', 'Volume', '^RUT', 166840000.0),\n",
       " ('1990-02-16', 'Open', '^SPX', 334.8900146484375),\n",
       " ('1990-02-16', 'High', '^SPX', 335.6400146484375),\n",
       " ('1990-02-16', 'Low', '^SPX', 332.4200134277344),\n",
       " ('1990-02-16', 'Close', '^SPX', 332.7200012207031),\n",
       " ('1990-02-16', 'Volume', '^SPX', 166840000.0),\n",
       " ('1990-02-20', 'Open', '^IXIC', 425.3999938964844),\n",
       " ('1990-02-20', 'High', '^IXIC', 427.8999938964844),\n",
       " ('1990-02-20', 'Low', '^IXIC', 421.79998779296875),\n",
       " ('1990-02-20', 'Close', '^IXIC', 423.79998779296875),\n",
       " ('1990-02-20', 'Volume', '^IXIC', 108280000.0),\n",
       " ('1990-02-20', 'Open', '^RUT', 159.30999755859375),\n",
       " ('1990-02-20', 'High', '^RUT', 159.30999755859375),\n",
       " ('1990-02-20', 'Low', '^RUT', 157.3800048828125),\n",
       " ('1990-02-20', 'Close', '^RUT', 157.86000061035156),\n",
       " ('1990-02-20', 'Volume', '^RUT', 147300000.0),\n",
       " ('1990-02-20', 'Open', '^SPX', 332.7200012207031),\n",
       " ('1990-02-20', 'High', '^SPX', 332.7200012207031),\n",
       " ('1990-02-20', 'Low', '^SPX', 326.260009765625),\n",
       " ('1990-02-20', 'Close', '^SPX', 327.989990234375),\n",
       " ('1990-02-20', 'Volume', '^SPX', 147300000.0),\n",
       " ('1990-02-21', 'Open', '^IXIC', 418.8999938964844),\n",
       " ('1990-02-21', 'High', '^IXIC', 421.8999938964844),\n",
       " ('1990-02-21', 'Low', '^IXIC', 418.3999938964844),\n",
       " ('1990-02-21', 'Close', '^IXIC', 421.5),\n",
       " ('1990-02-21', 'Volume', '^IXIC', 120100000.0),\n",
       " ('1990-02-21', 'Open', '^RUT', 157.85000610351562),\n",
       " ('1990-02-21', 'High', '^RUT', 157.85000610351562),\n",
       " ('1990-02-21', 'Low', '^RUT', 156.14999389648438),\n",
       " ('1990-02-21', 'Close', '^RUT', 157.0500030517578),\n",
       " ('1990-02-21', 'Volume', '^RUT', 159240000.0),\n",
       " ('1990-02-21', 'Open', '^SPX', 327.9100036621094),\n",
       " ('1990-02-21', 'High', '^SPX', 328.1700134277344),\n",
       " ('1990-02-21', 'Low', '^SPX', 324.4700012207031),\n",
       " ('1990-02-21', 'Close', '^SPX', 327.6700134277344),\n",
       " ('1990-02-21', 'Volume', '^SPX', 159240000.0),\n",
       " ('1990-02-22', 'Open', '^IXIC', 422.6000061035156),\n",
       " ('1990-02-22', 'High', '^IXIC', 425.1000061035156),\n",
       " ('1990-02-22', 'Low', '^IXIC', 422.20001220703125),\n",
       " ('1990-02-22', 'Close', '^IXIC', 422.79998779296875),\n",
       " ('1990-02-22', 'Volume', '^IXIC', 134870000.0),\n",
       " ('1990-02-22', 'Open', '^RUT', 157.0500030517578),\n",
       " ('1990-02-22', 'High', '^RUT', 158.27000427246094),\n",
       " ('1990-02-22', 'Low', '^RUT', 157.0500030517578),\n",
       " ('1990-02-22', 'Close', '^RUT', 157.8000030517578),\n",
       " ('1990-02-22', 'Volume', '^RUT', 184320000.0),\n",
       " ('1990-02-22', 'Open', '^SPX', 327.6700134277344),\n",
       " ('1990-02-22', 'High', '^SPX', 330.9800109863281),\n",
       " ('1990-02-22', 'Low', '^SPX', 325.70001220703125),\n",
       " ('1990-02-22', 'Close', '^SPX', 325.70001220703125),\n",
       " ('1990-02-22', 'Volume', '^SPX', 184320000.0),\n",
       " ('1990-02-23', 'Open', '^IXIC', 421.1000061035156),\n",
       " ('1990-02-23', 'High', '^IXIC', 421.5),\n",
       " ('1990-02-23', 'Low', '^IXIC', 418.1000061035156),\n",
       " ('1990-02-23', 'Close', '^IXIC', 419.5),\n",
       " ('1990-02-23', 'Volume', '^IXIC', 117220000.0),\n",
       " ('1990-02-23', 'Open', '^RUT', 157.7899932861328),\n",
       " ('1990-02-23', 'High', '^RUT', 157.7899932861328),\n",
       " ('1990-02-23', 'Low', '^RUT', 156.1999969482422),\n",
       " ('1990-02-23', 'Close', '^RUT', 156.63999938964844),\n",
       " ('1990-02-23', 'Volume', '^RUT', 148490000.0),\n",
       " ('1990-02-23', 'Open', '^SPX', 325.70001220703125),\n",
       " ('1990-02-23', 'High', '^SPX', 326.1499938964844),\n",
       " ('1990-02-23', 'Low', '^SPX', 322.1000061035156),\n",
       " ('1990-02-23', 'Close', '^SPX', 324.1499938964844),\n",
       " ('1990-02-23', 'Volume', '^SPX', 148490000.0),\n",
       " ('1990-02-26', 'Open', '^IXIC', 419.5),\n",
       " ('1990-02-26', 'High', '^IXIC', 421.0),\n",
       " ('1990-02-26', 'Low', '^IXIC', 418.70001220703125),\n",
       " ('1990-02-26', 'Close', '^IXIC', 421.0),\n",
       " ('1990-02-26', 'Volume', '^IXIC', 114600000.0),\n",
       " ('1990-02-26', 'Open', '^RUT', 156.63999938964844),\n",
       " ('1990-02-26', 'High', '^RUT', 156.63999938964844),\n",
       " ('1990-02-26', 'Low', '^RUT', 155.97000122070312),\n",
       " ('1990-02-26', 'Close', '^RUT', 156.35000610351562),\n",
       " ('1990-02-26', 'Volume', '^RUT', 148900000.0),\n",
       " ('1990-02-26', 'Open', '^SPX', 324.1600036621094),\n",
       " ('1990-02-26', 'High', '^SPX', 328.6700134277344),\n",
       " ('1990-02-26', 'Low', '^SPX', 323.9800109863281),\n",
       " ('1990-02-26', 'Close', '^SPX', 328.6700134277344),\n",
       " ('1990-02-26', 'Volume', '^SPX', 148900000.0),\n",
       " ('1990-02-27', 'Open', '^IXIC', 422.1000061035156),\n",
       " ('1990-02-27', 'High', '^IXIC', 423.5),\n",
       " ('1990-02-27', 'Low', '^IXIC', 421.3999938964844),\n",
       " ('1990-02-27', 'Close', '^IXIC', 422.6000061035156),\n",
       " ('1990-02-27', 'Volume', '^IXIC', 130850000.0),\n",
       " ('1990-02-27', 'Open', '^RUT', 156.35000610351562),\n",
       " ('1990-02-27', 'High', '^RUT', 156.97999572753906),\n",
       " ('1990-02-27', 'Low', '^RUT', 156.35000610351562),\n",
       " ('1990-02-27', 'Close', '^RUT', 156.83999633789062),\n",
       " ('1990-02-27', 'Volume', '^RUT', 152590000.0),\n",
       " ('1990-02-27', 'Open', '^SPX', 328.67999267578125),\n",
       " ('1990-02-27', 'High', '^SPX', 331.94000244140625),\n",
       " ('1990-02-27', 'Low', '^SPX', 328.4700012207031),\n",
       " ('1990-02-27', 'Close', '^SPX', 330.260009765625),\n",
       " ('1990-02-27', 'Volume', '^SPX', 152590000.0),\n",
       " ('1990-02-28', 'Open', '^IXIC', 423.29998779296875),\n",
       " ('1990-02-28', 'High', '^IXIC', 425.79998779296875),\n",
       " ('1990-02-28', 'Low', '^IXIC', 422.6000061035156),\n",
       " ('1990-02-28', 'Close', '^IXIC', 425.79998779296875),\n",
       " ('1990-02-28', 'Volume', '^IXIC', 129400000.0),\n",
       " ('1990-02-28', 'Open', '^RUT', 156.83999633789062),\n",
       " ('1990-02-28', 'High', '^RUT', 157.8800048828125),\n",
       " ('1990-02-28', 'Low', '^RUT', 156.8300018310547),\n",
       " ('1990-02-28', 'Close', '^RUT', 157.72000122070312),\n",
       " ('1990-02-28', 'Volume', '^RUT', 184400000.0),\n",
       " ('1990-02-28', 'Open', '^SPX', 330.260009765625),\n",
       " ('1990-02-28', 'High', '^SPX', 333.4800109863281),\n",
       " ('1990-02-28', 'Low', '^SPX', 330.1600036621094),\n",
       " ('1990-02-28', 'Close', '^SPX', 331.8900146484375),\n",
       " ('1990-02-28', 'Volume', '^SPX', 184400000.0),\n",
       " ('1990-03-01', 'Open', '^IXIC', 425.29998779296875),\n",
       " ('1990-03-01', 'High', '^IXIC', 427.70001220703125),\n",
       " ('1990-03-01', 'Low', '^IXIC', 424.5),\n",
       " ('1990-03-01', 'Close', '^IXIC', 427.20001220703125),\n",
       " ('1990-03-01', 'Volume', '^IXIC', 134240000.0),\n",
       " ('1990-03-01', 'Open', '^RUT', 157.7100067138672),\n",
       " ('1990-03-01', 'High', '^RUT', 158.05999755859375),\n",
       " ('1990-03-01', 'Low', '^RUT', 157.38999938964844),\n",
       " ('1990-03-01', 'Close', '^RUT', 158.0399932861328),\n",
       " ('1990-03-01', 'Volume', '^RUT', 157930000.0),\n",
       " ('1990-03-01', 'Open', '^SPX', 331.8900146484375),\n",
       " ('1990-03-01', 'High', '^SPX', 334.3999938964844),\n",
       " ('1990-03-01', 'Low', '^SPX', 331.0799865722656),\n",
       " ('1990-03-01', 'Close', '^SPX', 332.739990234375),\n",
       " ('1990-03-01', 'Volume', '^SPX', 157930000.0),\n",
       " ('1990-03-02', 'Open', '^IXIC', 428.20001220703125),\n",
       " ('1990-03-02', 'High', '^IXIC', 431.0),\n",
       " ('1990-03-02', 'Low', '^IXIC', 427.6000061035156),\n",
       " ('1990-03-02', 'Close', '^IXIC', 431.0),\n",
       " ('1990-03-02', 'Volume', '^IXIC', 132370000.0),\n",
       " ('1990-03-02', 'Open', '^RUT', 158.0399932861328),\n",
       " ('1990-03-02', 'High', '^RUT', 159.19000244140625),\n",
       " ('1990-03-02', 'Low', '^RUT', 158.0399932861328),\n",
       " ('1990-03-02', 'Close', '^RUT', 159.19000244140625),\n",
       " ('1990-03-02', 'Volume', '^RUT', 164330000.0),\n",
       " ('1990-03-02', 'Open', '^SPX', 332.739990234375),\n",
       " ('1990-03-02', 'High', '^SPX', 335.5400085449219),\n",
       " ('1990-03-02', 'Low', '^SPX', 332.7200012207031),\n",
       " ('1990-03-02', 'Close', '^SPX', 335.5400085449219),\n",
       " ('1990-03-02', 'Volume', '^SPX', 164330000.0),\n",
       " ('1990-03-05', 'Open', '^IXIC', 430.79998779296875),\n",
       " ('1990-03-05', 'High', '^IXIC', 431.20001220703125),\n",
       " ('1990-03-05', 'Low', '^IXIC', 429.3999938964844),\n",
       " ('1990-03-05', 'Close', '^IXIC', 430.20001220703125),\n",
       " ('1990-03-05', 'Volume', '^IXIC', 111000000.0),\n",
       " ('1990-03-05', 'Open', '^RUT', 159.19000244140625),\n",
       " ('1990-03-05', 'High', '^RUT', 159.47000122070312),\n",
       " ('1990-03-05', 'Low', '^RUT', 159.05999755859375),\n",
       " ('1990-03-05', 'Close', '^RUT', 159.2899932861328),\n",
       " ('1990-03-05', 'Volume', '^RUT', 140110000.0),\n",
       " ('1990-03-05', 'Open', '^SPX', 335.5400085449219),\n",
       " ('1990-03-05', 'High', '^SPX', 336.3800048828125),\n",
       " ('1990-03-05', 'Low', '^SPX', 333.489990234375),\n",
       " ('1990-03-05', 'Close', '^SPX', 333.739990234375),\n",
       " ('1990-03-05', 'Volume', '^SPX', 140110000.0),\n",
       " ('1990-03-06', 'Open', '^IXIC', 429.29998779296875),\n",
       " ('1990-03-06', 'High', '^IXIC', 432.6000061035156),\n",
       " ('1990-03-06', 'Low', '^IXIC', 428.6000061035156),\n",
       " ('1990-03-06', 'Close', '^IXIC', 432.29998779296875),\n",
       " ('1990-03-06', 'Volume', '^IXIC', 139150000.0),\n",
       " ('1990-03-06', 'Open', '^RUT', 159.3000030517578),\n",
       " ('1990-03-06', 'High', '^RUT', 160.39999389648438),\n",
       " ('1990-03-06', 'Low', '^RUT', 159.2899932861328),\n",
       " ('1990-03-06', 'Close', '^RUT', 160.39999389648438),\n",
       " ('1990-03-06', 'Volume', '^RUT', 143640000.0),\n",
       " ('1990-03-06', 'Open', '^SPX', 333.739990234375),\n",
       " ('1990-03-06', 'High', '^SPX', 337.92999267578125),\n",
       " ('1990-03-06', 'Low', '^SPX', 333.57000732421875),\n",
       " ('1990-03-06', 'Close', '^SPX', 337.92999267578125),\n",
       " ('1990-03-06', 'Volume', '^SPX', 143640000.0),\n",
       " ('1990-03-07', 'Open', '^IXIC', 433.1000061035156),\n",
       " ('1990-03-07', 'High', '^IXIC', 433.5),\n",
       " ('1990-03-07', 'Low', '^IXIC', 432.1000061035156),\n",
       " ('1990-03-07', 'Close', '^IXIC', 432.5),\n",
       " ('1990-03-07', 'Volume', '^IXIC', 167550000.0),\n",
       " ('1990-03-07', 'Open', '^RUT', 160.3800048828125),\n",
       " ('1990-03-07', 'High', '^RUT', 160.9199981689453),\n",
       " ('1990-03-07', 'Low', '^RUT', 160.3800048828125),\n",
       " ('1990-03-07', 'Close', '^RUT', 160.89999389648438),\n",
       " ('1990-03-07', 'Volume', '^RUT', 163580000.0),\n",
       " ('1990-03-07', 'Open', '^SPX', 337.92999267578125),\n",
       " ('1990-03-07', 'High', '^SPX', 338.8399963378906),\n",
       " ('1990-03-07', 'Low', '^SPX', 336.3299865722656),\n",
       " ('1990-03-07', 'Close', '^SPX', 336.95001220703125),\n",
       " ('1990-03-07', 'Volume', '^SPX', 163580000.0),\n",
       " ('1990-03-08', 'Open', '^IXIC', 433.6000061035156),\n",
       " ('1990-03-08', 'High', '^IXIC', 436.6000061035156),\n",
       " ('1990-03-08', 'Low', '^IXIC', 432.6000061035156),\n",
       " ('1990-03-08', 'Close', '^IXIC', 436.5),\n",
       " ('1990-03-08', 'Volume', '^IXIC', 145730000.0),\n",
       " ('1990-03-08', 'Open', '^RUT', 160.88999938964844),\n",
       " ('1990-03-08', 'High', '^RUT', 162.07000732421875),\n",
       " ('1990-03-08', 'Low', '^RUT', 160.88999938964844),\n",
       " ('1990-03-08', 'Close', '^RUT', 162.07000732421875),\n",
       " ('1990-03-08', 'Volume', '^RUT', 170900000.0),\n",
       " ('1990-03-08', 'Open', '^SPX', 336.95001220703125),\n",
       " ('1990-03-08', 'High', '^SPX', 340.6600036621094),\n",
       " ('1990-03-08', 'Low', '^SPX', 336.95001220703125),\n",
       " ('1990-03-08', 'Close', '^SPX', 340.2699890136719),\n",
       " ('1990-03-08', 'Volume', '^SPX', 170900000.0),\n",
       " ('1990-03-09', 'Open', '^IXIC', 437.0),\n",
       " ('1990-03-09', 'High', '^IXIC', 437.1000061035156),\n",
       " ('1990-03-09', 'Low', '^IXIC', 435.3999938964844),\n",
       " ('1990-03-09', 'Close', '^IXIC', 436.79998779296875),\n",
       " ('1990-03-09', 'Volume', '^IXIC', 135120000.0),\n",
       " ('1990-03-09', 'Open', '^RUT', 162.0800018310547),\n",
       " ('1990-03-09', 'High', '^RUT', 162.1999969482422),\n",
       " ('1990-03-09', 'Low', '^RUT', 161.72000122070312),\n",
       " ('1990-03-09', 'Close', '^RUT', 162.0800018310547),\n",
       " ('1990-03-09', 'Volume', '^RUT', 150410000.0),\n",
       " ('1990-03-09', 'Open', '^SPX', 340.1199951171875),\n",
       " ('1990-03-09', 'High', '^SPX', 340.2699890136719),\n",
       " ('1990-03-09', 'Low', '^SPX', 336.8399963378906),\n",
       " ('1990-03-09', 'Close', '^SPX', 337.92999267578125),\n",
       " ('1990-03-09', 'Volume', '^SPX', 150410000.0),\n",
       " ('1990-03-12', 'Open', '^IXIC', 435.29998779296875),\n",
       " ('1990-03-12', 'High', '^IXIC', 436.6000061035156),\n",
       " ('1990-03-12', 'Low', '^IXIC', 435.0),\n",
       " ('1990-03-12', 'Close', '^IXIC', 436.6000061035156),\n",
       " ('1990-03-12', 'Volume', '^IXIC', 103840000.0),\n",
       " ('1990-03-12', 'Open', '^RUT', 162.07000732421875),\n",
       " ('1990-03-12', 'High', '^RUT', 162.22999572753906),\n",
       " ('1990-03-12', 'Low', '^RUT', 161.72999572753906),\n",
       " ('1990-03-12', 'Close', '^RUT', 162.22999572753906),\n",
       " ('1990-03-12', 'Volume', '^RUT', 114790000.0),\n",
       " ('1990-03-12', 'Open', '^SPX', 337.92999267578125),\n",
       " ('1990-03-12', 'High', '^SPX', 339.0799865722656),\n",
       " ('1990-03-12', 'Low', '^SPX', 336.1400146484375),\n",
       " ('1990-03-12', 'Close', '^SPX', 338.6700134277344),\n",
       " ('1990-03-12', 'Volume', '^SPX', 114790000.0),\n",
       " ('1990-03-13', 'Open', '^IXIC', 436.1000061035156),\n",
       " ('1990-03-13', 'High', '^IXIC', 437.0),\n",
       " ('1990-03-13', 'Low', '^IXIC', 434.6000061035156),\n",
       " ('1990-03-13', 'Close', '^IXIC', 434.6000061035156),\n",
       " ('1990-03-13', 'Volume', '^IXIC', 123620000.0),\n",
       " ('1990-03-13', 'Open', '^RUT', 162.22999572753906),\n",
       " ('1990-03-13', 'High', '^RUT', 162.6300048828125),\n",
       " ('1990-03-13', 'Low', '^RUT', 161.9600067138672),\n",
       " ('1990-03-13', 'Close', '^RUT', 162.05999755859375),\n",
       " ('1990-03-13', 'Volume', '^RUT', 145440000.0),\n",
       " ('1990-03-13', 'Open', '^SPX', 338.6700134277344),\n",
       " ('1990-03-13', 'High', '^SPX', 338.6700134277344),\n",
       " ('1990-03-13', 'Low', '^SPX', 335.3599853515625),\n",
       " ('1990-03-13', 'Close', '^SPX', 336.0),\n",
       " ('1990-03-13', 'Volume', '^SPX', 145440000.0),\n",
       " ('1990-03-14', 'Open', '^IXIC', 435.70001220703125),\n",
       " ('1990-03-14', 'High', '^IXIC', 436.3999938964844),\n",
       " ('1990-03-14', 'Low', '^IXIC', 434.5),\n",
       " ('1990-03-14', 'Close', '^IXIC', 436.20001220703125),\n",
       " ('1990-03-14', 'Volume', '^IXIC', 122180000.0),\n",
       " ('1990-03-14', 'Open', '^RUT', 162.05999755859375),\n",
       " ('1990-03-14', 'High', '^RUT', 162.7899932861328),\n",
       " ('1990-03-14', 'Low', '^RUT', 162.05999755859375),\n",
       " ('1990-03-14', 'Close', '^RUT', 162.77999877929688),\n",
       " ('1990-03-14', 'Volume', '^RUT', 145060000.0),\n",
       " ('1990-03-14', 'Open', '^SPX', 336.0),\n",
       " ('1990-03-14', 'High', '^SPX', 337.6300048828125),\n",
       " ('1990-03-14', 'Low', '^SPX', 334.92999267578125),\n",
       " ('1990-03-14', 'Close', '^SPX', 336.8699951171875),\n",
       " ('1990-03-14', 'Volume', '^SPX', 145060000.0),\n",
       " ('1990-03-15', 'Open', '^IXIC', 436.70001220703125),\n",
       " ('1990-03-15', 'High', '^IXIC', 438.3999938964844),\n",
       " ('1990-03-15', 'Low', '^IXIC', 436.29998779296875),\n",
       " ('1990-03-15', 'Close', '^IXIC', 438.1000061035156),\n",
       " ('1990-03-15', 'Volume', '^IXIC', 128680000.0),\n",
       " ('1990-03-15', 'Open', '^RUT', 162.7899932861328),\n",
       " ('1990-03-15', 'High', '^RUT', 163.32000732421875),\n",
       " ('1990-03-15', 'Low', '^RUT', 162.7899932861328),\n",
       " ('1990-03-15', 'Close', '^RUT', 163.25999450683594),\n",
       " ('1990-03-15', 'Volume', '^RUT', 144410000.0),\n",
       " ('1990-03-15', 'Open', '^SPX', 336.8699951171875),\n",
       " ('1990-03-15', 'High', '^SPX', 338.9100036621094),\n",
       " ('1990-03-15', 'Low', '^SPX', 336.8699951171875),\n",
       " ('1990-03-15', 'Close', '^SPX', 338.07000732421875),\n",
       " ('1990-03-15', 'Volume', '^SPX', 144410000.0),\n",
       " ('1990-03-16', 'Open', '^IXIC', 440.3999938964844),\n",
       " ('1990-03-16', 'High', '^IXIC', 443.1000061035156),\n",
       " ('1990-03-16', 'Low', '^IXIC', 439.6000061035156),\n",
       " ('1990-03-16', 'Close', '^IXIC', 442.20001220703125),\n",
       " ('1990-03-16', 'Volume', '^IXIC', 176040000.0),\n",
       " ('1990-03-16', 'Open', '^RUT', 163.25999450683594),\n",
       " ('1990-03-16', 'High', '^RUT', 164.2899932861328),\n",
       " ('1990-03-16', 'Low', '^RUT', 163.24000549316406),\n",
       " ('1990-03-16', 'Close', '^RUT', 164.2100067138672),\n",
       " ('1990-03-16', 'Volume', '^RUT', 222520000.0),\n",
       " ('1990-03-16', 'Open', '^SPX', 338.07000732421875),\n",
       " ('1990-03-16', 'High', '^SPX', 341.9100036621094),\n",
       " ('1990-03-16', 'Low', '^SPX', 338.07000732421875),\n",
       " ('1990-03-16', 'Close', '^SPX', 341.9100036621094),\n",
       " ('1990-03-16', 'Volume', '^SPX', 222520000.0),\n",
       " ('1990-03-19', 'Open', '^IXIC', 440.3999938964844),\n",
       " ('1990-03-19', 'High', '^IXIC', 442.8999938964844),\n",
       " ('1990-03-19', 'Low', '^IXIC', 439.0),\n",
       " ('1990-03-19', 'Close', '^IXIC', 442.8999938964844),\n",
       " ('1990-03-19', 'Volume', '^IXIC', 129400000.0),\n",
       " ('1990-03-19', 'Open', '^RUT', 164.2100067138672),\n",
       " ('1990-03-19', 'High', '^RUT', 164.3800048828125),\n",
       " ('1990-03-19', 'Low', '^RUT', 163.4199981689453),\n",
       " ('1990-03-19', 'Close', '^RUT', 164.3800048828125),\n",
       " ('1990-03-19', 'Volume', '^RUT', 142300000.0),\n",
       " ('1990-03-19', 'Open', '^SPX', 341.9100036621094),\n",
       " ('1990-03-19', 'High', '^SPX', 343.760009765625),\n",
       " ('1990-03-19', 'Low', '^SPX', 339.1199951171875),\n",
       " ('1990-03-19', 'Close', '^SPX', 343.5299987792969),\n",
       " ('1990-03-19', 'Volume', '^SPX', 142300000.0),\n",
       " ('1990-03-20', 'Open', '^IXIC', 443.20001220703125),\n",
       " ('1990-03-20', 'High', '^IXIC', 443.29998779296875),\n",
       " ('1990-03-20', 'Low', '^IXIC', 439.70001220703125),\n",
       " ('1990-03-20', 'Close', '^IXIC', 440.1000061035156),\n",
       " ('1990-03-20', 'Volume', '^IXIC', 142220000.0),\n",
       " ('1990-03-20', 'Open', '^RUT', 164.50999450683594),\n",
       " ('1990-03-20', 'High', '^RUT', 164.83999633789062),\n",
       " ('1990-03-20', 'Low', '^RUT', 164.08999633789062),\n",
       " ('1990-03-20', 'Close', '^RUT', 164.24000549316406),\n",
       " ('1990-03-20', 'Volume', '^RUT', 177320000.0),\n",
       " ('1990-03-20', 'Open', '^SPX', 343.5299987792969),\n",
       " ('1990-03-20', 'High', '^SPX', 344.489990234375),\n",
       " ('1990-03-20', 'Low', '^SPX', 340.8699951171875),\n",
       " ('1990-03-20', 'Close', '^SPX', 341.57000732421875),\n",
       " ('1990-03-20', 'Volume', '^SPX', 177320000.0),\n",
       " ('1990-03-21', 'Open', '^IXIC', 439.6000061035156),\n",
       " ('1990-03-21', 'High', '^IXIC', 440.8999938964844),\n",
       " ('1990-03-21', 'Low', '^IXIC', 439.20001220703125),\n",
       " ('1990-03-21', 'Close', '^IXIC', 439.29998779296875),\n",
       " ('1990-03-21', 'Volume', '^IXIC', 131080000.0),\n",
       " ('1990-03-21', 'Open', '^RUT', 164.25999450683594),\n",
       " ('1990-03-21', 'High', '^RUT', 164.35000610351562),\n",
       " ('1990-03-21', 'Low', '^RUT', 164.0500030517578),\n",
       " ('1990-03-21', 'Close', '^RUT', 164.24000549316406),\n",
       " ('1990-03-21', 'Volume', '^RUT', 130990000.0),\n",
       " ('1990-03-21', 'Open', '^SPX', 341.57000732421875),\n",
       " ('1990-03-21', 'High', '^SPX', 342.3399963378906),\n",
       " ('1990-03-21', 'Low', '^SPX', 339.55999755859375),\n",
       " ('1990-03-21', 'Close', '^SPX', 339.739990234375),\n",
       " ('1990-03-21', 'Volume', '^SPX', 130990000.0),\n",
       " ('1990-03-22', 'Open', '^IXIC', 439.20001220703125),\n",
       " ('1990-03-22', 'High', '^IXIC', 439.29998779296875),\n",
       " ('1990-03-22', 'Low', '^IXIC', 433.20001220703125),\n",
       " ('1990-03-22', 'Close', '^IXIC', 434.5),\n",
       " ('1990-03-22', 'Volume', '^IXIC', 146220000.0),\n",
       " ('1990-03-22', 'Open', '^RUT', 164.24000549316406),\n",
       " ('1990-03-22', 'High', '^RUT', 164.25),\n",
       " ('1990-03-22', 'Low', '^RUT', 162.32000732421875),\n",
       " ('1990-03-22', 'Close', '^RUT', 162.74000549316406),\n",
       " ('1990-03-22', 'Volume', '^RUT', 175930000.0),\n",
       " ('1990-03-22', 'Open', '^SPX', 339.739990234375),\n",
       " ('1990-03-22', 'High', '^SPX', 339.7699890136719),\n",
       " ('1990-03-22', 'Low', '^SPX', 333.6199951171875),\n",
       " ('1990-03-22', 'Close', '^SPX', 335.69000244140625),\n",
       " ('1990-03-22', 'Volume', '^SPX', 175930000.0),\n",
       " ('1990-03-23', 'Open', '^IXIC', 436.1000061035156),\n",
       " ('1990-03-23', 'High', '^IXIC', 437.79998779296875),\n",
       " ('1990-03-23', 'Low', '^IXIC', 435.20001220703125),\n",
       " ('1990-03-23', 'Close', '^IXIC', 437.29998779296875),\n",
       " ('1990-03-23', 'Volume', '^IXIC', 130740000.0),\n",
       " ('1990-03-23', 'Open', '^RUT', 162.74000549316406),\n",
       " ('1990-03-23', 'High', '^RUT', 163.6300048828125),\n",
       " ('1990-03-23', 'Low', '^RUT', 162.74000549316406),\n",
       " ('1990-03-23', 'Close', '^RUT', 163.6199951171875),\n",
       " ('1990-03-23', 'Volume', '^RUT', 132070000.0),\n",
       " ('1990-03-23', 'Open', '^SPX', 335.69000244140625),\n",
       " ('1990-03-23', 'High', '^SPX', 337.5799865722656),\n",
       " ('1990-03-23', 'Low', '^SPX', 335.69000244140625),\n",
       " ('1990-03-23', 'Close', '^SPX', 337.2200012207031),\n",
       " ('1990-03-23', 'Volume', '^SPX', 132070000.0),\n",
       " ('1990-03-26', 'Open', '^IXIC', 438.79998779296875),\n",
       " ('1990-03-26', 'High', '^IXIC', 440.0),\n",
       " ('1990-03-26', 'Low', '^IXIC', 438.1000061035156),\n",
       " ('1990-03-26', 'Close', '^IXIC', 438.79998779296875),\n",
       " ('1990-03-26', 'Volume', '^IXIC', 96280000.0),\n",
       " ('1990-03-26', 'Open', '^RUT', 163.6199951171875),\n",
       " ('1990-03-26', 'High', '^RUT', 164.1199951171875),\n",
       " ('1990-03-26', 'Low', '^RUT', 163.6199951171875),\n",
       " ('1990-03-26', 'Close', '^RUT', 163.82000732421875),\n",
       " ('1990-03-26', 'Volume', '^RUT', 116110000.0),\n",
       " ('1990-03-26', 'Open', '^SPX', 337.2200012207031),\n",
       " ('1990-03-26', 'High', '^SPX', 339.739990234375),\n",
       " ('1990-03-26', 'Low', '^SPX', 337.2200012207031),\n",
       " ('1990-03-26', 'Close', '^SPX', 337.6300048828125),\n",
       " ('1990-03-26', 'Volume', '^SPX', 116110000.0),\n",
       " ('1990-03-27', 'Open', '^IXIC', 437.70001220703125),\n",
       " ('1990-03-27', 'High', '^IXIC', 439.70001220703125),\n",
       " ('1990-03-27', 'Low', '^IXIC', 437.0),\n",
       " ('1990-03-27', 'Close', '^IXIC', 439.5),\n",
       " ('1990-03-27', 'Volume', '^IXIC', 106910000.0),\n",
       " ('1990-03-27', 'Open', '^RUT', 163.80999755859375),\n",
       " ('1990-03-27', 'High', '^RUT', 164.0800018310547),\n",
       " ('1990-03-27', 'Low', '^RUT', 163.35000610351562),\n",
       " ('1990-03-27', 'Close', '^RUT', 164.07000732421875),\n",
       " ('1990-03-27', 'Volume', '^RUT', 131610000.0),\n",
       " ('1990-03-27', 'Open', '^SPX', 337.6300048828125),\n",
       " ('1990-03-27', 'High', '^SPX', 341.5),\n",
       " ('1990-03-27', 'Low', '^SPX', 337.0299987792969),\n",
       " ('1990-03-27', 'Close', '^SPX', 341.5),\n",
       " ('1990-03-27', 'Volume', '^SPX', 131610000.0),\n",
       " ('1990-03-28', 'Open', '^IXIC', 437.0),\n",
       " ('1990-03-28', 'High', '^IXIC', 439.20001220703125),\n",
       " ('1990-03-28', 'Low', '^IXIC', 435.70001220703125),\n",
       " ('1990-03-28', 'Close', '^IXIC', 436.70001220703125),\n",
       " ('1990-03-28', 'Volume', '^IXIC', 132260000.0),\n",
       " ('1990-03-28', 'Open', '^RUT', 164.07000732421875),\n",
       " ('1990-03-28', 'High', '^RUT', 164.0800018310547),\n",
       " ('1990-03-28', 'Low', '^RUT', 163.50999450683594),\n",
       " ('1990-03-28', 'Close', '^RUT', 163.8000030517578),\n",
       " ('1990-03-28', 'Volume', '^RUT', 142300000.0),\n",
       " ('1990-03-28', 'Open', '^SPX', 341.5),\n",
       " ('1990-03-28', 'High', '^SPX', 342.5799865722656),\n",
       " ('1990-03-28', 'Low', '^SPX', 340.6000061035156),\n",
       " ('1990-03-28', 'Close', '^SPX', 342.0),\n",
       " ('1990-03-28', 'Volume', '^SPX', 142300000.0),\n",
       " ('1990-03-29', 'Open', '^IXIC', 436.20001220703125),\n",
       " ('1990-03-29', 'High', '^IXIC', 436.70001220703125),\n",
       " ('1990-03-29', 'Low', '^IXIC', 434.6000061035156),\n",
       " ('1990-03-29', 'Close', '^IXIC', 435.3999938964844),\n",
       " ('1990-03-29', 'Volume', '^IXIC', 124190000.0),\n",
       " ('1990-03-29', 'Open', '^RUT', 163.7899932861328),\n",
       " ('1990-03-29', 'High', '^RUT', 163.80999755859375),\n",
       " ('1990-03-29', 'Low', '^RUT', 163.22999572753906),\n",
       " ('1990-03-29', 'Close', '^RUT', 163.41000366210938),\n",
       " ('1990-03-29', 'Volume', '^RUT', 132190000.0),\n",
       " ('1990-03-29', 'Open', '^SPX', 342.0),\n",
       " ('1990-03-29', 'High', '^SPX', 342.07000732421875),\n",
       " ('1990-03-29', 'Low', '^SPX', 339.7699890136719),\n",
       " ('1990-03-29', 'Close', '^SPX', 340.7900085449219),\n",
       " ('1990-03-29', 'Volume', '^SPX', 132190000.0),\n",
       " ('1990-03-30', 'Open', '^IXIC', 434.70001220703125),\n",
       " ('1990-03-30', 'High', '^IXIC', 436.0),\n",
       " ('1990-03-30', 'Low', '^IXIC', 433.20001220703125),\n",
       " ('1990-03-30', 'Close', '^IXIC', 435.5),\n",
       " ('1990-03-30', 'Volume', '^IXIC', 126630000.0),\n",
       " ('1990-03-30', 'Open', '^RUT', 163.41000366210938),\n",
       " ('1990-03-30', 'High', '^RUT', 163.63999938964844),\n",
       " ('1990-03-30', 'Low', '^RUT', 162.66000366210938),\n",
       " ('1990-03-30', 'Close', '^RUT', 163.6300048828125),\n",
       " ('1990-03-30', 'Volume', '^RUT', 139340000.0),\n",
       " ('1990-03-30', 'Open', '^SPX', 340.7900085449219),\n",
       " ('1990-03-30', 'High', '^SPX', 341.4100036621094),\n",
       " ('1990-03-30', 'Low', '^SPX', 338.2099914550781),\n",
       " ('1990-03-30', 'Close', '^SPX', 339.94000244140625),\n",
       " ('1990-03-30', 'Volume', '^SPX', 139340000.0),\n",
       " ('1990-04-02', 'Open', '^IXIC', 431.6000061035156),\n",
       " ('1990-04-02', 'High', '^IXIC', 434.1000061035156),\n",
       " ('1990-04-02', 'Low', '^IXIC', 430.79998779296875),\n",
       " ('1990-04-02', 'Close', '^IXIC', 433.20001220703125),\n",
       " ('1990-04-02', 'Volume', '^IXIC', 111380000.0),\n",
       " ('1990-04-02', 'Open', '^RUT', 163.6300048828125),\n",
       " ('1990-04-02', 'High', '^RUT', 163.6300048828125),\n",
       " ('1990-04-02', 'Low', '^RUT', 161.83999633789062),\n",
       " ('1990-04-02', 'Close', '^RUT', 162.33999633789062),\n",
       " ('1990-04-02', 'Volume', '^RUT', 124360000.0),\n",
       " ('1990-04-02', 'Open', '^SPX', 339.94000244140625),\n",
       " ('1990-04-02', 'High', '^SPX', 339.94000244140625),\n",
       " ('1990-04-02', 'Low', '^SPX', 336.3299865722656),\n",
       " ('1990-04-02', 'Close', '^SPX', 338.70001220703125),\n",
       " ('1990-04-02', 'Volume', '^SPX', 124360000.0),\n",
       " ('1990-04-03', 'Open', '^IXIC', 434.70001220703125),\n",
       " ('1990-04-03', 'High', '^IXIC', 437.70001220703125),\n",
       " ('1990-04-03', 'Low', '^IXIC', 434.0),\n",
       " ('1990-04-03', 'Close', '^IXIC', 437.70001220703125),\n",
       " ('1990-04-03', 'Volume', '^IXIC', 134750000.0),\n",
       " ('1990-04-03', 'Open', '^RUT', 162.33999633789062),\n",
       " ('1990-04-03', 'High', '^RUT', 163.44000244140625),\n",
       " ('1990-04-03', 'Low', '^RUT', 162.33999633789062),\n",
       " ('1990-04-03', 'Close', '^RUT', 163.39999389648438),\n",
       " ('1990-04-03', 'Volume', '^RUT', 154310000.0),\n",
       " ('1990-04-03', 'Open', '^SPX', 338.70001220703125),\n",
       " ('1990-04-03', 'High', '^SPX', 343.760009765625),\n",
       " ('1990-04-03', 'Low', '^SPX', 338.70001220703125),\n",
       " ('1990-04-03', 'Close', '^SPX', 343.6400146484375),\n",
       " ('1990-04-03', 'Volume', '^SPX', 154310000.0),\n",
       " ('1990-04-04', 'Open', '^IXIC', 438.20001220703125),\n",
       " ('1990-04-04', 'High', '^IXIC', 438.29998779296875),\n",
       " ('1990-04-04', 'Low', '^IXIC', 434.8999938964844),\n",
       " ('1990-04-04', 'Close', '^IXIC', 435.3999938964844),\n",
       " ('1990-04-04', 'Volume', '^IXIC', 138380000.0),\n",
       " ('1990-04-04', 'Open', '^RUT', 163.38999938964844),\n",
       " ('1990-04-04', 'High', '^RUT', 163.6699981689453),\n",
       " ('1990-04-04', 'Low', '^RUT', 162.75999450683594),\n",
       " ('1990-04-04', 'Close', '^RUT', 162.83999633789062),\n",
       " ('1990-04-04', 'Volume', '^RUT', 159530000.0),\n",
       " ('1990-04-04', 'Open', '^SPX', 343.6400146484375),\n",
       " ('1990-04-04', 'High', '^SPX', 344.1199951171875),\n",
       " ('1990-04-04', 'Low', '^SPX', 340.3999938964844),\n",
       " ('1990-04-04', 'Close', '^SPX', 341.0899963378906),\n",
       " ('1990-04-04', 'Volume', '^SPX', 159530000.0),\n",
       " ('1990-04-05', 'Open', '^IXIC', 433.4200134277344),\n",
       " ('1990-04-05', 'High', '^IXIC', 433.4200134277344),\n",
       " ('1990-04-05', 'Low', '^IXIC', 433.4200134277344),\n",
       " ('1990-04-05', 'Close', '^IXIC', 433.4200134277344),\n",
       " ('1990-04-05', 'Volume', '^IXIC', 134240000.0),\n",
       " ('1990-04-05', 'Open', '^RUT', 162.83999633789062),\n",
       " ('1990-04-05', 'High', '^RUT', 163.13999938964844),\n",
       " ('1990-04-05', 'Low', '^RUT', 162.72000122070312),\n",
       " ('1990-04-05', 'Close', '^RUT', 162.77999877929688),\n",
       " ('1990-04-05', 'Volume', '^RUT', 144170000.0),\n",
       " ...]"
      ]
     },
     "execution_count": 21,
     "metadata": {},
     "output_type": "execute_result"
    }
   ],
   "source": [
    "records"
   ]
  },
  {
   "cell_type": "code",
   "execution_count": 22,
   "id": "99da2be33d91d66b",
   "metadata": {
    "ExecuteTime": {
     "end_time": "2025-02-15T09:20:35.931927Z",
     "start_time": "2025-02-15T09:20:35.662490Z"
    }
   },
   "outputs": [
    {
     "data": {
      "text/plain": [
       "<sqlite3.Cursor at 0x26fbe4c5f40>"
      ]
     },
     "execution_count": 22,
     "metadata": {},
     "output_type": "execute_result"
    }
   ],
   "source": [
    "cursor.executemany(\n",
    "    \"insert or ignore into stock_prices (date, field, ticker, value) values (?, ?, ?, ?)\", \n",
    "    records\n",
    ")"
   ]
  },
  {
   "cell_type": "code",
   "execution_count": 23,
   "id": "5a7b1f02900294df",
   "metadata": {
    "ExecuteTime": {
     "end_time": "2025-02-15T09:21:13.007971Z",
     "start_time": "2025-02-15T09:21:13.002578Z"
    }
   },
   "outputs": [],
   "source": [
    "conn.commit() # commit 실행 => 모든 작업이 정상적으로 처리되었음을 알려주고 처리 내용을 모두 저장하는 메소드"
   ]
  },
  {
   "cell_type": "code",
   "execution_count": 24,
   "id": "f12c2193b1a0654f",
   "metadata": {
    "ExecuteTime": {
     "end_time": "2025-02-15T09:21:41.629797Z",
     "start_time": "2025-02-15T09:21:41.625977Z"
    }
   },
   "outputs": [
    {
     "name": "stdout",
     "output_type": "stream",
     "text": [
      "         date   field ticker         value\n",
      "0  1990-01-02    Open  ^IXIC  4.529000e+02\n",
      "1  1990-01-02    High  ^IXIC  4.593000e+02\n",
      "2  1990-01-02     Low  ^IXIC  4.527000e+02\n",
      "3  1990-01-02   Close  ^IXIC  4.593000e+02\n",
      "4  1990-01-02  Volume  ^IXIC  1.107200e+08\n",
      "5  1990-01-02    Open   ^RUT  1.683100e+02\n",
      "6  1990-01-02    High   ^RUT  1.699600e+02\n",
      "7  1990-01-02     Low   ^RUT  1.682200e+02\n",
      "8  1990-01-02   Close   ^RUT  1.699500e+02\n",
      "9  1990-01-02  Volume   ^RUT  1.620700e+08\n"
     ]
    }
   ],
   "source": [
    "df = pd.read_sql(\"SELECT * FROM stock_prices LIMIT 10\", conn) # 저장된 데이터를 확인\n",
    "print(df)"
   ]
  },
  {
   "cell_type": "code",
   "execution_count": 25,
   "id": "578b5aada366a35a",
   "metadata": {
    "ExecuteTime": {
     "end_time": "2025-02-15T09:21:55.474144Z",
     "start_time": "2025-02-15T09:21:55.472100Z"
    }
   },
   "outputs": [],
   "source": [
    "conn.close() # 데이터 연결 종료"
   ]
  },
  {
   "cell_type": "markdown",
   "id": "1f93e32d3cfa71ff",
   "metadata": {},
   "source": [
    "#### 1.3 DCL (Data Control Language)\n",
    "\n",
    "DCL은 데이터베이스에 대한 접근 권한을 관리하고 보안을 유지하는 데 사용된다. 대표적인 명령어로는 권한을 부여하는 `GRANT`와 권한을 회수하는 `REVOKE`가 있다. 예를 들어, 특정 사용자에게 주식 데이터베이스의 읽기 권한만 부여하거나, 수정 권한을 제한할 수 있다. \n",
    "\n",
    "DCL은 데이터베이스의 무단 접근을 방지하고, 데이터의 기밀성을 보장하는 데 중요한 역할을 한다. 금융 데이터베이스에서는 민감한 데이터에 대한 접근을 통제해 데이터 유출이나 보안 사고를 예방할 수 있다. 또한, 데이터베이스 관리자는 사용자의 역할(Role)을 설정하고, 각 역할에 적합한 권한을 할당할 수 있다. 따라서 DCL은 데이터 무결성과 신뢰성을 유지하는 데 필수적이다. 데이터 보호가 중요한 환경에서는 DCL 명령어를 활용한 권한 관리를 정기적으로 점검해야 한다.\n",
    "\n",
    "여기서는 데이터 적재 및 관리와 거리가 멀기 때문에 따로 다루지는 않도록 한다."
   ]
  },
  {
   "cell_type": "markdown",
   "id": "ac01beab99b2c113",
   "metadata": {},
   "source": [
    "### 2. Rules of Data Management\n",
    "\n",
    "Data Base에서 무결성과 제약 조건은 반드시 지켜져야 하는 약속이다. 무결성과 제약 조건은 무엇인지 알아보자."
   ]
  },
  {
   "cell_type": "markdown",
   "id": "818366626e21f52d",
   "metadata": {},
   "source": [
    "#### 2.1 Data Integrity\n",
    "\n",
    "데이터베이스에 저장된 데이터 값과 사용자가 의도한 데이터 값은 일치헤야 한다. 또한, 데이터는 정확성, 유효성, 일관성, 신뢰성이 지켜져야 하며, 이를 어기는 잘못된 입력과 갱신 또는 삭제로부터 보호되어야 한다. 예를 들어, 특정 종목의 코드 또는 Ticker는 식별자이기 때문에 identification과 같으므로 유일한 값이어야 한다. 그러나, key 값에 중복 값이 입력되거나 `NULL`값이 입력된다면 데이터 식별에 큰 문제가 생길 수 있다. 둘째로, 숫자로 이뤄진 컬럼에 'two'와 같은 문자열이 들어가는 경우 이 값을 숫자로 인정해야 할지 말아야 할지 어렵게 된다.\n",
    "\n",
    "이처럼, 데이터베이스의 관리 규칙이 지켜지지 않으면 데이터베이스 시스템을 운영하는 데 큰 혼란이 올 수 있다. 데이터베이스의 데이터는 사용자의 목적에 맞게 입력되고 저장되어야 하며, **규칙을 위반하지 말아야** 한다. 이를 위해 DB system은 데이터에 접근하거나 데이터를 처리할 때마다 부적절한 데이터가 입력되는지 검사하여 데이터가 결점이 없는 것을 검사한다. 이 기본 규칙을 Data Integrity라고 한다.\n",
    "\n",
    "|유형| 설명                                                                                                                                       |\n",
    "|:---:|:-----------------------------------------------------------------------------------------------------------------------------------------|\n",
    "|Entity Integrity| primary key로 선택된 열은 고유해야 하며, NULL값을 가질 수 없다.                                                                                             |\n",
    "|Reference Integrity| primary key와 foreign key의 관계이다. <br> 외래 키가 있는 테이블의 경우, 기본 키와 외래 키 간의 관계가 항상 유지됨을 보장한다. <br> 참조하는 외래 키가 존재하면 행은 삭제될 수 없고, 기본 키도 변경될 수 없다. |\n",
    "|Domain Integrity| 데이터 형태, 범위, 기본값, 유일성에 관한 제한이다. <br> 주어진 속상 값은 그 속성이 정의된 도메인에 속한 값이어야 한다.                                                                 |\n",
    "|Business Integrity| 사용자의 업무 규칙에 따른 비즈니스적인 제약 조건이다                                                                                                            |"
   ]
  },
  {
   "cell_type": "markdown",
   "id": "73481ef3d0acbd17",
   "metadata": {},
   "source": [
    "#### 2.2 Constraint \n",
    "\n",
    "제약 조건이란, 정해 놓은 규칙에 맞는 데이터만 입력받고 규칙에 어긋나는 데이터는 거부하여 데이터 무결성을 지키는 방법이다. 대표적인 제약 조건의 종류는 다음과 같다.\n",
    "\n",
    "##### 1. Primary Key Constraint\n",
    "\n",
    "`UNIQUE` + `NOT NULL`을 만족해야 한다. 또한, 테이블을 대표하여 각 행을 유일하게 식별하는 값이어야 한다."
   ]
  },
  {
   "cell_type": "code",
   "execution_count": 22,
   "id": "d94b82df47c1df99",
   "metadata": {
    "ExecuteTime": {
     "end_time": "2025-02-15T09:25:36.221862Z",
     "start_time": "2025-02-15T09:25:36.219370Z"
    }
   },
   "outputs": [],
   "source": [
    "conn = sqlite3.connect(DB_PATH)\n",
    "cursor = conn.cursor()"
   ]
  },
  {
   "cell_type": "code",
   "execution_count": 23,
   "id": "7ec16fd03c3996d",
   "metadata": {
    "ExecuteTime": {
     "end_time": "2025-02-15T09:26:58.351343Z",
     "start_time": "2025-02-15T09:26:58.348919Z"
    }
   },
   "outputs": [],
   "source": [
    "cursor.execute(\"PRAGMA table_info(stock_prices);\") # table 내의 primary key 가져오기\n",
    "columns = cursor.fetchall()"
   ]
  },
  {
   "cell_type": "code",
   "execution_count": 24,
   "id": "7afa641da5a3b403",
   "metadata": {
    "ExecuteTime": {
     "end_time": "2025-02-15T09:27:03.914856Z",
     "start_time": "2025-02-15T09:27:03.912111Z"
    }
   },
   "outputs": [
    {
     "data": {
      "text/plain": [
       "[(0, 'date', 'DATE', 1, None, 1),\n",
       " (1, 'field', 'VARCHAR(10)', 1, None, 2),\n",
       " (2, 'ticker', 'VARCHAR(10)', 1, None, 3),\n",
       " (3, 'value', 'REAL', 1, None, 0)]"
      ]
     },
     "execution_count": 24,
     "metadata": {},
     "output_type": "execute_result"
    }
   ],
   "source": [
    "columns"
   ]
  },
  {
   "cell_type": "markdown",
   "id": "5b4945e7b4767296",
   "metadata": {},
   "source": [
    "##### 2. Foreign Key Constraint\n",
    "\n",
    "열 값이 부모 테이블의 참조 열을 반드시 참조해야 한다. 참조되는 열은 `UNIQUE`하거나 `PRIMARY KEY`이다"
   ]
  },
  {
   "cell_type": "code",
   "execution_count": 25,
   "id": "12cb7015c3073c3f",
   "metadata": {
    "ExecuteTime": {
     "end_time": "2025-02-15T09:34:24.325360Z",
     "start_time": "2025-02-15T09:34:24.320696Z"
    }
   },
   "outputs": [
    {
     "data": {
      "text/plain": [
       "<sqlite3.Cursor at 0x24a55af7940>"
      ]
     },
     "execution_count": 25,
     "metadata": {},
     "output_type": "execute_result"
    }
   ],
   "source": [
    "cursor.execute(\n",
    "    \"\"\"\n",
    "    create table if not exists ticker_info (\n",
    "        number integer primary key autoincrement, \n",
    "        ticker varchar(10) not null\n",
    "    )\n",
    "    \"\"\"\n",
    ")"
   ]
  },
  {
   "cell_type": "code",
   "execution_count": 26,
   "id": "d2db4db8092c293f",
   "metadata": {
    "ExecuteTime": {
     "end_time": "2025-02-15T09:34:24.692343Z",
     "start_time": "2025-02-15T09:34:24.689781Z"
    }
   },
   "outputs": [],
   "source": [
    "cursor.executemany(\n",
    "    \"insert or ignore into ticker_info (ticker) values (?)\", \n",
    "    [(ticker,) for ticker in TICKERS]\n",
    ")\n",
    "conn.commit()"
   ]
  },
  {
   "cell_type": "code",
   "execution_count": 27,
   "id": "5ba10a1b50c0bf3d",
   "metadata": {
    "ExecuteTime": {
     "end_time": "2025-02-15T09:34:25.634146Z",
     "start_time": "2025-02-15T09:34:25.631662Z"
    }
   },
   "outputs": [
    {
     "name": "stdout",
     "output_type": "stream",
     "text": [
      "[(1, '^SPX'), (2, '^IXIC'), (3, '^RUT'), (4, '^DJI'), (5, '^XAX')]\n"
     ]
    }
   ],
   "source": [
    "cursor.execute(\"SELECT * FROM ticker_info;\")\n",
    "print(cursor.fetchall())"
   ]
  },
  {
   "cell_type": "code",
   "execution_count": 28,
   "id": "db8585d830a21438",
   "metadata": {
    "ExecuteTime": {
     "end_time": "2025-02-15T09:35:09.203Z",
     "start_time": "2025-02-15T09:35:09.200608Z"
    }
   },
   "outputs": [],
   "source": [
    "cursor.execute(\"SELECT * FROM ticker_info;\")\n",
    "ticker_info = cursor.fetchall()"
   ]
  },
  {
   "cell_type": "code",
   "execution_count": 29,
   "id": "8513fe9d75f5f58",
   "metadata": {
    "ExecuteTime": {
     "end_time": "2025-02-15T09:35:09.657900Z",
     "start_time": "2025-02-15T09:35:09.655826Z"
    }
   },
   "outputs": [
    {
     "data": {
      "text/plain": [
       "[(1, '^SPX'), (2, '^IXIC'), (3, '^RUT'), (4, '^DJI'), (5, '^XAX')]"
      ]
     },
     "execution_count": 29,
     "metadata": {},
     "output_type": "execute_result"
    }
   ],
   "source": [
    "ticker_info"
   ]
  },
  {
   "cell_type": "markdown",
   "id": "7d4369b9978d5e81",
   "metadata": {},
   "source": [
    "`join` keyword를 사용하면 ticker info로부터 저장된 티커를 참조하여 stock prices의 value를 가져올 수 있다.\n",
    "`where`문은 조건을 추가해주는 역할을 함"
   ]
  },
  {
   "cell_type": "code",
   "execution_count": 30,
   "id": "57ab2e7031f30181",
   "metadata": {
    "ExecuteTime": {
     "end_time": "2025-02-15T09:39:01.591231Z",
     "start_time": "2025-02-15T09:39:01.588631Z"
    }
   },
   "outputs": [
    {
     "data": {
      "text/plain": [
       "<sqlite3.Cursor at 0x24a55af7940>"
      ]
     },
     "execution_count": 30,
     "metadata": {},
     "output_type": "execute_result"
    }
   ],
   "source": [
    "cursor.execute(\n",
    "    \"\"\"\n",
    "    select stock_prices.date, stock_prices.field, stock_prices.ticker, stock_prices.value\n",
    "    from stock_prices\n",
    "    join ticker_info ON stock_prices.ticker = ticker_info.ticker\n",
    "    where stock_prices.ticker = '^SPX'\n",
    "    \"\"\"\n",
    ")"
   ]
  },
  {
   "cell_type": "code",
   "execution_count": 31,
   "id": "fd72fa45744aa4b4",
   "metadata": {
    "ExecuteTime": {
     "end_time": "2025-02-15T09:39:02.927103Z",
     "start_time": "2025-02-15T09:39:02.847238Z"
    }
   },
   "outputs": [
    {
     "data": {
      "text/html": [
       "<div>\n",
       "<style scoped>\n",
       "    .dataframe tbody tr th:only-of-type {\n",
       "        vertical-align: middle;\n",
       "    }\n",
       "\n",
       "    .dataframe tbody tr th {\n",
       "        vertical-align: top;\n",
       "    }\n",
       "\n",
       "    .dataframe thead th {\n",
       "        text-align: right;\n",
       "    }\n",
       "</style>\n",
       "<table border=\"1\" class=\"dataframe\">\n",
       "  <thead>\n",
       "    <tr style=\"text-align: right;\">\n",
       "      <th></th>\n",
       "      <th>0</th>\n",
       "      <th>1</th>\n",
       "      <th>2</th>\n",
       "      <th>3</th>\n",
       "    </tr>\n",
       "  </thead>\n",
       "  <tbody>\n",
       "    <tr>\n",
       "      <th>0</th>\n",
       "      <td>1990-01-02</td>\n",
       "      <td>Open</td>\n",
       "      <td>^SPX</td>\n",
       "      <td>3.534000e+02</td>\n",
       "    </tr>\n",
       "    <tr>\n",
       "      <th>1</th>\n",
       "      <td>1990-01-02</td>\n",
       "      <td>High</td>\n",
       "      <td>^SPX</td>\n",
       "      <td>3.596900e+02</td>\n",
       "    </tr>\n",
       "    <tr>\n",
       "      <th>2</th>\n",
       "      <td>1990-01-02</td>\n",
       "      <td>Low</td>\n",
       "      <td>^SPX</td>\n",
       "      <td>3.519800e+02</td>\n",
       "    </tr>\n",
       "    <tr>\n",
       "      <th>3</th>\n",
       "      <td>1990-01-02</td>\n",
       "      <td>Close</td>\n",
       "      <td>^SPX</td>\n",
       "      <td>3.596900e+02</td>\n",
       "    </tr>\n",
       "    <tr>\n",
       "      <th>4</th>\n",
       "      <td>1990-01-02</td>\n",
       "      <td>Volume</td>\n",
       "      <td>^SPX</td>\n",
       "      <td>1.620700e+08</td>\n",
       "    </tr>\n",
       "    <tr>\n",
       "      <th>...</th>\n",
       "      <td>...</td>\n",
       "      <td>...</td>\n",
       "      <td>...</td>\n",
       "      <td>...</td>\n",
       "    </tr>\n",
       "    <tr>\n",
       "      <th>44345</th>\n",
       "      <td>2025-03-20</td>\n",
       "      <td>Open</td>\n",
       "      <td>^SPX</td>\n",
       "      <td>5.646920e+03</td>\n",
       "    </tr>\n",
       "    <tr>\n",
       "      <th>44346</th>\n",
       "      <td>2025-03-20</td>\n",
       "      <td>High</td>\n",
       "      <td>^SPX</td>\n",
       "      <td>5.711150e+03</td>\n",
       "    </tr>\n",
       "    <tr>\n",
       "      <th>44347</th>\n",
       "      <td>2025-03-20</td>\n",
       "      <td>Low</td>\n",
       "      <td>^SPX</td>\n",
       "      <td>5.632330e+03</td>\n",
       "    </tr>\n",
       "    <tr>\n",
       "      <th>44348</th>\n",
       "      <td>2025-03-20</td>\n",
       "      <td>Close</td>\n",
       "      <td>^SPX</td>\n",
       "      <td>5.662890e+03</td>\n",
       "    </tr>\n",
       "    <tr>\n",
       "      <th>44349</th>\n",
       "      <td>2025-03-20</td>\n",
       "      <td>Volume</td>\n",
       "      <td>^SPX</td>\n",
       "      <td>4.678420e+09</td>\n",
       "    </tr>\n",
       "  </tbody>\n",
       "</table>\n",
       "<p>44350 rows × 4 columns</p>\n",
       "</div>"
      ],
      "text/plain": [
       "                0       1     2             3\n",
       "0      1990-01-02    Open  ^SPX  3.534000e+02\n",
       "1      1990-01-02    High  ^SPX  3.596900e+02\n",
       "2      1990-01-02     Low  ^SPX  3.519800e+02\n",
       "3      1990-01-02   Close  ^SPX  3.596900e+02\n",
       "4      1990-01-02  Volume  ^SPX  1.620700e+08\n",
       "...           ...     ...   ...           ...\n",
       "44345  2025-03-20    Open  ^SPX  5.646920e+03\n",
       "44346  2025-03-20    High  ^SPX  5.711150e+03\n",
       "44347  2025-03-20     Low  ^SPX  5.632330e+03\n",
       "44348  2025-03-20   Close  ^SPX  5.662890e+03\n",
       "44349  2025-03-20  Volume  ^SPX  4.678420e+09\n",
       "\n",
       "[44350 rows x 4 columns]"
      ]
     },
     "execution_count": 31,
     "metadata": {},
     "output_type": "execute_result"
    }
   ],
   "source": [
    "pd.DataFrame(cursor.fetchall())"
   ]
  },
  {
   "cell_type": "markdown",
   "id": "a83fafd5c65dc90a",
   "metadata": {},
   "source": [
    "`where` 조건을 두 개 이상 사용해 특정 티커의 수정 종가만 불러올 수 있다.\n",
    "\n",
    "`JOIN`은 판다스의 JOIN 메소드와 비슷하다. on은 join의 조건을 의미하며, where을 이용해 데이터 검색 조건을 추가할 수 있다."
   ]
  },
  {
   "cell_type": "code",
   "execution_count": 32,
   "id": "9144e8bdbbc6c4e0",
   "metadata": {
    "ExecuteTime": {
     "end_time": "2025-02-15T09:41:01.409739Z",
     "start_time": "2025-02-15T09:41:01.405685Z"
    }
   },
   "outputs": [
    {
     "data": {
      "text/plain": [
       "<sqlite3.Cursor at 0x24a55af7940>"
      ]
     },
     "execution_count": 32,
     "metadata": {},
     "output_type": "execute_result"
    }
   ],
   "source": [
    "cursor.execute(\n",
    "    \"\"\"\n",
    "    select stock_prices.date, stock_prices.field, stock_prices.ticker, stock_prices.value\n",
    "    from stock_prices\n",
    "    join ticker_info ON stock_prices.ticker = ticker_info.ticker\n",
    "    where stock_prices.ticker = '^SPX' and stock_prices.field = 'Adj Close'\n",
    "    \"\"\"\n",
    ")"
   ]
  },
  {
   "cell_type": "code",
   "execution_count": 33,
   "id": "43669f8dbe449c2",
   "metadata": {
    "ExecuteTime": {
     "end_time": "2025-02-15T09:41:18.694786Z",
     "start_time": "2025-02-15T09:41:18.642408Z"
    }
   },
   "outputs": [],
   "source": [
    "adj_close = pd.DataFrame(cursor.fetchall())"
   ]
  },
  {
   "cell_type": "code",
   "execution_count": 34,
   "id": "6fe711a81cb13f6b",
   "metadata": {
    "ExecuteTime": {
     "end_time": "2025-02-15T09:41:41.191149Z",
     "start_time": "2025-02-15T09:41:41.186447Z"
    }
   },
   "outputs": [
    {
     "data": {
      "text/html": [
       "<div>\n",
       "<style scoped>\n",
       "    .dataframe tbody tr th:only-of-type {\n",
       "        vertical-align: middle;\n",
       "    }\n",
       "\n",
       "    .dataframe tbody tr th {\n",
       "        vertical-align: top;\n",
       "    }\n",
       "\n",
       "    .dataframe thead th {\n",
       "        text-align: right;\n",
       "    }\n",
       "</style>\n",
       "<table border=\"1\" class=\"dataframe\">\n",
       "  <thead>\n",
       "    <tr style=\"text-align: right;\">\n",
       "      <th></th>\n",
       "    </tr>\n",
       "  </thead>\n",
       "  <tbody>\n",
       "  </tbody>\n",
       "</table>\n",
       "</div>"
      ],
      "text/plain": [
       "Empty DataFrame\n",
       "Columns: []\n",
       "Index: []"
      ]
     },
     "execution_count": 34,
     "metadata": {},
     "output_type": "execute_result"
    }
   ],
   "source": [
    "adj_close.head()"
   ]
  },
  {
   "cell_type": "markdown",
   "id": "5bd3cbb229e778d8",
   "metadata": {},
   "source": [
    "##### 3. Unique Key Constraint\n",
    "\n",
    "중복된 값을 허용하지 않는다. 유일한 값으로 존재해야 한다."
   ]
  },
  {
   "cell_type": "markdown",
   "id": "1f468b5f53008be2",
   "metadata": {},
   "source": [
    "##### 4. Not NULL Constraint\n",
    "\n",
    "`NULL` 값을 허용하지 않는다. 반드시 값을 입력해야 한다."
   ]
  },
  {
   "cell_type": "code",
   "execution_count": 35,
   "id": "80bfa5cd98e929cb",
   "metadata": {
    "ExecuteTime": {
     "end_time": "2025-02-15T09:28:20.407916Z",
     "start_time": "2025-02-15T09:28:20.404375Z"
    }
   },
   "outputs": [
    {
     "data": {
      "text/plain": [
       "[('2025-02-14', 'Close', '^DJI', 44546.078125),\n",
       " ('2025-02-14', 'Close', '^IXIC', 20026.76953125),\n",
       " ('2025-02-14', 'Close', '^RUT', 2279.97998046875),\n",
       " ('2025-02-14', 'Close', '^SPX', 6114.6298828125),\n",
       " ('2025-02-14', 'Close', '^XAX', 5100.7099609375),\n",
       " ('2025-02-14', 'High', '^DJI', 44769.05078125),\n",
       " ('2025-02-14', 'High', '^IXIC', 20045.759765625),\n",
       " ('2025-02-14', 'High', '^RUT', 2297.7099609375),\n",
       " ('2025-02-14', 'High', '^SPX', 6127.47021484375),\n",
       " ('2025-02-14', 'High', '^XAX', 5204.830078125),\n",
       " ('2025-02-14', 'Low', '^DJI', 44498.9609375),\n",
       " ('2025-02-14', 'Low', '^IXIC', 19932.150390625),\n",
       " ('2025-02-14', 'Low', '^RUT', 2276.6298828125),\n",
       " ('2025-02-14', 'Low', '^SPX', 6107.6201171875),\n",
       " ('2025-02-14', 'Low', '^XAX', 5088.31005859375),\n",
       " ('2025-02-14', 'Open', '^DJI', 44720.98828125),\n",
       " ('2025-02-14', 'Open', '^IXIC', 19956.8203125),\n",
       " ('2025-02-14', 'Open', '^RUT', 2287.85009765625),\n",
       " ('2025-02-14', 'Open', '^SPX', 6115.52001953125),\n",
       " ('2025-02-14', 'Open', '^XAX', 5140.9501953125),\n",
       " ('2025-02-14', 'Volume', '^DJI', 474570000.0),\n",
       " ('2025-02-14', 'Volume', '^IXIC', 7995720000.0),\n",
       " ('2025-02-14', 'Volume', '^RUT', 4335190000.0),\n",
       " ('2025-02-14', 'Volume', '^SPX', 4335190000.0),\n",
       " ('2025-02-14', 'Volume', '^XAX', 0.0)]"
      ]
     },
     "execution_count": 35,
     "metadata": {},
     "output_type": "execute_result"
    }
   ],
   "source": [
    "cursor.execute(\n",
    "    \"\"\"\n",
    "    SELECT * FROM stock_prices WHERE date = '2025-02-14'\n",
    "    \"\"\"\n",
    ")\n",
    "cursor.fetchall()"
   ]
  },
  {
   "cell_type": "code",
   "execution_count": 26,
   "id": "e4d0b6ab46a388e5",
   "metadata": {
    "ExecuteTime": {
     "end_time": "2025-02-15T09:42:02.201410Z",
     "start_time": "2025-02-15T09:42:02.199053Z"
    }
   },
   "outputs": [],
   "source": [
    "conn.close()  # 요거 안해서 Isolation에 걸려서 Lock이 걸려버리는 경우가 존재!"
   ]
  },
  {
   "cell_type": "code",
   "execution_count": null,
   "id": "b055dc72",
   "metadata": {},
   "outputs": [],
   "source": [
    "import pandas_datareader as pdr\n",
    "pdr.Datareader('naevr', 00)"
   ]
  },
  {
   "cell_type": "markdown",
   "id": "c3a9956f",
   "metadata": {},
   "source": [
    "#### Exercise 1"
   ]
  },
  {
   "cell_type": "markdown",
   "id": "3fce8576",
   "metadata": {},
   "source": [
    "관심있는 종목 데이터를 수집하고 수익률을 계산한 뒤 데이터와 수익률을 db에 저장해봅시다"
   ]
  },
  {
   "cell_type": "code",
   "execution_count": 37,
   "id": "fff0d9d5",
   "metadata": {},
   "outputs": [],
   "source": [
    "TICKERS = ['^SPX','^IXIC','^RUT','^DJI','^XAX']\n",
    "START_DATE = '1990-01-01'"
   ]
  },
  {
   "cell_type": "code",
   "execution_count": 38,
   "id": "9e103a78",
   "metadata": {},
   "outputs": [],
   "source": [
    "import yfinance as yf\n",
    "df= yf.download(\n",
    "    TICKERS,\n",
    "    start = START_DATE,\n",
    "    end = '2025-02-22',\n",
    "    interval = '1d', # 데이터 추출 빈도 (기본값 : 1일)\n",
    "    progress = False, # 다운로드 시 progress bar 표시 여부\n",
    "    auto_adjust = True, \n",
    "    multi_level_index = False # Multi Index형태의 컬럼 지정 해제\n",
    ")"
   ]
  },
  {
   "cell_type": "code",
   "execution_count": 39,
   "id": "658c7262",
   "metadata": {},
   "outputs": [],
   "source": [
    "import re\n",
    "\n",
    "df.dropna(inplace=True)\n",
    "df=df.squeeze(axis=1)\n",
    "df_Close=df.Close\n",
    "\n",
    "TICKERS = df.Close.columns\n",
    "cleaned_tickers = [re.sub(r'[^a-zA-Z]', '', ticker) for ticker in TICKERS]\n",
    "df_Close.columns=cleaned_tickers"
   ]
  },
  {
   "cell_type": "code",
   "execution_count": 40,
   "id": "44dfb8bc",
   "metadata": {},
   "outputs": [],
   "source": [
    "df_ret=np.log(df_Close)-np.log(df_Close.shift(1))\n",
    "df_ret=df_ret.dropna()\n",
    "\n",
    "df_ret.columns=cleaned_tickers"
   ]
  },
  {
   "cell_type": "code",
   "execution_count": 41,
   "id": "17888c08",
   "metadata": {},
   "outputs": [
    {
     "data": {
      "text/html": [
       "<div>\n",
       "<style scoped>\n",
       "    .dataframe tbody tr th:only-of-type {\n",
       "        vertical-align: middle;\n",
       "    }\n",
       "\n",
       "    .dataframe tbody tr th {\n",
       "        vertical-align: top;\n",
       "    }\n",
       "\n",
       "    .dataframe thead th {\n",
       "        text-align: right;\n",
       "    }\n",
       "</style>\n",
       "<table border=\"1\" class=\"dataframe\">\n",
       "  <thead>\n",
       "    <tr style=\"text-align: right;\">\n",
       "      <th></th>\n",
       "      <th>DJI</th>\n",
       "      <th>Return</th>\n",
       "    </tr>\n",
       "    <tr>\n",
       "      <th>Date</th>\n",
       "      <th></th>\n",
       "      <th></th>\n",
       "    </tr>\n",
       "  </thead>\n",
       "  <tbody>\n",
       "    <tr>\n",
       "      <th>1995-12-28</th>\n",
       "      <td>5095.799805</td>\n",
       "      <td>-0.001984</td>\n",
       "    </tr>\n",
       "    <tr>\n",
       "      <th>1995-12-29</th>\n",
       "      <td>5117.120117</td>\n",
       "      <td>0.004175</td>\n",
       "    </tr>\n",
       "    <tr>\n",
       "      <th>1996-01-02</th>\n",
       "      <td>5177.450195</td>\n",
       "      <td>0.011721</td>\n",
       "    </tr>\n",
       "    <tr>\n",
       "      <th>1996-01-03</th>\n",
       "      <td>5194.069824</td>\n",
       "      <td>0.003205</td>\n",
       "    </tr>\n",
       "    <tr>\n",
       "      <th>1996-01-04</th>\n",
       "      <td>5173.839844</td>\n",
       "      <td>-0.003902</td>\n",
       "    </tr>\n",
       "    <tr>\n",
       "      <th>...</th>\n",
       "      <td>...</td>\n",
       "      <td>...</td>\n",
       "    </tr>\n",
       "    <tr>\n",
       "      <th>2025-02-14</th>\n",
       "      <td>44546.078125</td>\n",
       "      <td>-0.003705</td>\n",
       "    </tr>\n",
       "    <tr>\n",
       "      <th>2025-02-18</th>\n",
       "      <td>44556.339844</td>\n",
       "      <td>0.000230</td>\n",
       "    </tr>\n",
       "    <tr>\n",
       "      <th>2025-02-19</th>\n",
       "      <td>44627.589844</td>\n",
       "      <td>0.001598</td>\n",
       "    </tr>\n",
       "    <tr>\n",
       "      <th>2025-02-20</th>\n",
       "      <td>44176.648438</td>\n",
       "      <td>-0.010156</td>\n",
       "    </tr>\n",
       "    <tr>\n",
       "      <th>2025-02-21</th>\n",
       "      <td>43428.019531</td>\n",
       "      <td>-0.017091</td>\n",
       "    </tr>\n",
       "  </tbody>\n",
       "</table>\n",
       "<p>7336 rows × 2 columns</p>\n",
       "</div>"
      ],
      "text/plain": [
       "                     DJI    Return\n",
       "Date                              \n",
       "1995-12-28   5095.799805 -0.001984\n",
       "1995-12-29   5117.120117  0.004175\n",
       "1996-01-02   5177.450195  0.011721\n",
       "1996-01-03   5194.069824  0.003205\n",
       "1996-01-04   5173.839844 -0.003902\n",
       "...                  ...       ...\n",
       "2025-02-14  44546.078125 -0.003705\n",
       "2025-02-18  44556.339844  0.000230\n",
       "2025-02-19  44627.589844  0.001598\n",
       "2025-02-20  44176.648438 -0.010156\n",
       "2025-02-21  43428.019531 -0.017091\n",
       "\n",
       "[7336 rows x 2 columns]"
      ]
     },
     "execution_count": 41,
     "metadata": {},
     "output_type": "execute_result"
    }
   ],
   "source": [
    "Datas=[]\n",
    "for ticker in df_Close.columns:\n",
    "    globals()[str(ticker)]=pd.concat([df_Close[ticker], df_ret[ticker]], axis=1).dropna()\n",
    "    globals()[str(ticker)].columns = [ticker, 'Return']\n",
    "    Datas.append(globals()[str(ticker)])\n",
    "\n",
    "Datas[0]"
   ]
  },
  {
   "cell_type": "code",
   "execution_count": 42,
   "id": "62679790",
   "metadata": {},
   "outputs": [],
   "source": [
    "DB_PATH = 'price_data.db'\n",
    "conn = sqlite3.connect(DB_PATH)  # DB에 연결\n",
    "cursor = conn.cursor()   # DB에 접근해 SQL을 실행가능한 상태로 변경\n",
    "tickers=cleaned_tickers\n",
    "\n",
    "for ticker in tickers:\n",
    "    query=f\"\"\"\n",
    "            CREATE table if not exists {ticker} (\n",
    "                date varchar(15),\n",
    "                price real,\n",
    "                return real,\n",
    "                primary key (date)\n",
    "            )\n",
    "        \"\"\"\n",
    "    cursor.execute(query)\n"
   ]
  },
  {
   "cell_type": "code",
   "execution_count": 43,
   "id": "167f53f5",
   "metadata": {},
   "outputs": [
    {
     "data": {
      "text/plain": [
       "['DJI', 'IXIC', 'RUT', 'SPX', 'XAX']"
      ]
     },
     "execution_count": 43,
     "metadata": {},
     "output_type": "execute_result"
    }
   ],
   "source": [
    "tickers"
   ]
  },
  {
   "cell_type": "code",
   "execution_count": 44,
   "id": "0220c214",
   "metadata": {},
   "outputs": [
    {
     "name": "stdout",
     "output_type": "stream",
     "text": [
      "DJI\n",
      "IXIC\n",
      "RUT\n",
      "SPX\n",
      "XAX\n"
     ]
    }
   ],
   "source": [
    "# '^SPX','^IXIC','^RUT'\n",
    "for Data in Datas:\n",
    "    records = []\n",
    "    ticker=Data.columns[0]\n",
    "    print(ticker)\n",
    "    for date, row in Data.iterrows():\n",
    "        records.append((str(date)[:-9], row.iloc[0], row.iloc[1]))\n",
    "    \n",
    "    cursor.executemany(f\"\"\"insert or ignore into {ticker} (date, price, return) values (?, ?, ?)\"\"\", records)\n",
    "\n",
    "conn.commit()"
   ]
  },
  {
   "cell_type": "markdown",
   "id": "4e0ac779",
   "metadata": {},
   "source": [
    "#### Exercise 2"
   ]
  },
  {
   "cell_type": "markdown",
   "id": "9baef33f",
   "metadata": {},
   "source": [
    "db에서 다시 데이터를 받아와봅시다"
   ]
  },
  {
   "cell_type": "code",
   "execution_count": 45,
   "id": "dc5f60da",
   "metadata": {},
   "outputs": [],
   "source": [
    "DB_PATH = 'price_data.db'\n",
    "conn = sqlite3.connect(DB_PATH)  # DB에 연결\n",
    "cursor = conn.cursor()   # DB에 접근해 SQL을 실행가능한 상태로 변경"
   ]
  },
  {
   "cell_type": "code",
   "execution_count": null,
   "id": "7524004f",
   "metadata": {},
   "outputs": [
    {
     "data": {
      "text/plain": [
       "['IXIC', 'RUT', 'SPX', 'DJI', 'XAX']"
      ]
     },
     "execution_count": 46,
     "metadata": {},
     "output_type": "execute_result"
    }
   ],
   "source": [
    "cursor.execute(\"SELECT name FROM sqlite_master WHERE type='table'\") # 저장된 데이터를 확인 (sqlite_master를 사용하면 테이블 이름 조회 가능)\n",
    "tables = cursor.fetchall()  # 레코드를 모두 받아오는 함수. 현재 레코드는 db에 저장된 데이터베이스의 이름을 의미한다\n",
    "tables=[table[0] for table in tables]\n",
    "tables"
   ]
  },
  {
   "cell_type": "code",
   "execution_count": 47,
   "id": "9a11c141",
   "metadata": {},
   "outputs": [
    {
     "data": {
      "text/html": [
       "<div>\n",
       "<style scoped>\n",
       "    .dataframe tbody tr th:only-of-type {\n",
       "        vertical-align: middle;\n",
       "    }\n",
       "\n",
       "    .dataframe tbody tr th {\n",
       "        vertical-align: top;\n",
       "    }\n",
       "\n",
       "    .dataframe thead th {\n",
       "        text-align: right;\n",
       "    }\n",
       "</style>\n",
       "<table border=\"1\" class=\"dataframe\">\n",
       "  <thead>\n",
       "    <tr style=\"text-align: right;\">\n",
       "      <th></th>\n",
       "      <th>price</th>\n",
       "      <th>return</th>\n",
       "    </tr>\n",
       "    <tr>\n",
       "      <th>date</th>\n",
       "      <th></th>\n",
       "      <th></th>\n",
       "    </tr>\n",
       "  </thead>\n",
       "  <tbody>\n",
       "    <tr>\n",
       "      <th>1990-01-03</th>\n",
       "      <td>460.899994</td>\n",
       "      <td>0.003478</td>\n",
       "    </tr>\n",
       "    <tr>\n",
       "      <th>1990-01-04</th>\n",
       "      <td>459.399994</td>\n",
       "      <td>-0.003260</td>\n",
       "    </tr>\n",
       "    <tr>\n",
       "      <th>1990-01-05</th>\n",
       "      <td>458.200012</td>\n",
       "      <td>-0.002615</td>\n",
       "    </tr>\n",
       "    <tr>\n",
       "      <th>1990-01-08</th>\n",
       "      <td>458.700012</td>\n",
       "      <td>0.001091</td>\n",
       "    </tr>\n",
       "    <tr>\n",
       "      <th>1990-01-09</th>\n",
       "      <td>456.799988</td>\n",
       "      <td>-0.004151</td>\n",
       "    </tr>\n",
       "    <tr>\n",
       "      <th>...</th>\n",
       "      <td>...</td>\n",
       "      <td>...</td>\n",
       "    </tr>\n",
       "    <tr>\n",
       "      <th>2025-02-14</th>\n",
       "      <td>20026.769531</td>\n",
       "      <td>0.004059</td>\n",
       "    </tr>\n",
       "    <tr>\n",
       "      <th>2025-02-18</th>\n",
       "      <td>20041.259766</td>\n",
       "      <td>0.000723</td>\n",
       "    </tr>\n",
       "    <tr>\n",
       "      <th>2025-02-19</th>\n",
       "      <td>20056.250000</td>\n",
       "      <td>0.000748</td>\n",
       "    </tr>\n",
       "    <tr>\n",
       "      <th>2025-02-20</th>\n",
       "      <td>19962.359375</td>\n",
       "      <td>-0.004692</td>\n",
       "    </tr>\n",
       "    <tr>\n",
       "      <th>2025-02-21</th>\n",
       "      <td>19524.009766</td>\n",
       "      <td>-0.022203</td>\n",
       "    </tr>\n",
       "  </tbody>\n",
       "</table>\n",
       "<p>8850 rows × 2 columns</p>\n",
       "</div>"
      ],
      "text/plain": [
       "                   price    return\n",
       "date                              \n",
       "1990-01-03    460.899994  0.003478\n",
       "1990-01-04    459.399994 -0.003260\n",
       "1990-01-05    458.200012 -0.002615\n",
       "1990-01-08    458.700012  0.001091\n",
       "1990-01-09    456.799988 -0.004151\n",
       "...                  ...       ...\n",
       "2025-02-14  20026.769531  0.004059\n",
       "2025-02-18  20041.259766  0.000723\n",
       "2025-02-19  20056.250000  0.000748\n",
       "2025-02-20  19962.359375 -0.004692\n",
       "2025-02-21  19524.009766 -0.022203\n",
       "\n",
       "[8850 rows x 2 columns]"
      ]
     },
     "execution_count": 47,
     "metadata": {},
     "output_type": "execute_result"
    }
   ],
   "source": [
    "# IXIC 데이터만 가져옴\n",
    "df = pd.read_sql(f\"SELECT * FROM {tables[0]}\", conn, index_col='date')\n",
    "df"
   ]
  },
  {
   "cell_type": "code",
   "execution_count": 48,
   "id": "b00539c1",
   "metadata": {},
   "outputs": [
    {
     "data": {
      "text/html": [
       "<div>\n",
       "<style scoped>\n",
       "    .dataframe tbody tr th:only-of-type {\n",
       "        vertical-align: middle;\n",
       "    }\n",
       "\n",
       "    .dataframe tbody tr th {\n",
       "        vertical-align: top;\n",
       "    }\n",
       "\n",
       "    .dataframe thead th {\n",
       "        text-align: right;\n",
       "    }\n",
       "</style>\n",
       "<table border=\"1\" class=\"dataframe\">\n",
       "  <thead>\n",
       "    <tr style=\"text-align: right;\">\n",
       "      <th></th>\n",
       "      <th>return</th>\n",
       "    </tr>\n",
       "    <tr>\n",
       "      <th>date</th>\n",
       "      <th></th>\n",
       "    </tr>\n",
       "  </thead>\n",
       "  <tbody>\n",
       "    <tr>\n",
       "      <th>1995-12-28</th>\n",
       "      <td>-0.000403</td>\n",
       "    </tr>\n",
       "    <tr>\n",
       "      <th>1995-12-29</th>\n",
       "      <td>0.006970</td>\n",
       "    </tr>\n",
       "    <tr>\n",
       "      <th>1996-01-02</th>\n",
       "      <td>0.005657</td>\n",
       "    </tr>\n",
       "    <tr>\n",
       "      <th>1996-01-03</th>\n",
       "      <td>0.002221</td>\n",
       "    </tr>\n",
       "    <tr>\n",
       "      <th>1996-01-04</th>\n",
       "      <td>-0.006806</td>\n",
       "    </tr>\n",
       "    <tr>\n",
       "      <th>...</th>\n",
       "      <td>...</td>\n",
       "    </tr>\n",
       "    <tr>\n",
       "      <th>2025-02-14</th>\n",
       "      <td>-0.007858</td>\n",
       "    </tr>\n",
       "    <tr>\n",
       "      <th>2025-02-18</th>\n",
       "      <td>0.014365</td>\n",
       "    </tr>\n",
       "    <tr>\n",
       "      <th>2025-02-19</th>\n",
       "      <td>0.001423</td>\n",
       "    </tr>\n",
       "    <tr>\n",
       "      <th>2025-02-20</th>\n",
       "      <td>0.013628</td>\n",
       "    </tr>\n",
       "    <tr>\n",
       "      <th>2025-02-21</th>\n",
       "      <td>-0.035830</td>\n",
       "    </tr>\n",
       "  </tbody>\n",
       "</table>\n",
       "<p>7336 rows × 1 columns</p>\n",
       "</div>"
      ],
      "text/plain": [
       "              return\n",
       "date                \n",
       "1995-12-28 -0.000403\n",
       "1995-12-29  0.006970\n",
       "1996-01-02  0.005657\n",
       "1996-01-03  0.002221\n",
       "1996-01-04 -0.006806\n",
       "...              ...\n",
       "2025-02-14 -0.007858\n",
       "2025-02-18  0.014365\n",
       "2025-02-19  0.001423\n",
       "2025-02-20  0.013628\n",
       "2025-02-21 -0.035830\n",
       "\n",
       "[7336 rows x 1 columns]"
      ]
     },
     "execution_count": 48,
     "metadata": {},
     "output_type": "execute_result"
    }
   ],
   "source": [
    "# XAX 수익률만 가져옴\n",
    "df = pd.read_sql(f\"SELECT date, return FROM {tables[4]}\", conn, index_col='date')\n",
    "df"
   ]
  },
  {
   "cell_type": "code",
   "execution_count": 49,
   "id": "2df8fe3c",
   "metadata": {},
   "outputs": [],
   "source": [
    "conn.close()"
   ]
  }
 ],
 "metadata": {
  "kernelspec": {
   "display_name": "base",
   "language": "python",
   "name": "python3"
  },
  "language_info": {
   "codemirror_mode": {
    "name": "ipython",
    "version": 3
   },
   "file_extension": ".py",
   "mimetype": "text/x-python",
   "name": "python",
   "nbconvert_exporter": "python",
   "pygments_lexer": "ipython3",
   "version": "3.11.7"
  }
 },
 "nbformat": 4,
 "nbformat_minor": 5
}
